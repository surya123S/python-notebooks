{
 "cells": [
  {
   "cell_type": "markdown",
   "metadata": {},
   "source": [
    "# MARKDOWN BASICS\n",
    "\n",
    "[Jupyter_Logo](JupyterLogo.png)\n",
    "<img src =\"JupyterLogo.png\" style= \"float:left\">\n",
    "\n",
    "\n",
    "\n",
    "\n"
   ]
  },
  {
   "cell_type": "markdown",
   "metadata": {},
   "source": [
    "# 1.Python Programminmg\n"
   ]
  },
  {
   "cell_type": "code",
   "execution_count": 1,
   "metadata": {},
   "outputs": [
    {
     "name": "stdout",
     "output_type": "stream",
     "text": [
      " Good Afternoon APSSDC ! || Hello Python Programming\n"
     ]
    }
   ],
   "source": [
    "print (\" Good Afternoon APSSDC !\" ,end= ' ||')     # Basic Output\n",
    "print(\" Hello Python Programming\")  # for Execution key is Shift+Enter that we get Output.\n"
   ]
  },
  {
   "cell_type": "markdown",
   "metadata": {},
   "source": [
    "# 2. Assingment"
   ]
  },
  {
   "cell_type": "code",
   "execution_count": 2,
   "metadata": {},
   "outputs": [
    {
     "name": "stdout",
     "output_type": "stream",
     "text": [
      "123 234 345\n"
     ]
    }
   ],
   "source": [
    " n1= 12345\n",
    " n2= n3= n4= n1 #Multiple varible assignment of the \n",
    " n2\n",
    " a, b, c= 123,234,345 #Multi Variable\n",
    " print(a, b, c)"
   ]
  },
  {
   "cell_type": "code",
   "execution_count": null,
   "metadata": {},
   "outputs": [],
   "source": []
  },
  {
   "cell_type": "markdown",
   "metadata": {},
   "source": [
    "### 3. DATA TYPES\n",
    "- Int\n",
    "- Float\n",
    "- Char\n",
    "- String\n",
    "- Double"
   ]
  },
  {
   "cell_type": "code",
   "execution_count": 3,
   "metadata": {},
   "outputs": [
    {
     "data": {
      "text/plain": [
       "1255784000397700732554595377874709099802390942513947830757850299188440335493135727162449693781844588949081787789837373200333466659392303230830047209218398375707025648275809133810007486883196625812972205521709899797540911640779764137460431956838518809940684748933837812137313284170746903602924632027186438550529498469608742057497278843280359340380910048360267900575810308181269667519536226638028463544722350153903918936001249169326205986366984138526615055469724357392976225734933578706444614587840936681195733329506571738966177910448190972921623470320754799515342588341088902794479020745887810546756250779908346013747352237730576201499122043434925407399380465309166369931344963892810343869873589971977411327510438256438614216859538659533456881594893086671971477337983333708820568345213882420409717622945470584884972255328944743837483438798207140536592319850102555784344124513852799279453631103616634481907903624486872772333332559634036400387572882133260187945134450430027605439680724609907363157310547792980291619080161841828807679235343607006769035489276375987898565911282373558918670674911608168128378009647769484222399747412628352317336973764226531120526112461301198188886568762462034022800805538912896376822404443507694298114486684345040077796653442163484760474953846892386485406022455906358768888285671142810742851945462305255492202014427702197683728547493936673516074620260062053920060658674899628637551722362518587930911453271837497139486102531572202276264288052265923000281304599239967242726193058615085360644772112298194610546870647060409634502193161603494734292412264556821292118950123927340745302527461323916649105389660974816516606030252989761278011280899302430581590223222467828316320388032112973359078924701469166671518654883198017056401372067225656745570920784663672509613394192416686613825329303576223962549407253698207333658869635279633913200918580967306585954238896771028686975578258814198072398696037711704186192244949006409702268929600308758024502322637620208476611319921927170859092724038884703522931723736732124174291086720336535505289315075970173906215317178738459968442243463770274931110819248585523308489166419218737490766073419770433287364806189917060569182356970670074637655117068946258626952050246124886695221968737510016126302050062529220524841375418030312862429826276690452763714956346512262094737081871953327568284924208171394441978538343913904035234533672475737539733283621432860371191790554072984216534991241333653278154169921206054399268565549382505898497020574095318880182354233481331290582542558030451172743304019651010897144241554852463064150736539172722568029047162632770510360727495779455887284590725788214100571308726109193316100839654714693367362063384855470627539671669857920909970150633537490493597381116630528426393474812680888759465167353347633735681087612386854741491886764056910454218386456870565157462431857878487581199882938567091388110760990005530595974706617199576798250260808595293289993972719659861568461110037549907871597752792626755193869744946577387835570853643693038169404247783198299280684152959438809540013770979494964723996662150401415012264891650092290572494949014114006658560048259162152307350732195073433673970604007988672949264218315810864877025989367321239631534967329708210085517095076141978986502630353425515647292715749820676833876235404101872743826266870401707647246054715191499973665973405324886904680306768810374659192678079659502693187750158239441074729107089497827167399614470819967404639373478715130089862825985602193588337789166399597694688139195782616623474476421993423635695895421838340120721000091157219952412552409121592108229690545840874165215916090919505898039717272401622523084023048743587702199594797727152303385250863638042094218257686944847034114124780745401443687659530651135482090836223632386373109066696150189492505441864023112242161665052580194209935027238509236340397039752724492239512197468151388476032132950449975354995001952076866527849409640410221591887969164218197265067835010970517526535446585050964207229456814902315438064750368141690796693754876354355240669561788305745779575159744918329854509694015062757749669474582407078080018211622691686679037492288866575036267751163573764741716070760346658314628085144678624653524783271439380901176262207474175716966543720311813206751211408485027537267284952216683667141816160664454992579696753789965468794759209269107408520493854592403187655023302903553282786375916631220537556654430661497449280081472449115680410210194280139926741549618594874508004681942871806389273257249136109752434273430641793313072991135388320734762458952196588614335936596876355392478413499999197126364186215846811546498732185168506755347318778487535024828881538987163421511009230849400194589608228119921202078019384973353906633557273463252876997972059943391678899061619976555101431892366536084283337123892792604638131548369927958846774203726219482611826340634519982060939262960414668966788459583719336941895727659193743852803231901199301000779176239396813861788083245281728027034569508356661756062684227756058187008396126375527883022741953623343159641849153097027635946794465247860551790926890503476733938602538370791628641847040798066719411067341708732654209324493382872084443140272989781898749068049363004486055196145510540277675473518656740978244669611053044266721832098672534177161433465454688130570868875349218543291554679174256808184520404196020425715452413045985113214113803306946626901181212681859198367648955018346650920450488204528981020472768574236215006823880945796480293698577161121207004528112896140824655226490096028083597834930906367188052809914215920873415370288727325909095553008051988645219003879045648295817406990271099650704562128130846286551514290724761505484332452566651618019529551473433868587252320676982785370515554737141175964937971242932412092017101458189041153976388536380712693201873818801221164526269861036103824064888269817995230266933404228302641595591835203436667945592167515344716490855779305049912977338351677259360385743813974462163425059423447154009807817980586384539863646370825980349481764230608035156007835715526744290514102365343145025674844606612109190311862539017206394340516121298833872239845593399455932665471888408279105144096375640053631708762901439093723155332827584463464088489882513616780633491653159492378138822053548179608344828172575079155465870372225057766398595025349845947179374862949743259824439883206435187493304414725437876152578303642536737747062437150540402829737766971578239590875299802739645517792543719173371306402985328971679655732622719853457312514520848672095259743821066954445979447982262671577435822226797079841815793101407078546568173422729104014630447087894869902823018915632805226751600576446004964642685201654277907773625957394729270782313716789634341240355831194845040491674442396138242968740824289337492979723868834399067397641217742494840793137693246738464841297392945706005552592532480390633610903353271074173250813515970589466773523343471358517653850719790188491796498513958251556968977853087146969651680136132279612359896450189188199081566345900881748902157873050527808013506691565350689189366331822772366171806795708040613883019824367420383620962126090605860760764944599596672544973965919449071960910869507533515316534861426846338301839837088342180523223939258899393502056273422645881016807510424284015928350166075106160241069257441773735971073150368507920183738460336127669543308528077433534161386589895456883794157536561746638605288782197894493895317498850750771903776552328051677917032361849758200151073182401128418825402891687993688372083093738648536179722290428348070527460588378472414512424828946758784322971042316918406172613521319648447604662212963941414474387683270169565836633829641750297089910901641086388892503855601811946664667201935873416980571796563759571383233507660702798548877680601396963901401913583220831063906285022239896962662542643734278911557800629416493176033510574829150254474693812020404064846521804710592558654396009660080315928605981260944421218860453146520970665503066094336540264328697773115176599323949071036841716629118010859619101621839211535859449568997"
      ]
     },
     "execution_count": 3,
     "metadata": {},
     "output_type": "execute_result"
    }
   ],
   "source": [
    "type(a)\n",
    "s1= \"Python\"\n",
    "type(s1)\n",
    "f1 = 12.345\n",
    "type(f1)\n",
    "int(f1)\n",
    "str(int(f1))\n",
    "float(str(int(f1)))\n",
    "122232333 ** 999"
   ]
  },
  {
   "cell_type": "markdown",
   "metadata": {},
   "source": [
    "### 4 .Arthimetic Operators\n",
    "- +\n",
    "- -\n",
    "- *\n",
    "- /\n",
    "- %\n",
    "- **"
   ]
  },
  {
   "cell_type": "code",
   "execution_count": 4,
   "metadata": {},
   "outputs": [
    {
     "data": {
      "text/plain": [
       "12345"
      ]
     },
     "execution_count": 4,
     "metadata": {},
     "output_type": "execute_result"
    }
   ],
   "source": [
    "n1"
   ]
  },
  {
   "cell_type": "code",
   "execution_count": 5,
   "metadata": {},
   "outputs": [
    {
     "data": {
      "text/plain": [
       "83"
      ]
     },
     "execution_count": 5,
     "metadata": {},
     "output_type": "execute_result"
    }
   ],
   "source": [
    "n1 % 11\n",
    "n3 = n2  ** 1234\n",
    "type(n3)\n",
    "len(str(n3))\n",
    "#n3\n",
    "atoms = 10 ** 82\n",
    "len(str(atoms))\n",
    "#type(str(atoms))\n",
    "#atoms"
   ]
  },
  {
   "cell_type": "markdown",
   "metadata": {},
   "source": [
    "# 5. Conditionals"
   ]
  },
  {
   "cell_type": "code",
   "execution_count": 6,
   "metadata": {},
   "outputs": [
    {
     "name": "stdout",
     "output_type": "stream",
     "text": [
      "TRUE\n"
     ]
    }
   ],
   "source": [
    "if atoms < 10 ** 95:\n",
    "    print(\"TRUE\")\n",
    "else:\n",
    "    print(\"FALSE\")\n"
   ]
  },
  {
   "cell_type": "code",
   "execution_count": null,
   "metadata": {},
   "outputs": [
    {
     "name": "stdout",
     "output_type": "stream",
     "text": [
      "<class 'float'>\n"
     ]
    }
   ],
   "source": [
    "x = 35e3\n",
    "y = 12E4\n",
    "z = -87.7e100\n",
    "print(type(x))"
   ]
  },
  {
   "cell_type": "code",
   "execution_count": null,
   "metadata": {},
   "outputs": [
    {
     "name": "stdout",
     "output_type": "stream",
     "text": [
      "odd\n"
     ]
    }
   ],
   "source": [
    "#  Check if a number is Even\n",
    "n =123\n",
    "if n % 2 == 0:\n",
    "    print(\"Even\")\n",
    "else:\n",
    "    print(\"odd\")"
   ]
  },
  {
   "cell_type": "code",
   "execution_count": null,
   "metadata": {},
   "outputs": [],
   "source": [
    "#check if find greatest of 3 numbers\n",
    "n1 = int(input(\"Enter a first number\"))\n",
    "n2 = int(input(\"Enetr a Second number\"))\n",
    "n3 = int(input(\"Enter a Third Number\"))\n",
    "if n1 > n2 and n2 > n3:\n",
    "    print(n1,\"n1 is the greatest\")\n",
    "elif n2 > n3 and n2 > n1:\n",
    "        print(n2,\" n2 is the greatest\")\n",
    "else:\n",
    "        print(n3,\"n3 is th greatest\")"
   ]
  },
  {
   "cell_type": "code",
   "execution_count": null,
   "metadata": {},
   "outputs": [],
   "source": [
    "# check given year is a Leap Year\n",
    "year = int(input(\"Enter a Year\"))\n",
    "if year % 400 == 0 or year % 100!=0 and year % 4 == 0:\n",
    "    print(year,\"Its Leap year\")\n",
    "else:\n",
    "    print(year,\"Its is not a Leap Year\")\n"
   ]
  },
  {
   "cell_type": "code",
   "execution_count": null,
   "metadata": {},
   "outputs": [],
   "source": [
    "#check if a number is exit in given range.\n",
    "num = int(input(\"Enter a Number\"))\n",
    "Min = int(input(\"Enter a first range\"))\n",
    "max = int(input(\"Enter a Second year\"))\n",
    "if (num-min) ** (num-max) <= 0:\n",
    "    print(\"Given number is in a Range\")\n",
    "else:\n",
    "    print(\"Number is not in a Range\")\n"
   ]
  },
  {
   "cell_type": "code",
   "execution_count": null,
   "metadata": {},
   "outputs": [],
   "source": [
    "#calculate the number of digits in\n",
    "num = 1234455\n",
    "print(len(str(num)))"
   ]
  },
  {
   "cell_type": "code",
   "execution_count": null,
   "metadata": {},
   "outputs": [],
   "source": [
    "#check if a number is multiple of 10.\n",
    "num = int(input())\n",
    "if n % 10 == 0:\n",
    "    print(num,\"num is multiple of 10\")"
   ]
  },
  {
   "cell_type": "code",
   "execution_count": null,
   "metadata": {},
   "outputs": [],
   "source": [
    "#check if a number is factor of 1000.\n",
    "num = int(input(\"Enter a Number\"))\n",
    "i = 1000\n",
    "for i >= n:\n",
    "    if(num %i)\n",
    "    "
   ]
  },
  {
   "cell_type": "code",
   "execution_count": null,
   "metadata": {},
   "outputs": [],
   "source": [
    "#check if given string is equal to a number\n",
    "s1 = \"12345\"\n",
    "num1 = 12345\n",
    "if str(num1) == s1:\n",
    "    print(num1,\"is equal to\",s1)\n",
    "else: \n",
    "    print(num1,\"is not equal to\",s1)\n",
    "    \n"
   ]
  },
  {
   "cell_type": "code",
   "execution_count": null,
   "metadata": {},
   "outputs": [],
   "source": [
    "#calculate the square root of a number with our using mathematical functions\n",
    "num1 = 123\n",
    "num1 ** 0.5\n",
    "print(num1)\n"
   ]
  },
  {
   "cell_type": "code",
   "execution_count": null,
   "metadata": {},
   "outputs": [],
   "source": [
    "#callculate the number of nano seconds in a \n",
    "#given year (considering leap year logic)\n",
    "year =2019\n",
    "if year % 400 == 0 or year % 10 == 0 and year % 4!=0:\n",
    "     print( 366 * 24 * 60 * 60 * (10 ** 9))\n",
    "else:\n",
    "    print(365 * 24 * 60 * 60 * (10 ** 9))\n"
   ]
  },
  {
   "cell_type": "code",
   "execution_count": 8,
   "metadata": {},
   "outputs": [
    {
     "ename": "IndentationError",
     "evalue": "expected an indented block (<ipython-input-8-68a684c6c207>, line 3)",
     "output_type": "error",
     "traceback": [
      "\u001b[1;36m  File \u001b[1;32m\"<ipython-input-8-68a684c6c207>\"\u001b[1;36m, line \u001b[1;32m3\u001b[0m\n\u001b[1;33m    for num in range(start,end+1):\u001b[0m\n\u001b[1;37m      ^\u001b[0m\n\u001b[1;31mIndentationError\u001b[0m\u001b[1;31m:\u001b[0m expected an indented block\n"
     ]
    }
   ],
   "source": [
    "#function to print the odd numbers in reverse order in a range.\n",
    "def range(start,end):\n",
    "for num in range(start,end+1):\n",
    "    if num %2 == 0:\n",
    "        print(num,end= \" \")\n",
    " "
   ]
  },
  {
   "cell_type": "code",
   "execution_count": null,
   "metadata": {},
   "outputs": [],
   "source": []
  },
  {
   "cell_type": "code",
   "execution_count": null,
   "metadata": {},
   "outputs": [],
   "source": [
    "#function to print all numbers divisible by 6\n"
   ]
  },
  {
   "cell_type": "code",
   "execution_count": 5,
   "metadata": {},
   "outputs": [
    {
     "data": {
      "text/plain": [
       "15150"
      ]
     },
     "execution_count": 5,
     "metadata": {},
     "output_type": "execute_result"
    }
   ],
   "source": [
    "#function to calculate the sum of numbers in a range\n",
    "def sumRange(start,end):\n",
    "    sum=0\n",
    "    for i in range(start,end+1):\n",
    "        sum=sum+i\n",
    "    return sum\n",
    "sumRange(100,200)"
   ]
  },
  {
   "cell_type": "code",
   "execution_count": 1,
   "metadata": {},
   "outputs": [
    {
     "data": {
      "text/plain": [
       "1000"
      ]
     },
     "execution_count": 1,
     "metadata": {},
     "output_type": "execute_result"
    }
   ],
   "source": [
    "#function to calculate the average of a given range in python\n",
    "#(1,5)-> 3\n",
    "\n",
    "def averageRange(start,end):\n",
    "    sum = 0\n",
    "    #count=0\n",
    "    for i in range(start, end+1):\n",
    "        sum = sum + i  # Sum Calculation\n",
    "        return sum\n",
    "        #count = count +1   # Counting number of values\n",
    "        return sum /(end-start+1)\n",
    "    \n",
    "averageRange(1000, 5000)\n"
   ]
  },
  {
   "cell_type": "code",
   "execution_count": 3,
   "metadata": {},
   "outputs": [
    {
     "name": "stdout",
     "output_type": "stream",
     "text": [
      "Enter the number of elements to be insert:5\n",
      "Enter a Element::34\n",
      "Enter a Element::56\n",
      "Enter a Element::78\n",
      "Enter a Element::89\n",
      "Enter a Element::90\n",
      "Average of elements in a given list 69.4\n"
     ]
    }
   ],
   "source": [
    "#function to calculate the average of given range in python\n",
    "num = int(input(\"Enter the number of elements to be insert:\"))\n",
    "a=[]\n",
    "for i in range(0,num):\n",
    "    ele= int(input(\"Enter a Element::\"))\n",
    "    a.append(ele)\n",
    "    avg = sum(a)/num\n",
    "print(\"Average of elements in a given list\",round(avg,2))\n",
    "    "
   ]
  },
  {
   "cell_type": "code",
   "execution_count": 26,
   "metadata": {},
   "outputs": [
    {
     "name": "stdout",
     "output_type": "stream",
     "text": [
      "2000 2004 2008 2012 2016 "
     ]
    }
   ],
   "source": [
    "#function to calculate the leap years in a given time period\n",
    "#2000-2020 -> 2000 2004 2008 2012 2016 2020\n",
    "def isLeapyear(year):  #To check if a given year is a leap year\n",
    "    if year % 400 == 0 or (year % 100 != 0 and year % 4 == 0):\n",
    "        return True\n",
    "    else:\n",
    "        return False\n",
    "def generateLeapYears(startyear,endyear):\n",
    "    for year in range(startyear,endyear+1):\n",
    "        if isLeapyear(year):\n",
    "            print(year,end=\" \")\n",
    "    return                                    # uses the isLeapYear() to select all leap years in a given time period\n",
    "\n",
    "generateLeapYears(1999,2019)"
   ]
  },
  {
   "cell_type": "code",
   "execution_count": null,
   "metadata": {},
   "outputs": [],
   "source": [
    "#Python function to print all numbers divisible by 6 and not a factor of 100 in a given range(lb,ub) inclusive\n",
    "def divisible6(lb,ub):\n",
    "    for i in range(lb,ub+1):\n",
    "        if\n",
    "    \n",
    "        \n",
    "        "
   ]
  },
  {
   "cell_type": "raw",
   "metadata": {},
   "source": []
  },
  {
   "cell_type": "code",
   "execution_count": 10,
   "metadata": {},
   "outputs": [
    {
     "name": "stdout",
     "output_type": "stream",
     "text": [
      "Enter the Lower Range10\n",
      "Enter the Upper Range60\n",
      "Enter the nunmber to be divided by6\n",
      "12\n",
      "18\n",
      "24\n",
      "30\n",
      "36\n",
      "42\n",
      "48\n",
      "54\n",
      "60\n"
     ]
    }
   ],
   "source": [
    "#Python function to print all numbers divisible by 6 and not a factor of 100 in a given range(lb,ub) inclusive\n",
    "low = int(input(\"Enter the Lower Range\"))\n",
    "upr= int(input(\"Enter the Upper Range\"))\n",
    "num = int(input(\"Enter the nunmber to be divided by\"))\n",
    "for i in range(low,upr+1):\n",
    "          if i%num==0:\n",
    "            print(i)"
   ]
  },
  {
   "cell_type": "code",
   "execution_count": 51,
   "metadata": {},
   "outputs": [],
   "source": [
    "#calculate the number of days in given time period  using leapyear logic\n",
    "#for Every Year in the given time period, if the year is not \n",
    "def numberofDays(startyear,endyear):\n",
    "    sum = 0\n",
    "    for year in range(startyear,endyear+1):\n",
    "        if isLeapYear(year):\n",
    "            return (year % 4 == 0) and (year % 100 != 0) or (year % 400 == 0)\n",
    "        return year\n",
    "        \n",
    "            \n",
    "            \n",
    "        \n"
   ]
  },
  {
   "cell_type": "code",
   "execution_count": null,
   "metadata": {},
   "outputs": [],
   "source": [
    "#function to calculate number of hours for a given period \n",
    "# numberOfHours(11,1975,03,1999)--> \n",
    "# numberOfHours(5,2019,6,2019) -->"
   ]
  },
  {
   "cell_type": "code",
   "execution_count": 37,
   "metadata": {},
   "outputs": [
    {
     "name": "stdout",
     "output_type": "stream",
     "text": [
      "9496\n"
     ]
    }
   ],
   "source": [
    "from datetime import date\n",
    "f_date = date(1993, 2, 9)\n",
    "l_date = date(2019, 2, 9)\n",
    "delta = l_date - f_date\n",
    "print(delta.days)"
   ]
  },
  {
   "cell_type": "code",
   "execution_count": 48,
   "metadata": {},
   "outputs": [
    {
     "ename": "NameError",
     "evalue": "name 'isLeapYear' is not defined",
     "output_type": "error",
     "traceback": [
      "\u001b[1;31m---------------------------------------------------------------------------\u001b[0m",
      "\u001b[1;31mNameError\u001b[0m                                 Traceback (most recent call last)",
      "\u001b[1;32m<ipython-input-48-169faf53bee4>\u001b[0m in \u001b[0;36m<module>\u001b[1;34m\u001b[0m\n\u001b[0;32m     21\u001b[0m     \u001b[1;32mreturn\u001b[0m \u001b[0mdays\u001b[0m\u001b[1;33m\u001b[0m\u001b[1;33m\u001b[0m\u001b[0m\n\u001b[0;32m     22\u001b[0m \u001b[1;33m\u001b[0m\u001b[0m\n\u001b[1;32m---> 23\u001b[1;33m \u001b[0mdaysInEndYear\u001b[0m\u001b[1;33m(\u001b[0m\u001b[1;36m6\u001b[0m\u001b[1;33m,\u001b[0m\u001b[1;36m2019\u001b[0m\u001b[1;33m)\u001b[0m\u001b[1;33m\u001b[0m\u001b[1;33m\u001b[0m\u001b[0m\n\u001b[0m\u001b[0;32m     24\u001b[0m \u001b[1;33m\u001b[0m\u001b[0m\n",
      "\u001b[1;32m<ipython-input-48-169faf53bee4>\u001b[0m in \u001b[0;36mdaysInEndYear\u001b[1;34m(endmonth, endyear)\u001b[0m\n\u001b[0;32m     18\u001b[0m     \u001b[0mdays\u001b[0m \u001b[1;33m=\u001b[0m \u001b[1;36m0\u001b[0m\u001b[1;33m\u001b[0m\u001b[1;33m\u001b[0m\u001b[0m\n\u001b[0;32m     19\u001b[0m     \u001b[1;32mfor\u001b[0m \u001b[0mmonth\u001b[0m \u001b[1;32min\u001b[0m \u001b[0mrange\u001b[0m\u001b[1;33m(\u001b[0m\u001b[1;36m1\u001b[0m\u001b[1;33m,\u001b[0m \u001b[0mendmonth\u001b[0m\u001b[1;33m+\u001b[0m\u001b[1;36m1\u001b[0m\u001b[1;33m)\u001b[0m\u001b[1;33m:\u001b[0m\u001b[1;33m\u001b[0m\u001b[1;33m\u001b[0m\u001b[0m\n\u001b[1;32m---> 20\u001b[1;33m         \u001b[0mdays\u001b[0m \u001b[1;33m+=\u001b[0m \u001b[0mnumberOfDaysMonth\u001b[0m\u001b[1;33m(\u001b[0m\u001b[0mmonth\u001b[0m\u001b[1;33m,\u001b[0m\u001b[0mendyear\u001b[0m\u001b[1;33m)\u001b[0m\u001b[1;33m\u001b[0m\u001b[1;33m\u001b[0m\u001b[0m\n\u001b[0m\u001b[0;32m     21\u001b[0m     \u001b[1;32mreturn\u001b[0m \u001b[0mdays\u001b[0m\u001b[1;33m\u001b[0m\u001b[1;33m\u001b[0m\u001b[0m\n\u001b[0;32m     22\u001b[0m \u001b[1;33m\u001b[0m\u001b[0m\n",
      "\u001b[1;32m<ipython-input-48-169faf53bee4>\u001b[0m in \u001b[0;36mnumberOfDaysMonth\u001b[1;34m(month, year)\u001b[0m\n\u001b[0;32m      1\u001b[0m \u001b[1;32mdef\u001b[0m \u001b[0mnumberOfDaysMonth\u001b[0m\u001b[1;33m(\u001b[0m\u001b[0mmonth\u001b[0m\u001b[1;33m,\u001b[0m\u001b[0myear\u001b[0m\u001b[1;33m)\u001b[0m\u001b[1;33m:\u001b[0m\u001b[1;33m\u001b[0m\u001b[1;33m\u001b[0m\u001b[0m\n\u001b[0;32m      2\u001b[0m     \u001b[1;32mif\u001b[0m \u001b[0mmonth\u001b[0m \u001b[1;33m==\u001b[0m \u001b[1;36m2\u001b[0m\u001b[1;33m:\u001b[0m\u001b[1;33m\u001b[0m\u001b[1;33m\u001b[0m\u001b[0m\n\u001b[1;32m----> 3\u001b[1;33m         \u001b[1;32mif\u001b[0m \u001b[0misLeapYear\u001b[0m\u001b[1;33m(\u001b[0m\u001b[0myear\u001b[0m\u001b[1;33m)\u001b[0m\u001b[1;33m:\u001b[0m\u001b[1;33m\u001b[0m\u001b[1;33m\u001b[0m\u001b[0m\n\u001b[0m\u001b[0;32m      4\u001b[0m             \u001b[1;32mreturn\u001b[0m \u001b[1;36m29\u001b[0m\u001b[1;33m\u001b[0m\u001b[1;33m\u001b[0m\u001b[0m\n\u001b[0;32m      5\u001b[0m         \u001b[1;32mreturn\u001b[0m \u001b[1;36m28\u001b[0m\u001b[1;33m\u001b[0m\u001b[1;33m\u001b[0m\u001b[0m\n",
      "\u001b[1;31mNameError\u001b[0m: name 'isLeapYear' is not defined"
     ]
    }
   ],
   "source": [
    "def numberOfDaysMonth(month,year):\n",
    "    if month == 2:\n",
    "        if isLeapYear(year):\n",
    "            return 29\n",
    "        return 28\n",
    "    elif (month <= 7 and month % 2!=0 ) or (month <= 7 and month %2 ==0):\n",
    "        return 31\n",
    "    else:\n",
    "        return 30\n",
    "    #numberOfDaysMonth(2,2016)\n",
    "def daysInStartYear(startmonth, startyear):\n",
    "    days = 0\n",
    "    for month in range(startmonth,13):\n",
    "        days += numberOfDaysMonth(month,startyear)\n",
    "    return days\n",
    "    \n",
    "def daysInEndYear(endmonth, endyear):\n",
    "    days = 0\n",
    "    for month in range(1, endmonth+1):\n",
    "        days += numberOfDaysMonth(month,endyear)\n",
    "    return days\n",
    "def numberOfHours(startmonth, startyear, endmonth, endyear):\n",
    "    days = 0\n",
    "    days + = daysInStartYear(startmonth,startyear)\n",
    "        \n",
    "daysInEndYear(6,2019)\n",
    "    \n"
   ]
  },
  {
   "cell_type": "code",
   "execution_count": null,
   "metadata": {},
   "outputs": [],
   "source": []
  }
 ],
 "metadata": {
  "kernelspec": {
   "display_name": "Python 3",
   "language": "python",
   "name": "python3"
  },
  "language_info": {
   "codemirror_mode": {
    "name": "ipython",
    "version": 3
   },
   "file_extension": ".py",
   "mimetype": "text/x-python",
   "name": "python",
   "nbconvert_exporter": "python",
   "pygments_lexer": "ipython3",
   "version": "3.7.3"
  }
 },
 "nbformat": 4,
 "nbformat_minor": 2
}
