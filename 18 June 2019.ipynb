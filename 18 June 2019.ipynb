{
 "cells": [
  {
   "cell_type": "markdown",
   "metadata": {},
   "source": [
    "### Practise on Hackerearth Python Problems\n",
    "### DAY Tuesday 18 JUNE 2019\n"
   ]
  },
  {
   "cell_type": "markdown",
   "metadata": {},
   "source": [
    "### TUPLES \n",
    "tuple = ()\n",
    "list = []\n",
    "Difference between Lists and Tuples\n",
    "Lists are mutable - can be Changed / modified\n",
    "- Used to Access , Modify ,Add, Delete data.\n",
    "Tuples are immutable - Cannot be changed once initialised\n",
    "- Used to access data only"
   ]
  },
  {
   "cell_type": "code",
   "execution_count": null,
   "metadata": {},
   "outputs": [],
   "source": [
    "t1 = (1, 2, 8 , 6 ,0)\n",
    "t1[3]   #Accesing the fourth element\n",
    "# Accessing all elements from middle to last\n",
    "t1[len(t1)//2:] #t1[2:]"
   ]
  },
  {
   "cell_type": "code",
   "execution_count": null,
   "metadata": {},
   "outputs": [],
   "source": [
    "type(t1)"
   ]
  },
  {
   "cell_type": "markdown",
   "metadata": {},
   "source": [
    "### Dictionaries\n",
    "* It Works on the concept of Set\n",
    "* Unique Data\n",
    "\n",
    "\n",
    "* Keys , Values\n",
    "* Key is the Unique identifier for a value\n",
    "* Value is data that can be accessed with a key"
   ]
  },
  {
   "cell_type": "code",
   "execution_count": null,
   "metadata": {},
   "outputs": [],
   "source": [
    "d1 = { \"k1\" : \"Value1\" , \"k2\" : \"Value2\"}\n",
    "d1[\"k2\"]    #Accessing the value with key \"k2\"\n",
    "d1.keys()    # returns list of all keys\n",
    "d1.values()   # returns list of all values\n",
    "d1.items()     # returns list of tuples of keys and values\n",
    "d1[\"k3\"] = \"value3\"   #adding an element to dictionary \n",
    "d1\n",
    "d1[\"k3\"] = \"value4\"   #updating an element in dictionary , here key value is constant is not variable only we can delete.\n",
    "d1.pop(\"k3\")       #Removing an element\n",
    "\"k3\" in d1\n",
    "\"k1\" in d1              # searching is done only with key \n",
    "\"value1\" in d1        #it not possible to search with value "
   ]
  },
  {
   "cell_type": "markdown",
   "metadata": {},
   "source": [
    "### Contacts Application\n",
    "- Add contact\n",
    "- Search for contact\n",
    "- List all contacts\n",
    "     - name 1 : phone 1\n",
    "     - name 2 : phone 2\n",
    "- Modify contact\n",
    "- Remove contact\n",
    "- Import contacts\n"
   ]
  },
  {
   "cell_type": "code",
   "execution_count": 34,
   "metadata": {},
   "outputs": [
    {
     "ename": "IndentationError",
     "evalue": "unexpected indent (<ipython-input-34-7d6eb90880d5>, line 12)",
     "output_type": "error",
     "traceback": [
      "\u001b[1;36m  File \u001b[1;32m\"<ipython-input-34-7d6eb90880d5>\"\u001b[1;36m, line \u001b[1;32m12\u001b[0m\n\u001b[1;33m    newcontact = []\u001b[0m\n\u001b[1;37m    ^\u001b[0m\n\u001b[1;31mIndentationError\u001b[0m\u001b[1;31m:\u001b[0m unexpected indent\n"
     ]
    }
   ],
   "source": [
    "contacts = {\"name1\" : [8328401910, 'name@domain.ext'], \"name2\":[9039303930, \"name2@domain.ext\"]}\n",
    "def addContact(name, phone, email):                             #verify that the contact doesnot already exist\n",
    "    if name in contacts:\n",
    "        print(name, \"already exits\")\n",
    "        return \n",
    "    if phoneNumberValidator(phone):\n",
    "            print(\"invalid phone number\")\n",
    "            return\n",
    "    if not emailValidator(email):\n",
    "            print(\"Invalid email\")\n",
    "            return\n",
    "        newcontact = []\n",
    "        newcontact.append(phone)\n",
    "        newcontact.append(email)\n",
    "        contacts[name] = newcontact\n",
    "        print(name, \"added successfully\")\n",
    "    return\n",
    "\n",
    "addContact(\"name3\", 9049494949, 'name3@gmail.com')"
   ]
  },
  {
   "cell_type": "code",
   "execution_count": 18,
   "metadata": {},
   "outputs": [
    {
     "name": "stdout",
     "output_type": "stream",
     "text": [
      "name1 : [8328401910, 'name@domain.ext']\n",
      "Phone : 8328401910\n",
      "Email : name@domain.ext\n"
     ]
    }
   ],
   "source": [
    "def searchContacts(name):\n",
    "    if name in contacts:\n",
    "        print(name, \":\", contacts[name])\n",
    "        print(\"Phone :\" , contacts[name][0])\n",
    "        print(\"Email :\", contacts[name][1])\n",
    "    else:\n",
    "        print(\"% s does not exist\" % name)\n",
    "    return\n",
    "searchContacts(\"name1\")\n",
    "\n"
   ]
  },
  {
   "cell_type": "code",
   "execution_count": 31,
   "metadata": {},
   "outputs": [
    {
     "name": "stdout",
     "output_type": "stream",
     "text": [
      "name1 \n",
      " Phone : 8328401910 \n",
      " Email : name@domain.ext\n",
      "name2 \n",
      " Phone : 9039303930 \n",
      " Email : name2@domain.ext\n"
     ]
    }
   ],
   "source": [
    "def listAllContacts():\n",
    "    for contact, info in contacts.items():\n",
    "        print(contact, \"\\n\", \"Phone :\", info[0], \"\\n\", \"Email :\", info[1])\n",
    "    return\n",
    "        \n",
    "listAllContacts()"
   ]
  },
  {
   "cell_type": "code",
   "execution_count": null,
   "metadata": {},
   "outputs": [],
   "source": [
    "#Function to edit contact information\n",
    "def editContact(name, phone,email):\n",
    "    "
   ]
  },
  {
   "cell_type": "code",
   "execution_count": null,
   "metadata": {},
   "outputs": [],
   "source": [
    "def modifyContact(name):\n",
    "    phone = input(\"Enter %s number :\" % name)\n",
    "    #contacts[name] = phone\n",
    "    contacts[name]=phone\n",
    "    print(\"Contact %s modified\" % name)\n",
    "    return\n",
    "\n",
    "modifyContact('Chaithu')\n",
    "contacts"
   ]
  },
  {
   "cell_type": "code",
   "execution_count": null,
   "metadata": {},
   "outputs": [],
   "source": [
    "def removeContact(name):\n",
    "    if name in contacts:\n",
    "        contacts.pop(name)\n",
    "        print(\"Contact %s is Deleted\" % name)\n",
    "    else:\n",
    "        print(\"Contact %s is Existed\" % name)\n",
    "        return\n",
    "removeContact('Surya')\n"
   ]
  },
  {
   "cell_type": "code",
   "execution_count": 25,
   "metadata": {},
   "outputs": [
    {
     "name": "stdout",
     "output_type": "stream",
     "text": [
      "2 contacts added sucessfully\n"
     ]
    }
   ],
   "source": [
    "def importContacts(newContacts):\n",
    "    contacts:update(newContacts)\n",
    "    print(len(newContacts.keys()), \"contacts added sucessfully\")\n",
    "    return\n",
    "    \n",
    "newContacts = {\"Surya\" : [8328401910, 'karanam.s@apssdc.in'], \"Kalyan\" :[9885274919, 'iamsurya93@gmail.com']}\n",
    "importContacts(newContacts)"
   ]
  },
  {
   "cell_type": "code",
   "execution_count": 26,
   "metadata": {},
   "outputs": [
    {
     "data": {
      "text/plain": [
       "{'Surya': [8328401910, 'name4_123@gmail.com'],\n",
       " 'Kalyan': [9885274919, 'iamsurya93@gmail.com']}"
      ]
     },
     "execution_count": 26,
     "metadata": {},
     "output_type": "execute_result"
    }
   ],
   "source": [
    "newContacts"
   ]
  },
  {
   "cell_type": "code",
   "execution_count": 21,
   "metadata": {},
   "outputs": [
    {
     "data": {
      "text/plain": [
       "{'name1': [8328401910, 'name@domain.ext'],\n",
       " 'name2': [9039303930, 'name2@domain.ext']}"
      ]
     },
     "execution_count": 21,
     "metadata": {},
     "output_type": "execute_result"
    }
   ],
   "source": [
    "contacts"
   ]
  },
  {
   "cell_type": "markdown",
   "metadata": {},
   "source": [
    "### Packges and Modules\n",
    "***Package : ---> A package"
   ]
  },
  {
   "cell_type": "code",
   "execution_count": 11,
   "metadata": {},
   "outputs": [
    {
     "data": {
      "text/plain": [
       "3.141592653589793"
      ]
     },
     "execution_count": 11,
     "metadata": {},
     "output_type": "execute_result"
    }
   ],
   "source": [
    "import math           #math is package of python library\n",
    "math.floor(123.456)  #packagename.methodname(value)\n",
    "math.pi"
   ]
  },
  {
   "cell_type": "code",
   "execution_count": 18,
   "metadata": {},
   "outputs": [
    {
     "data": {
      "text/plain": [
       "3.141592653589793"
      ]
     },
     "execution_count": 18,
     "metadata": {},
     "output_type": "execute_result"
    }
   ],
   "source": [
    "from math import floor\n",
    "floor(123.456)\n",
    "math.pi"
   ]
  },
  {
   "cell_type": "code",
   "execution_count": 17,
   "metadata": {},
   "outputs": [
    {
     "data": {
      "text/plain": [
       "1"
      ]
     },
     "execution_count": 17,
     "metadata": {},
     "output_type": "execute_result"
    }
   ],
   "source": [
    "int(math.sqrt(1))"
   ]
  },
  {
   "cell_type": "code",
   "execution_count": 19,
   "metadata": {},
   "outputs": [
    {
     "data": {
      "text/plain": [
       "3.141592653589793"
      ]
     },
     "execution_count": 19,
     "metadata": {},
     "output_type": "execute_result"
    }
   ],
   "source": [
    "math.pi"
   ]
  },
  {
   "cell_type": "code",
   "execution_count": 21,
   "metadata": {},
   "outputs": [
    {
     "data": {
      "text/plain": [
       "123"
      ]
     },
     "execution_count": 21,
     "metadata": {},
     "output_type": "execute_result"
    }
   ],
   "source": [
    "from math import floor as f1\n",
    "f1(123.456)"
   ]
  },
  {
   "cell_type": "code",
   "execution_count": 46,
   "metadata": {},
   "outputs": [
    {
     "name": "stdout",
     "output_type": "stream",
     "text": [
      "94 73 24 63 31 75 3 85 27 88 "
     ]
    }
   ],
   "source": [
    "#Function to generate N random Numbers\n",
    "import random\n",
    "def generateNRandomNumbers(n, lb, ub):  # lb and ub both are inculsive\n",
    "    for i in range(0, n):\n",
    "        print(random.randint(lb,ub), end =\" \") \n",
    "        \n",
    "generateNRandomNumbers(10, 0, 100)"
   ]
  },
  {
   "cell_type": "code",
   "execution_count": 5,
   "metadata": {},
   "outputs": [
    {
     "data": {
      "text/plain": [
       "True"
      ]
     },
     "execution_count": 5,
     "metadata": {},
     "output_type": "execute_result"
    }
   ],
   "source": [
    "from Packages import numerical        #format: from Packagename import modulename   \n",
    "numerical.numberOfPrimeFactors(999)\n",
    "numerical.isPrime(103)"
   ]
  },
  {
   "cell_type": "code",
   "execution_count": 8,
   "metadata": {},
   "outputs": [
    {
     "data": {
      "text/plain": [
       "True"
      ]
     },
     "execution_count": 8,
     "metadata": {},
     "output_type": "execute_result"
    }
   ],
   "source": [
    "from Packages.numerical import isPrime\n",
    "isPrime(97)"
   ]
  },
  {
   "cell_type": "code",
   "execution_count": null,
   "metadata": {},
   "outputs": [],
   "source": []
  },
  {
   "cell_type": "code",
   "execution_count": null,
   "metadata": {},
   "outputs": [],
   "source": []
  }
 ],
 "metadata": {
  "kernelspec": {
   "display_name": "Python 3",
   "language": "python",
   "name": "python3"
  },
  "language_info": {
   "codemirror_mode": {
    "name": "ipython",
    "version": 3
   },
   "file_extension": ".py",
   "mimetype": "text/x-python",
   "name": "python",
   "nbconvert_exporter": "python",
   "pygments_lexer": "ipython3",
   "version": "3.7.3"
  }
 },
 "nbformat": 4,
 "nbformat_minor": 2
}
