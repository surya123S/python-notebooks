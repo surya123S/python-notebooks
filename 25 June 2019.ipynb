{
 "cells": [
  {
   "cell_type": "code",
   "execution_count": null,
   "metadata": {},
   "outputs": [],
   "source": [
    "#Yesterday Practise Text:  Solution of second question\n",
    "#Question :\n",
    "    Given a String s, consisting of alphabets and digits, find the frequncey of each digit in the given string\n",
    "    \n",
    "    #Input Format:\n",
    "                The First line consists of string, num, which is the given number\n",
    "    #Constraints :\n",
    "    \n",
    "                 1<=len(num)<=1000\n",
    "    All the elements of num are made of english alphabets and digits\n",
    "    \n",
    "    #OUTPUT FORMAT:\n",
    "        print ten space-separated integers in a single line denoting the frequencey of each digit from 0 to 9.\n",
    "        "
   ]
  },
  {
   "cell_type": "code",
   "execution_count": 1,
   "metadata": {},
   "outputs": [
    {
     "name": "stdout",
     "output_type": "stream",
     "text": [
      "0 4 1 1 1 1 1 0 0 0 "
     ]
    }
   ],
   "source": [
    "# s = 123abc456def\n",
    "# 0 1 1 1 1 1 1 0 0 0\n",
    "# s = c\n",
    "# s = 1234567890\n",
    "# 1 1 1 1 1 1 1 1 1 1 \n",
    "def uniqueData(allnumbers):\n",
    "    unique = []\n",
    "    for n in allnumbers:\n",
    "        if n not in unique:\n",
    "            unique.append(n)\n",
    "    return unique\n",
    "def digitFrequency1(s):\n",
    "    allnumbers = []\n",
    "    for i in s:\n",
    "        if i.isdigit():\n",
    "            allnumbers.append(i)\n",
    "    unique=uniqueData(allnumbers)\n",
    "    for i in range(0, 10):\n",
    "        if str(i) not in unique:\n",
    "            print(0, end=' ')\n",
    "        else:\n",
    "            count=allnumbers.count(str(i))\n",
    "            print(count, end=' ')\n",
    "digitFrequency1('213abc456def111')\n",
    "            \n",
    "            \n",
    "    \n",
    "    \n",
    "    \n",
    "    \n"
   ]
  },
  {
   "cell_type": "code",
   "execution_count": 8,
   "metadata": {},
   "outputs": [
    {
     "name": "stdout",
     "output_type": "stream",
     "text": [
      "213abc456def111\n",
      "0 4 1 1 1 1 1 0 0 0 "
     ]
    }
   ],
   "source": [
    "def digitFrequency2(s):\n",
    "    for i in range(0,10):\n",
    "        count = s.count(str(i))\n",
    "        print(count, end=' ')\n",
    "s=input()\n",
    "digitFrequency2(s)"
   ]
  },
  {
   "cell_type": "code",
   "execution_count": 3,
   "metadata": {},
   "outputs": [
    {
     "data": {
      "text/plain": [
       "True"
      ]
     },
     "execution_count": 3,
     "metadata": {},
     "output_type": "execute_result"
    }
   ],
   "source": [
    "#Function is to check given strings are anagram or not.\n",
    "\n",
    "def checkAnagrams(s1, s2):\n",
    "    if len(s1)!=len(s2):\n",
    "        return False\n",
    "    if sorted(s1) == sorted(s2):\n",
    "        return True\n",
    "    return False\n",
    "checkAnagrams('abc', 'bca')"
   ]
  },
  {
   "cell_type": "code",
   "execution_count": 5,
   "metadata": {},
   "outputs": [
    {
     "data": {
      "text/plain": [
       "5"
      ]
     },
     "execution_count": 5,
     "metadata": {},
     "output_type": "execute_result"
    }
   ],
   "source": [
    "def average(lb, ub):\n",
    "    sum =0\n",
    "    for i in range(lb, ub+1):\n",
    "        sum+=i\n",
    "    count = ub-lb+1\n",
    "    return sum//count\n",
    "average(1, 10)\n",
    "        \n",
    "\n",
    "\n"
   ]
  },
  {
   "cell_type": "markdown",
   "metadata": {},
   "source": [
    "#### Problem : K Largest Frequency"
   ]
  },
  {
   "cell_type": "code",
   "execution_count": null,
   "metadata": {},
   "outputs": [],
   "source": [
    "# Largest number in a list\n",
    "\n",
    "# Second Largest number in a list\n",
    "\n",
    "# Kth Largest number in a List\n",
    "\n",
    "# Element with highest freqency\n",
    "\n",
    "# Second Highest frequency\n",
    "\n",
    "# Kth Highest frequency\n",
    "\n",
    "# {a:4},  g:9 , i:6 , p:213, c:6}\n",
    "# {4,6,6,9,213}\n",
    "# [213, 10, 9, 6, 6, 4]\n",
    "# [a, c ]\n"
   ]
  }
 ],
 "metadata": {
  "kernelspec": {
   "display_name": "Python 3",
   "language": "python",
   "name": "python3"
  },
  "language_info": {
   "codemirror_mode": {
    "name": "ipython",
    "version": 3
   },
   "file_extension": ".py",
   "mimetype": "text/x-python",
   "name": "python",
   "nbconvert_exporter": "python",
   "pygments_lexer": "ipython3",
   "version": "3.7.3"
  }
 },
 "nbformat": 4,
 "nbformat_minor": 2
}
