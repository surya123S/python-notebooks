{
 "cells": [
  {
   "cell_type": "markdown",
   "metadata": {},
   "source": [
    "#### SuryaNoteBook_Date: 26-June-2019\n",
    "#### DAY_OBJECTIVES:\n",
    "1. Largest Number in a List.\n",
    "2. Second Largest Number ina List.\n",
    "3. K- Largest Number in a List.\n",
    "4. Element with Highest Freqency Occrences.\n",
    "5. Element with Second Highest Freqency Occerences.\n",
    "6. Element with K-Highest Freqency\n",
    "7. Element with Lowest Freqency\n"
   ]
  },
  {
   "cell_type": "code",
   "execution_count": null,
   "metadata": {},
   "outputs": [],
   "source": []
  },
  {
   "cell_type": "code",
   "execution_count": 13,
   "metadata": {},
   "outputs": [
    {
     "data": {
      "text/plain": [
       "7"
      ]
     },
     "execution_count": 13,
     "metadata": {},
     "output_type": "execute_result"
    }
   ],
   "source": [
    "# Function to find the second largest number in a list\n",
    "def secondLargest(li):\n",
    "    # Convert the list into a unique list\n",
    "    # Time_Complexity of loop - O(n) \n",
    "    unique = []\n",
    "    for n in li:\n",
    "        if n not in unique:\n",
    "            unique.append(n)\n",
    "            #then now we go for sorting unique list to get the secondlargest\n",
    "    unique = sorted(unique, reverse=True)\n",
    "    return unique[1]\n",
    "secondLargest([1,2,3,4,2,5,8,7,1,2,8,8])\n"
   ]
  },
  {
   "cell_type": "code",
   "execution_count": 24,
   "metadata": {},
   "outputs": [
    {
     "name": "stdout",
     "output_type": "stream",
     "text": [
      "6\n",
      "4\n"
     ]
    }
   ],
   "source": [
    "def nthLargest(li):\n",
    "    # Convert the list into a unique list\n",
    "    unique = []\n",
    "    for i in li:\n",
    "        if i not in unique:\n",
    "            unique.append(i)\n",
    "    unique = sorted(unique, reverse=True)                                              #unique.sorted(reverse=True\n",
    "    print(unique[n-1])\n",
    "n = int(input())\n",
    "\n",
    "nthLargest([1,3,5,6,7,8,3,6,9,4,7,3])"
   ]
  },
  {
   "cell_type": "code",
   "execution_count": 5,
   "metadata": {},
   "outputs": [
    {
     "name": "stdout",
     "output_type": "stream",
     "text": [
      "3\n"
     ]
    }
   ],
   "source": [
    "def fifthLeast(li):\n",
    "    unique = []\n",
    "    for i in li:\n",
    "        if i not in unique:\n",
    "            unique.append(i)\n",
    "        unique = sorted(unique, reverse=True)\n",
    "    print(unique[4])\n",
    "fifthLeast([4,5,6,2,3,1,9,3])"
   ]
  },
  {
   "cell_type": "code",
   "execution_count": 3,
   "metadata": {},
   "outputs": [
    {
     "data": {
      "text/plain": [
       "9"
      ]
     },
     "execution_count": 3,
     "metadata": {},
     "output_type": "execute_result"
    }
   ],
   "source": [
    "def kSmallest(li, k):\n",
    "    # Extract unique elements in the list\n",
    "    unique = []\n",
    "    for n in li:\n",
    "        if n not in unique:\n",
    "            unique.append(n)\n",
    "    # sort the unique list in asending order\n",
    "    unique= sorted(unique)\n",
    "    \n",
    "    #check if lenghth of unique list is greater than k\n",
    "    if len(unique) >=k:\n",
    "        return unique[k-1]\n",
    "    return -1\n",
    "\n",
    "kSmallest([3, 3, 9], 2)\n",
    "\n",
    "\n",
    "        \n",
    "    \n",
    "            "
   ]
  },
  {
   "cell_type": "code",
   "execution_count": 17,
   "metadata": {},
   "outputs": [
    {
     "data": {
      "text/plain": [
       "1"
      ]
     },
     "execution_count": 17,
     "metadata": {},
     "output_type": "execute_result"
    }
   ],
   "source": [
    "#Function to identify the element with highest freqency in a list\n",
    "#if many elements have the higestfrequency, returns the smallest\n",
    "#HighestFrequency([1,2,3,9,8,7,3,4,2,1])\n",
    "def highFrequencyElement(li):\n",
    "    res = li[0]\n",
    "    max = 0\n",
    "    freqency =0\n",
    "    for i in li:\n",
    "        frequency = li.count(i)\n",
    "        if freqency > max:\n",
    "            max = freqency\n",
    "            res = i\n",
    "        return res\n",
    "\n",
    "highFrequencyElement([1,2,2,1,8,2,3,4,2,1])\n",
    "        \n",
    "        "
   ]
  },
  {
   "cell_type": "code",
   "execution_count": 21,
   "metadata": {},
   "outputs": [
    {
     "data": {
      "text/plain": [
       "1"
      ]
     },
     "execution_count": 21,
     "metadata": {},
     "output_type": "execute_result"
    }
   ],
   "source": [
    "def highFrequencyElement2(li):\n",
    "    unique = {} #Take an empty Dictionary\n",
    "    for n in li:\n",
    "        if n not in unique:\n",
    "            unique[n] = 1\n",
    "        else:\n",
    "            unique[n] += 1\n",
    "        # unique = {1:2, 2:2 , 3:2, 9:1,8:1, 7:1}\n",
    "        l = unique.values()\n",
    "        maxfreq = max(l)\n",
    "        #maxfreq = max(unique.values())\n",
    "        # Extract all keys with maxfreq in a list\n",
    "        maxfreqkeys = []\n",
    "        for item in unique.items():\n",
    "            #item -> (key, value)\n",
    "            # item[1]\n",
    "            if item[1] == maxfreq:\n",
    "                maxfreqkeys.append(item[0])\n",
    "        return min(maxfreqkeys)\n",
    "\n",
    "highFrequencyElement2([1,2,3,9,1,8,7,3,4,2,0,0])\n",
    "            \n",
    "        \n",
    "            "
   ]
  },
  {
   "cell_type": "code",
   "execution_count": 30,
   "metadata": {},
   "outputs": [
    {
     "data": {
      "text/plain": [
       "4"
      ]
     },
     "execution_count": 30,
     "metadata": {},
     "output_type": "execute_result"
    }
   ],
   "source": [
    "#Function to identify kth highest frequency\n",
    "# if there are many such elements, return the smallest\n",
    "# [1,2,3,2,1,4,4,9] --> 3\n",
    "def kthhighestFrequency(li,k):\n",
    "    unique = {}\n",
    "    for n in li:\n",
    "        if n in unique:\n",
    "            unique[n]+=1\n",
    "        else:\n",
    "            unique[n]=1\n",
    "            x=[]\n",
    "            vq=[]\n",
    "    for item in unique.items():\n",
    "        x.append(item[1]) \n",
    "    for n in x:\n",
    "        if n not in vq:\n",
    "            vq.append(n)\n",
    "            vq=sorted(vq,reverse=True)\n",
    "            kl=[]\n",
    "    for item in unique.items():\n",
    "        if item[1]==vq[k-1]:\n",
    "            kl.append(item[0])\n",
    "    return min(kl)\n",
    "kthhighestFrequency([1,2,3,2,1,4,4,4,0,0,0,0,0,0],2)\n"
   ]
  },
  {
   "cell_type": "code",
   "execution_count": 1,
   "metadata": {},
   "outputs": [
    {
     "ename": "TypeError",
     "evalue": "'list' object is not callable",
     "output_type": "error",
     "traceback": [
      "\u001b[1;31m---------------------------------------------------------------------------\u001b[0m",
      "\u001b[1;31mTypeError\u001b[0m                                 Traceback (most recent call last)",
      "\u001b[1;32m<ipython-input-1-b35668c8f767>\u001b[0m in \u001b[0;36m<module>\u001b[1;34m\u001b[0m\n\u001b[0;32m     19\u001b[0m     \u001b[1;32mreturn\u001b[0m \u001b[0mres\u001b[0m\u001b[1;33m\u001b[0m\u001b[1;33m\u001b[0m\u001b[0m\n\u001b[0;32m     20\u001b[0m \u001b[1;33m\u001b[0m\u001b[0m\n\u001b[1;32m---> 21\u001b[1;33m \u001b[0mkthLowestFrequency\u001b[0m\u001b[1;33m(\u001b[0m\u001b[1;33m[\u001b[0m\u001b[1;36m1\u001b[0m\u001b[1;33m,\u001b[0m\u001b[1;36m2\u001b[0m\u001b[1;33m,\u001b[0m\u001b[1;36m2\u001b[0m\u001b[1;33m,\u001b[0m\u001b[1;36m3\u001b[0m\u001b[1;33m,\u001b[0m\u001b[1;36m1\u001b[0m\u001b[1;33m,\u001b[0m\u001b[1;36m3\u001b[0m\u001b[1;33m,\u001b[0m\u001b[1;36m2\u001b[0m\u001b[1;33m,\u001b[0m\u001b[1;36m1\u001b[0m\u001b[1;33m]\u001b[0m\u001b[1;33m,\u001b[0m\u001b[1;36m2\u001b[0m\u001b[1;33m)\u001b[0m\u001b[1;33m\u001b[0m\u001b[1;33m\u001b[0m\u001b[0m\n\u001b[0m\u001b[0;32m     22\u001b[0m \u001b[1;33m\u001b[0m\u001b[0m\n\u001b[0;32m     23\u001b[0m \u001b[1;33m\u001b[0m\u001b[0m\n",
      "\u001b[1;32m<ipython-input-1-b35668c8f767>\u001b[0m in \u001b[0;36mkthLowestFrequency\u001b[1;34m(li, k)\u001b[0m\n\u001b[0;32m      6\u001b[0m     \u001b[0mlowestfre\u001b[0m \u001b[1;33m=\u001b[0m \u001b[0mdict\u001b[0m\u001b[1;33m(\u001b[0m\u001b[1;33m)\u001b[0m\u001b[1;33m\u001b[0m\u001b[1;33m\u001b[0m\u001b[0m\n\u001b[0;32m      7\u001b[0m     \u001b[1;32mfor\u001b[0m \u001b[0mi\u001b[0m \u001b[1;32min\u001b[0m \u001b[0mrange\u001b[0m\u001b[1;33m(\u001b[0m\u001b[0mk\u001b[0m\u001b[1;33m)\u001b[0m\u001b[1;33m:\u001b[0m\u001b[1;33m\u001b[0m\u001b[1;33m\u001b[0m\u001b[0m\n\u001b[1;32m----> 8\u001b[1;33m         \u001b[1;32mif\u001b[0m \u001b[0mli\u001b[0m\u001b[1;33m(\u001b[0m\u001b[0mi\u001b[0m\u001b[1;33m)\u001b[0m \u001b[1;32min\u001b[0m \u001b[0mlowestfre\u001b[0m\u001b[1;33m.\u001b[0m\u001b[0mkeys\u001b[0m\u001b[1;33m(\u001b[0m\u001b[1;33m)\u001b[0m\u001b[1;33m:\u001b[0m\u001b[1;33m\u001b[0m\u001b[1;33m\u001b[0m\u001b[0m\n\u001b[0m\u001b[0;32m      9\u001b[0m             \u001b[0mlowestfre\u001b[0m\u001b[1;33m[\u001b[0m\u001b[0mli\u001b[0m\u001b[1;33m[\u001b[0m\u001b[0mi\u001b[0m\u001b[1;33m]\u001b[0m\u001b[1;33m]\u001b[0m\u001b[1;33m+=\u001b[0m\u001b[1;36m1\u001b[0m\u001b[1;33m\u001b[0m\u001b[1;33m\u001b[0m\u001b[0m\n\u001b[0;32m     10\u001b[0m         \u001b[1;32melse\u001b[0m\u001b[1;33m:\u001b[0m\u001b[1;33m\u001b[0m\u001b[1;33m\u001b[0m\u001b[0m\n",
      "\u001b[1;31mTypeError\u001b[0m: 'list' object is not callable"
     ]
    }
   ],
   "source": [
    "#Function to identify kth lowest frequency\n",
    "# if there are many such elements, return the smallest\n",
    "# [1,2,3,2,1,4,4,9,7,6,5,8] --> 3\n",
    "def kthLowestFrequency(li,k):\n",
    "    \n",
    "    lowestfre = []\n",
    "    for i in li:\n",
    "        if i in lowestfre:\n",
    "            lowestfre[i]+=1\n",
    "        else:\n",
    "            lowestfre[i]=1\n",
    "            #find the max_frequency\n",
    "            min_count= n+1\n",
    "            res = -1\n",
    "    for i in lowestfre:\n",
    "        if min_count >= lowerfre(i):\n",
    "            res = i\n",
    "            min_count = lowerfre(i)\n",
    "    return res\n",
    "\n",
    "kthLowestFrequency([1,2,2,3,1,3,2,1],2)\n",
    "            \n",
    " "
   ]
  },
  {
   "cell_type": "code",
   "execution_count": 2,
   "metadata": {},
   "outputs": [
    {
     "data": {
      "text/plain": [
       "4"
      ]
     },
     "execution_count": 2,
     "metadata": {},
     "output_type": "execute_result"
    }
   ],
   "source": [
    "#Function to identify second highest frequency\n",
    "# if there are many such elements, return the smallest\n",
    "# [1,2,3,2,1,4,4,9] --> 3\n",
    "def secondHighestFrequency(li,k):\n",
    "    unique = {}\n",
    "    for n in li:\n",
    "        if n in unique:\n",
    "            unique[n]+=1\n",
    "        else:\n",
    "            unique[n]=1\n",
    "            x=[]\n",
    "            vq=[]\n",
    "    for item in unique.items():\n",
    "        x.append(item[1]) \n",
    "    for n in x:\n",
    "        if n not in vq:\n",
    "            vq.append(n)\n",
    "            vq=sorted(vq,reverse=True)\n",
    "            kl=[]\n",
    "    for item in unique.items():\n",
    "        if item[1]==vq[k-1]:\n",
    "            kl.append(item[0])\n",
    "    return min(kl)\n",
    "secondHighestFrequency([1,2,3,2,1,4,4,4,0,0,0,0,0,0],2)\n"
   ]
  },
  {
   "cell_type": "code",
   "execution_count": 3,
   "metadata": {},
   "outputs": [],
   "source": [
    "with open(\"DataFiles/k-largest-frequency-input.txt\", 'r') as data:\n",
    "    info = data.readlines()"
   ]
  },
  {
   "cell_type": "code",
   "execution_count": 12,
   "metadata": {},
   "outputs": [
    {
     "name": "stdout",
     "output_type": "stream",
     "text": [
      "s\n",
      "g\n",
      "h\n",
      "e\n",
      "w\n",
      "r\n",
      "n\n",
      "k\n",
      "-1\n",
      "-1\n"
     ]
    }
   ],
   "source": [
    "def kthighestFrequency(li,k):\n",
    "    unique = {}\n",
    "    for n in li:\n",
    "        if n in unique:\n",
    "            unique[n]+=1\n",
    "        else:\n",
    "            unique[n]=1\n",
    "            x=[]\n",
    "            freq=[]\n",
    "    for item in unique.items():\n",
    "        x.append(item[1]) \n",
    "    for n in x:\n",
    "        if n not in freq:\n",
    "            freq.append(n)\n",
    "    freq=sorted(freq,reverse=True)\n",
    "   #print(freq)\n",
    "    kl=[]\n",
    "    if k<=len(freq):\n",
    "        for item in unique.items():\n",
    "            if item[1]==freq[k-1]:\n",
    "                kl.append(item[0])\n",
    "        return min(kl)\n",
    "    else:\n",
    "        return -1\n",
    "#     #print       \n",
    "# kthighFrequency([1,2,3,2,1,4,4,4,0,0,0,0,0],2)\n",
    "\n",
    "with open(\"DataFiles/k-largest-frequency-input.txt\",\"r\") as f:\n",
    "    t= int(f.readline())\n",
    "    for i in range(t):\n",
    "        li=f.readline().strip()\n",
    "        k=int(f.readline())\n",
    "        print(kthighestFrequency(li,k))\n",
    "\n",
    "\n",
    "    "
   ]
  },
  {
   "cell_type": "code",
   "execution_count": null,
   "metadata": {},
   "outputs": [],
   "source": []
  },
  {
   "cell_type": "code",
   "execution_count": null,
   "metadata": {},
   "outputs": [],
   "source": []
  }
 ],
 "metadata": {
  "kernelspec": {
   "display_name": "Python 3",
   "language": "python",
   "name": "python3"
  },
  "language_info": {
   "codemirror_mode": {
    "name": "ipython",
    "version": 3
   },
   "file_extension": ".py",
   "mimetype": "text/x-python",
   "name": "python",
   "nbconvert_exporter": "python",
   "pygments_lexer": "ipython3",
   "version": "3.7.3"
  }
 },
 "nbformat": 4,
 "nbformat_minor": 2
}
