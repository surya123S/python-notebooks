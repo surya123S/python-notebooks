{
 "cells": [
  {
   "cell_type": "markdown",
   "metadata": {},
   "source": [
    "### Test on LEVEL_2 Programs\n",
    "### Total 4 Questions: Total MARKS : 30\n",
    "###  one question : 15 Marks\n",
    "### remaining question carrys 5 marks each"
   ]
  },
  {
   "cell_type": "markdown",
   "metadata": {},
   "source": [
    "### 1.  A Special Number is defined as a number which has atleast P distnict prime \n",
    "### Write a Program to determine whether a number N is a Special Number\n",
    "### INPUT FORMAT: \n",
    "### First Line: P\n",
    "### Second Line : T (Numbers of Test Cases)\n",
    "### Next T Lines: N\n",
    "### OUTPUT FORMAT : \n",
    "### For each test case Print YES or NO depending one the result.\n"
   ]
  },
  {
   "cell_type": "code",
   "execution_count": 1,
   "metadata": {},
   "outputs": [
    {
     "ename": "NameError",
     "evalue": "name 'n' is not defined",
     "output_type": "error",
     "traceback": [
      "\u001b[1;31m---------------------------------------------------------------------------\u001b[0m",
      "\u001b[1;31mNameError\u001b[0m                                 Traceback (most recent call last)",
      "\u001b[1;32m<ipython-input-1-c567dd414f9d>\u001b[0m in \u001b[0;36m<module>\u001b[1;34m\u001b[0m\n\u001b[0;32m     17\u001b[0m         \u001b[1;32mif\u001b[0m \u001b[0mflag\u001b[0m \u001b[1;33m==\u001b[0m \u001b[1;36m1\u001b[0m\u001b[1;33m:\u001b[0m\u001b[1;33m\u001b[0m\u001b[1;33m\u001b[0m\u001b[0m\n\u001b[0;32m     18\u001b[0m             \u001b[1;32mreturn\u001b[0m \u001b[1;32mTrue\u001b[0m\u001b[1;33m\u001b[0m\u001b[1;33m\u001b[0m\u001b[0m\n\u001b[1;32m---> 19\u001b[1;33m \u001b[0misPrime\u001b[0m\u001b[1;33m(\u001b[0m\u001b[0mn\u001b[0m\u001b[1;33m)\u001b[0m\u001b[1;33m\u001b[0m\u001b[1;33m\u001b[0m\u001b[0m\n\u001b[0m\u001b[0;32m     20\u001b[0m \u001b[1;33m\u001b[0m\u001b[0m\n\u001b[0;32m     21\u001b[0m                         \u001b[1;31m#Function to determine number of prime factors for a given number\u001b[0m\u001b[1;33m\u001b[0m\u001b[1;33m\u001b[0m\u001b[1;33m\u001b[0m\u001b[0m\n",
      "\u001b[1;31mNameError\u001b[0m: name 'n' is not defined"
     ]
    }
   ],
   "source": [
    "# Function to determine if a number is special number or not\n",
    "def isSpecialNumber(n, p):\n",
    "    if numberOfPrimeFactots(n) >= p:\n",
    "        return True\n",
    "    return False\n",
    "#isSpecialNumber(1,2)\n",
    "\n",
    "# Function to check if number is prime\n",
    "def isPrime(n):\n",
    "    flag =1\n",
    "    if n ==2:\n",
    "        return True\n",
    "    for i in range(2, n//2+1):\n",
    "        if n % i == 0:\n",
    "            flag = 0\n",
    "            return False\n",
    "        if flag == 1:\n",
    "            return True\n",
    "isPrime(n)\n",
    "\n",
    "                        #Function to determine number of prime factors for a given number\n",
    "def numberOfPrimeFactors(n):\n",
    "    if isPrime(n):\n",
    "        return 1\n",
    "    count =0\n",
    "    for i in range(2, n // 2 +1):\n",
    "        if isPrime(i) and n % i == 0:\n",
    "            count = count+1\n",
    "    return count\n",
    "numberOfPrimeFactors(n)\n",
    "\n",
    "\n"
   ]
  },
  {
   "cell_type": "code",
   "execution_count": null,
   "metadata": {},
   "outputs": [],
   "source": [
    "def Solution2():\n",
    "    p = int(input())\n",
    "    t = int(input())\n",
    "    for i in range(0, t):\n",
    "        n = int(input())\n",
    "        if isSpecialNumber(n,p):\n",
    "            print(\"YES\")\n",
    "        else:\n",
    "            print(\"NO\")\n",
    "Solution2()"
   ]
  },
  {
   "cell_type": "markdown",
   "metadata": {},
   "source": [
    "### Problem 3 ### Highest Remaider\n",
    "### Write a Program to find a natural number that i smaller than N such that N gives the  highest remainder when divided by that number\n",
    "### if there is more than one such number , print the smallest one.\n",
    "### INPUT FORMAT:\n",
    "### * First line Contains T (Test Cases)\n",
    "### * Next T lines : N\n",
    "### OUTPUT FORMAT:\n",
    "###  Highest = 0\n",
    "### Print a natural number which is smaller than N such that N gives the highest remainder when divided by that number.\n",
    "### x "
   ]
  },
  {
   "cell_type": "code",
   "execution_count": 20,
   "metadata": {},
   "outputs": [
    {
     "name": "stdout",
     "output_type": "stream",
     "text": [
      "30\n",
      "16\n"
     ]
    }
   ],
   "source": [
    "def highestRemainder(N):\n",
    "    hr = 0\n",
    "    v = N\n",
    "    for i in range(N-1, N//2, -1):\n",
    "        r = N%i\n",
    "        if r > hr:\n",
    "            hr = r\n",
    "            v = i\n",
    "    print (v)\n",
    "    return\n",
    "N = int(input())\n",
    "    \n",
    "highestRemainder(N)"
   ]
  },
  {
   "cell_type": "code",
   "execution_count": null,
   "metadata": {},
   "outputs": [],
   "source": []
  },
  {
   "cell_type": "code",
   "execution_count": null,
   "metadata": {},
   "outputs": [],
   "source": []
  }
 ],
 "metadata": {
  "kernelspec": {
   "display_name": "Python 3",
   "language": "python",
   "name": "python3"
  },
  "language_info": {
   "codemirror_mode": {
    "name": "ipython",
    "version": 3
   },
   "file_extension": ".py",
   "mimetype": "text/x-python",
   "name": "python",
   "nbconvert_exporter": "python",
   "pygments_lexer": "ipython3",
   "version": "3.7.3"
  }
 },
 "nbformat": 4,
 "nbformat_minor": 2
}
