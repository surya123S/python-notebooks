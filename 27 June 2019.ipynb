{
 "cells": [
  {
   "cell_type": "code",
   "execution_count": 6,
   "metadata": {},
   "outputs": [
    {
     "name": "stdout",
     "output_type": "stream",
     "text": [
      "1 2\n",
      "1 3\n",
      "1 4\n",
      "2 3\n",
      "2 4\n",
      "3 4\n"
     ]
    }
   ],
   "source": [
    "#Function to prints all combinations of pairs of Intergers in a unique List.\n",
    "# [1,2,3] --> (1,2) ,(1,3),(2,3)---> for this combination mathematical formula is ncr \n",
    "# n- number of elements\n",
    "# r - number of Combinations\n",
    "# ncr - n!/(n-r)*r! - 3c2- 3!/(3-2)!*2!\n",
    "# [1,2,3,4]--> (1,2) 1,3 1,4 2,3 2,4 3,4\n",
    "\n",
    "#Code: \n",
    "def combinations(li):\n",
    "    for i in range(len(li)-1):\n",
    "        for j in range(i+1, len(li)):\n",
    "            print(li[i], li[j])\n",
    "    return\n",
    "#combinations([1,2,3])\n",
    "combinations([1,2,3,4])"
   ]
  },
  {
   "cell_type": "code",
   "execution_count": 11,
   "metadata": {},
   "outputs": [
    {
     "name": "stdout",
     "output_type": "stream",
     "text": [
      "1 2 3\n",
      "1 2 4\n",
      "1 2 5\n",
      "1 3 4\n",
      "1 3 5\n",
      "1 4 5\n",
      "2 3 4\n",
      "2 3 5\n",
      "2 4 5\n",
      "3 4 5\n"
     ]
    }
   ],
   "source": [
    "def combinations3(li):\n",
    "    for i in range(len(li)-1):\n",
    "        for j in range(i+1, len(li)):\n",
    "            for k in range(j+1, len(li)):\n",
    "                print(li[i], li[j], li[k])\n",
    "    return\n",
    "combinations3([1,2,3,4,5])\n",
    "            "
   ]
  },
  {
   "cell_type": "code",
   "execution_count": 18,
   "metadata": {},
   "outputs": [
    {
     "data": {
      "text/plain": [
       "[1, 2, 3]"
      ]
     },
     "execution_count": 18,
     "metadata": {},
     "output_type": "execute_result"
    }
   ],
   "source": [
    "# Function to find difference of Pairs in a Unique List.\n",
    "def differencePairs(li):\n",
    "    for i in range(len(li)-1):\n",
    "        for j in range(i+1, len(li)):\n",
    "            d =abs(li[i]-li[j])\n",
    "            if d not in li:\n",
    "                li.append(d)\n",
    "    return li\n",
    "li = [1,2,3]\n",
    "\n",
    "differencePairs(li)\n"
   ]
  },
  {
   "cell_type": "code",
   "execution_count": 63,
   "metadata": {},
   "outputs": [
    {
     "data": {
      "text/plain": [
       "[]"
      ]
     },
     "execution_count": 63,
     "metadata": {},
     "output_type": "execute_result"
    }
   ],
   "source": [
    "def differencePairs2(li):\n",
    "    cli = li\n",
    "    newelements = []\n",
    "    for i in range(len(cli)-1):\n",
    "        for j in range(i+1, len(cli)):\n",
    "            d =abs(li[i]-li[j])\n",
    "            if d not in cli:\n",
    "                newelements.append(d)\n",
    "    return newelements\n",
    "li = [1,9,8,7,6,5,4,3,2]\n",
    "\n",
    "differencePairs2(li)\n"
   ]
  },
  {
   "cell_type": "code",
   "execution_count": 74,
   "metadata": {},
   "outputs": [
    {
     "data": {
      "text/plain": [
       "[1, 9, 8, 7, 2]"
      ]
     },
     "execution_count": 74,
     "metadata": {},
     "output_type": "execute_result"
    }
   ],
   "source": [
    "# [1,2,3] --> [1,2,3]\n",
    "def differencePairs3(li):\n",
    "    combinediff = li\n",
    "    newelements = []\n",
    "    for i in range(len(li)-1):\n",
    "        for j in range(i+1, len(li)):\n",
    "            D = abs(li[i]-li[j])\n",
    "            if D not in combinediff:\n",
    "                newelements.append(D)\n",
    "                li2 = li + newelements\n",
    "        return li2                              #print(li2)\n",
    "    \n",
    "#differencePairs3([1,9])\n",
    "    \n",
    "\n",
    "def constantFinalList(Fvalues):\n",
    "    k = differencePairs3(Fvalues)\n",
    "    while True:\n",
    "        constantPairs = differencePairs(k)\n",
    "        if k == constantPairs:\n",
    "            return constantPairs\n",
    "            break\n",
    "        else:\n",
    "             for m in constantPairs:\n",
    "                    if m not in k:\n",
    "                        k.append(m)\n",
    "constantFinalList([1,9])\n",
    "            \n",
    "    \n",
    "            \n"
   ]
  },
  {
   "cell_type": "code",
   "execution_count": 73,
   "metadata": {},
   "outputs": [
    {
     "data": {
      "text/plain": [
       "[1, 9, 8]"
      ]
     },
     "execution_count": 73,
     "metadata": {},
     "output_type": "execute_result"
    }
   ],
   "source": [
    "def differencePairs3(li):\n",
    "    combinediff = li\n",
    "    newelements = []\n",
    "    for i in range(len(li)-1):\n",
    "        for j in range(i+1, len(li)):\n",
    "            D = abs(li[i]-li[j])\n",
    "            if D not in combinediff:\n",
    "                newelements.append(D)\n",
    "                li2 = li + newelements\n",
    "        return li2                              #print(li2)\n",
    "    \n",
    "differencePairs3([1,9])\n",
    "    \n"
   ]
  },
  {
   "cell_type": "code",
   "execution_count": 80,
   "metadata": {},
   "outputs": [
    {
     "data": {
      "text/plain": [
       "[3, 7]"
      ]
     },
     "execution_count": 80,
     "metadata": {},
     "output_type": "execute_result"
    }
   ],
   "source": [
    "#Arthimetic Progression is the difference between consecutive numbers should be same then we can decalred as \n",
    "# given series is in Arthimetic Progression\n",
    "def arthimeticProgression(li):\n",
    "    diff= []\n",
    "    for i in range(len(li)-1):\n",
    "        D = abs(li[i]-li[i+1])\n",
    "        if D not in diff:\n",
    "            diff.append(D)\n",
    "    return diff\n",
    "arthimeticProgression([5,8,15])"
   ]
  },
  {
   "cell_type": "code",
   "execution_count": 81,
   "metadata": {},
   "outputs": [
    {
     "data": {
      "text/plain": [
       "[1, 3, 2, 4, 5]"
      ]
     },
     "execution_count": 81,
     "metadata": {},
     "output_type": "execute_result"
    }
   ],
   "source": [
    "# List Data referencing vs Data copy\n",
    "a = [1,2,3]\n",
    "b= [1,3,2]\n",
    "a = b.copy() # Data Copy\n",
    "\n",
    "a = b # Data Referencing\n",
    "\n",
    "b.append(4)\n",
    "a.append(5)\n",
    "b"
   ]
  },
  {
   "cell_type": "code",
   "execution_count": null,
   "metadata": {},
   "outputs": [],
   "source": [
    "[4,8]\n",
    "[20,40,60]\n",
    "[4,8,12,16]\n",
    "[3,6,9,12]\n",
    "# Convert the list into an\n",
    "# Arithmetic Progression\n",
    "\n",
    "[3,8,15]\n",
    "[3,8,15,5,2,1,4,6,7,9,10,11,12,13,14]"
   ]
  },
  {
   "cell_type": "code",
   "execution_count": null,
   "metadata": {},
   "outputs": [],
   "source": [
    "a = [1,2,3]\n",
    "b = [1,3,2]\n"
   ]
  },
  {
   "cell_type": "code",
   "execution_count": 87,
   "metadata": {},
   "outputs": [
    {
     "data": {
      "text/plain": [
       "[2, 3, 6, 9, 12, 1, 4, 7, 10, 5, 8, 11]"
      ]
     },
     "execution_count": 87,
     "metadata": {},
     "output_type": "execute_result"
    }
   ],
   "source": [
    "def differencePairs4(li):\n",
    "    c =li.copy()\n",
    "    newelements = []\n",
    "    for i in range(len(li)-1):\n",
    "        for j in range(i+1, len(li)):\n",
    "            D = abs(li[i]- li[j])\n",
    "            if D not in li and D not in newelements:\n",
    "                newelements.append(D)\n",
    "    li.extend(newelements)\n",
    "    return [c,li]\n",
    "#li = [2,3,6,9,12, 1, 4, 7, 10]\n",
    "#differencePairs4(li)\n",
    "def medium(li, k):\n",
    "    while(True):\n",
    "        li3 = differencePairs(li)\n",
    "        if li3[0] == li3[1]:\n",
    "            break\n",
    "        if len(li3[0]>=k):\n",
    "            \n",
    "\n",
    "\n",
    "            "
   ]
  },
  {
   "cell_type": "markdown",
   "metadata": {},
   "source": [
    "#### SET - DATA STRUCTURES in Python\n",
    "Represented by '{}'\n",
    "#### Sets are unordered and unindexed so elements in set are arrange "
   ]
  },
  {
   "cell_type": "code",
   "execution_count": 103,
   "metadata": {},
   "outputs": [
    {
     "name": "stdout",
     "output_type": "stream",
     "text": [
      "1 2 3 4 5 6 7 "
     ]
    },
    {
     "data": {
      "text/plain": [
       "{1, 2, 3, 4, 5, 6, 7, 8, 9, 11, 12}"
      ]
     },
     "execution_count": 103,
     "metadata": {},
     "output_type": "execute_result"
    }
   ],
   "source": [
    "a = {1,2,3,4,5,6, 6}\n",
    "a.add(7)  \n",
    "for i in a:\n",
    "    print(i, end=\" \") # Accesing all elements in set a \n",
    "b = {7,8,9,1,2,3}     # another b set\n",
    "li = [11,12,13,1]     # another li list\n",
    "a.update(b,li)  # adding  Multiple elements both set b and list li\n",
    "a.discard(13)\n",
    "a"
   ]
  },
  {
   "cell_type": "code",
   "execution_count": 107,
   "metadata": {},
   "outputs": [
    {
     "data": {
      "text/plain": [
       "{1, 2, 3, 4, 5, 6, 7, 9, 11, 12}"
      ]
     },
     "execution_count": 107,
     "metadata": {},
     "output_type": "execute_result"
    }
   ],
   "source": [
    "a.discard(b)\n",
    "len(a)\n",
    "a.remove(8)\n",
    "a"
   ]
  },
  {
   "cell_type": "code",
   "execution_count": 116,
   "metadata": {},
   "outputs": [
    {
     "data": {
      "text/plain": [
       "True"
      ]
     },
     "execution_count": 116,
     "metadata": {},
     "output_type": "execute_result"
    }
   ],
   "source": [
    "a = {10,1,2,3,4,5,6}\n",
    "b = {2,3,4,5,1,7,8,9}\n",
    "c = {123.141}\n",
    "# A U B = B U A\n",
    "a.union(b)\n",
    "b.union(a)\n",
    "a.intersection(b)\n",
    "b\n",
    "a\n",
    "a.isdisjoint(c)   # BECUS"
   ]
  },
  {
   "cell_type": "code",
   "execution_count": 129,
   "metadata": {},
   "outputs": [
    {
     "data": {
      "text/plain": [
       "set()"
      ]
     },
     "execution_count": 129,
     "metadata": {},
     "output_type": "execute_result"
    }
   ],
   "source": [
    "a -b # all elements of a which are not in b i.e "
   ]
  },
  {
   "cell_type": "code",
   "execution_count": 130,
   "metadata": {},
   "outputs": [
    {
     "data": {
      "text/plain": [
       "{1, 2, 3, 4, 5, 7, 8, 9}"
      ]
     },
     "execution_count": 130,
     "metadata": {},
     "output_type": "execute_result"
    }
   ],
   "source": [
    "b-a  # all elements of b which are not in a i,e"
   ]
  },
  {
   "cell_type": "code",
   "execution_count": 133,
   "metadata": {},
   "outputs": [],
   "source": [
    "sorted(a)\n",
    "a = {10,1,2,3,4,5,6}\n",
    "b = {2,3,4,5,1,7,8,9}"
   ]
  },
  {
   "cell_type": "code",
   "execution_count": 135,
   "metadata": {},
   "outputs": [
    {
     "data": {
      "text/plain": [
       "{6, 7, 8, 9, 10}"
      ]
     },
     "execution_count": 135,
     "metadata": {},
     "output_type": "execute_result"
    }
   ],
   "source": [
    "a ^ b # Elements either in a or in b that means it will uncommon elements of both sets a and b"
   ]
  },
  {
   "cell_type": "code",
   "execution_count": 136,
   "metadata": {},
   "outputs": [
    {
     "data": {
      "text/plain": [
       "set()"
      ]
     },
     "execution_count": 136,
     "metadata": {},
     "output_type": "execute_result"
    }
   ],
   "source": [
    "d = set()  # Assinging empty set() into b set\n",
    "d"
   ]
  },
  {
   "cell_type": "code",
   "execution_count": 138,
   "metadata": {},
   "outputs": [
    {
     "data": {
      "text/plain": [
       "{1, 2, 3, 4}"
      ]
     },
     "execution_count": 138,
     "metadata": {},
     "output_type": "execute_result"
    }
   ],
   "source": [
    "li = [1,2,3,4,2,1,2,3,4]    # take an un unique elements of list\n",
    "u = set(li)     # u returns the unique elements of list li by removing duplicate elements\n",
    "u"
   ]
  },
  {
   "cell_type": "markdown",
   "metadata": {},
   "source": [
    "####  FUNCTIONAL PROGRAMMING\n",
    "Description: In computer science, functional programming is a programming paradigm—a style of building the structure and elements of computer programs—that treats computation as the evaluation of mathematical functions and avoids changing-state and mutable data.\n",
    "Procedural : C\n",
    "Object Oriented : JAVA, PYTHON\n",
    "Scrpiting : PHP, Python , JavaScript, Shell, Perl\n",
    "Functional : Python , Haskell, Scala\n",
    "Logical : Prolog , Lisp"
   ]
  },
  {
   "cell_type": "markdown",
   "metadata": {},
   "source": [
    "#### LIst Comprehensions"
   ]
  },
  {
   "cell_type": "code",
   "execution_count": 144,
   "metadata": {},
   "outputs": [
    {
     "data": {
      "text/plain": [
       "[1, 2, 3, 4, 5, 6, 7, 8, 9, 10]"
      ]
     },
     "execution_count": 144,
     "metadata": {},
     "output_type": "execute_result"
    }
   ],
   "source": [
    "#  N natural numbers in a list\n",
    "n = 10\n",
    "li = []\n",
    "for i in range(1, n+1):\n",
    "    li.append(i) \n",
    "li\n",
    "    "
   ]
  },
  {
   "cell_type": "code",
   "execution_count": 145,
   "metadata": {},
   "outputs": [
    {
     "data": {
      "text/plain": [
       "[1, 2, 3, 4, 5, 6, 7, 8, 9, 10]"
      ]
     },
     "execution_count": 145,
     "metadata": {},
     "output_type": "execute_result"
    }
   ],
   "source": [
    "li = [i for i in range(1, 11)]\n",
    "li\n",
    "    "
   ]
  },
  {
   "cell_type": "code",
   "execution_count": 151,
   "metadata": {},
   "outputs": [
    {
     "data": {
      "text/plain": [
       "[1, 8, 27, 64, 125, 216, 343, 512, 729, 1000]"
      ]
     },
     "execution_count": 151,
     "metadata": {},
     "output_type": "execute_result"
    }
   ],
   "source": [
    "# Apply list Comprehension to store the cubes of n natural numbers\n",
    "li = [i**3 for i in range(1, 11)]\n",
    "li"
   ]
  },
  {
   "cell_type": "code",
   "execution_count": 51,
   "metadata": {},
   "outputs": [
    {
     "name": "stdout",
     "output_type": "stream",
     "text": [
      "[4, 16, 36, 49, 64]\n"
     ]
    }
   ],
   "source": [
    "# Function to print squares of list of n numbers\n",
    "numbers = [2, 4, 6,7, 8]\n",
    "squares = []\n",
    "for n in numbers:\n",
    "    squares.append(n**2)\n",
    "print(squares)\n",
    " # print squares by List Comprehension\n",
    "squares = [n**2 for n in numbers]"
   ]
  },
  {
   "cell_type": "code",
   "execution_count": 6,
   "metadata": {},
   "outputs": [
    {
     "data": {
      "text/plain": [
       "[1, 2, 6, 24, 120, 720, 5040, 40320, 362880, 3628800]"
      ]
     },
     "execution_count": 6,
     "metadata": {},
     "output_type": "execute_result"
    }
   ],
   "source": [
    "# Function to calculate the factorial of n numbers\n",
    "def factorial(n):\n",
    "    if n == 0 or n == 1:\n",
    "        return 1\n",
    "    return n * factorial(n-1)\n",
    "# Apply list comprehension to calculate \n",
    "# factorial of n natural numbers\n",
    "n = 10\n",
    "factorialList = [factorial(i) for i in range(1, n+1)]\n",
    "factorialList"
   ]
  },
  {
   "cell_type": "code",
   "execution_count": 7,
   "metadata": {},
   "outputs": [
    {
     "name": "stdout",
     "output_type": "stream",
     "text": [
      "3\n",
      "1 3 6 "
     ]
    }
   ],
   "source": [
    "# Calculate cumulative sum of numbers till n in a list\n",
    "#Example : n = 3 , [1, 3, 6]\n",
    "def sumofN(n):\n",
    "    res = 0\n",
    "    for i in range(1, n+1):\n",
    "        res = res + i\n",
    "        print(res, end = \" \")\n",
    "n = int(input())\n",
    "sumofN(n)\n",
    "#[sumofN(3) for i in range(1, n+1)]"
   ]
  },
  {
   "cell_type": "code",
   "execution_count": 15,
   "metadata": {},
   "outputs": [
    {
     "data": {
      "text/plain": [
       "[1, 3, 6, 10, 15, 21]"
      ]
     },
     "execution_count": 15,
     "metadata": {},
     "output_type": "execute_result"
    }
   ],
   "source": [
    "n=6\n",
    "result = [sum(range(1, i+1)) for i in range(1, n+1)]\n",
    "result"
   ]
  },
  {
   "cell_type": "code",
   "execution_count": 35,
   "metadata": {},
   "outputs": [
    {
     "name": "stdout",
     "output_type": "stream",
     "text": [
      "1972 1976 1984 1988 1992 1996 2000 2004 2008 2012 2016 "
     ]
    },
    {
     "data": {
      "text/plain": [
       "[False,\n",
       " False,\n",
       " None,\n",
       " False,\n",
       " False,\n",
       " False,\n",
       " None,\n",
       " False,\n",
       " False,\n",
       " False,\n",
       " False,\n",
       " False,\n",
       " False,\n",
       " False,\n",
       " None,\n",
       " False,\n",
       " False,\n",
       " False,\n",
       " None,\n",
       " False,\n",
       " False,\n",
       " False,\n",
       " None,\n",
       " False,\n",
       " False,\n",
       " False,\n",
       " None,\n",
       " False,\n",
       " False,\n",
       " False,\n",
       " None,\n",
       " False,\n",
       " False,\n",
       " False,\n",
       " None,\n",
       " False,\n",
       " False,\n",
       " False,\n",
       " None,\n",
       " False,\n",
       " False,\n",
       " False,\n",
       " None,\n",
       " False,\n",
       " False,\n",
       " False,\n",
       " None,\n",
       " False,\n",
       " False]"
      ]
     },
     "execution_count": 35,
     "metadata": {},
     "output_type": "execute_result"
    }
   ],
   "source": [
    "#Function to store only leap years in a given time period \n",
    "# using functions or List Comprehension\n",
    "def isLeapyear(year):\n",
    "    if year % 400 == 0 or (year%10!=0 and year%4==0):\n",
    "        return(print(year, end=\" \"))\n",
    "    else:\n",
    "        return False\n",
    "isLeapyear(1970)\n",
    "    \n",
    "leapy = [isLeapyear(i) for i in range(1970, 2019)]\n",
    "leapy"
   ]
  },
  {
   "cell_type": "code",
   "execution_count": 39,
   "metadata": {},
   "outputs": [
    {
     "data": {
      "text/plain": [
       "[1972, 1976, 1980, 1984, 1988, 1992, 1996, 2000, 2004, 2008, 2012, 2016]"
      ]
     },
     "execution_count": 39,
     "metadata": {},
     "output_type": "execute_result"
    }
   ],
   "source": [
    "st = 1970\n",
    "ed = 2019\n",
    "leapyears =[i for i in range(st,ed+1) if i % 400 == 0 or (i % 100!=0 and i % 4==0)]\n",
    "leapyears"
   ]
  },
  {
   "cell_type": "code",
   "execution_count": 52,
   "metadata": {},
   "outputs": [
    {
     "data": {
      "text/plain": [
       "[3]"
      ]
     },
     "execution_count": 52,
     "metadata": {},
     "output_type": "execute_result"
    }
   ],
   "source": [
    "li = [1, 2 ,3 ,2, 1]\n",
    "u2 = []\n",
    "unique = [li[i] for i in li if li.count(i) ==1] # getting unique list by using list comprehension\n",
    "unique"
   ]
  },
  {
   "cell_type": "code",
   "execution_count": null,
   "metadata": {},
   "outputs": [],
   "source": [
    "li = [1,2,3,1,1,4,4,5,6,5,5]\n",
    "unique1 = []\n",
    "unique = []\n",
    "unique = [ li[i] for i in range(0, len )]"
   ]
  },
  {
   "cell_type": "code",
   "execution_count": 61,
   "metadata": {},
   "outputs": [
    {
     "name": "stdout",
     "output_type": "stream",
     "text": [
      "[5, 9]\n"
     ]
    },
    {
     "data": {
      "text/plain": [
       "[5, 9]"
      ]
     },
     "execution_count": 61,
     "metadata": {},
     "output_type": "execute_result"
    }
   ],
   "source": [
    "# Function to print common elements of two lists \n",
    "list_a = [1,2,5,6,9]\n",
    "list_b = [3,5,9,7,4]\n",
    "common = []\n",
    "for a in list_a:\n",
    "    for b in list_b:\n",
    "        if a == b:\n",
    "            common.append(a)\n",
    "print(common)\n",
    "# Using List Comprehension \n",
    "common = [a for a in list_a for b in list_b if a ==b]\n",
    "common"
   ]
  },
  {
   "cell_type": "markdown",
   "metadata": {},
   "source": [
    "### ITERATORS\n",
    "- Iterable \n",
    "    - Strings, Lists, Tuples , Sets, Dictionaries\n",
    " Convert Iterable to Iterator --> iter()\n",
    " Difference between For Loop and Iterator is \n",
    " For Loop : it goes though the some condition it never stop until that condition is completed or falied\n",
    " Iterator : In this Iterator , we can stop some spection number of iteration during execution of program\n",
    " "
   ]
  },
  {
   "cell_type": "code",
   "execution_count": 71,
   "metadata": {},
   "outputs": [
    {
     "data": {
      "text/plain": [
       "'n'"
      ]
     },
     "execution_count": 71,
     "metadata": {},
     "output_type": "execute_result"
    }
   ],
   "source": [
    "it = iter('Python')\n",
    "next(it)\n",
    "next(it)\n",
    "next(it)\n",
    "next(it)\n",
    "next(it)\n",
    "next(it)"
   ]
  },
  {
   "cell_type": "code",
   "execution_count": 72,
   "metadata": {},
   "outputs": [
    {
     "name": "stdout",
     "output_type": "stream",
     "text": [
      "1 : \n",
      "P\n",
      "\n",
      "\n",
      "2: \n",
      "y\n"
     ]
    }
   ],
   "source": [
    "it = iter('Python')\n",
    "print('1 : ')\n",
    "print(next(it))\n",
    "print('\\n')\n",
    "print('2: ')\n",
    "print(next(it))\n",
    "    "
   ]
  },
  {
   "cell_type": "markdown",
   "metadata": {},
   "source": [
    "#### GENERATORS\n",
    "Python generator gives us an easier way to create python iterators. This is done by defining a function but instead of the return statement returning from the function, use the \"yield\" keyword. For example, see how you can get a simple vowel generator below."
   ]
  },
  {
   "cell_type": "code",
   "execution_count": 84,
   "metadata": {},
   "outputs": [
    {
     "data": {
      "text/plain": [
       "64"
      ]
     },
     "execution_count": 84,
     "metadata": {},
     "output_type": "execute_result"
    }
   ],
   "source": [
    "def generator():\n",
    "    n = 2\n",
    "    yield n\n",
    "    n= n**3\n",
    "    yield n\n",
    "    n = n ** 2\n",
    "    yield n\n",
    "a = generator()\n",
    "next(a)\n",
    "next(a)\n",
    "next(a)"
   ]
  },
  {
   "cell_type": "code",
   "execution_count": 98,
   "metadata": {},
   "outputs": [
    {
     "name": "stdout",
     "output_type": "stream",
     "text": [
      "a\n",
      "e\n",
      "i\n",
      "o\n",
      "u\n"
     ]
    }
   ],
   "source": [
    "def vowels():\n",
    "    yield 'a'\n",
    "    yield 'e'\n",
    "    yield 'i'\n",
    "    yield 'o'\n",
    "    yield 'u'\n",
    "for i in vowels():\n",
    "    print(i)"
   ]
  },
  {
   "cell_type": "code",
   "execution_count": 97,
   "metadata": {},
   "outputs": [
    {
     "name": "stdout",
     "output_type": "stream",
     "text": [
      "8\n",
      "512\n",
      "134217728\n",
      "2417851639229258349412352\n"
     ]
    },
    {
     "ename": "StopIteration",
     "evalue": "",
     "output_type": "error",
     "traceback": [
      "\u001b[1;31m---------------------------------------------------------------------------\u001b[0m",
      "\u001b[1;31mStopIteration\u001b[0m                             Traceback (most recent call last)",
      "\u001b[1;32m<ipython-input-97-85f152bfe4d7>\u001b[0m in \u001b[0;36m<module>\u001b[1;34m\u001b[0m\n\u001b[0;32m      6\u001b[0m \u001b[0ma\u001b[0m \u001b[1;33m=\u001b[0m \u001b[0mgenerator\u001b[0m\u001b[1;33m(\u001b[0m\u001b[1;33m)\u001b[0m\u001b[1;33m\u001b[0m\u001b[1;33m\u001b[0m\u001b[0m\n\u001b[0;32m      7\u001b[0m \u001b[1;32mfor\u001b[0m \u001b[0mi\u001b[0m \u001b[1;32min\u001b[0m \u001b[0mrange\u001b[0m\u001b[1;33m(\u001b[0m\u001b[1;36m5\u001b[0m\u001b[1;33m)\u001b[0m\u001b[1;33m:\u001b[0m\u001b[1;33m\u001b[0m\u001b[1;33m\u001b[0m\u001b[0m\n\u001b[1;32m----> 8\u001b[1;33m     \u001b[0mprint\u001b[0m\u001b[1;33m(\u001b[0m\u001b[0mnext\u001b[0m\u001b[1;33m(\u001b[0m\u001b[0ma\u001b[0m\u001b[1;33m)\u001b[0m\u001b[1;33m)\u001b[0m\u001b[1;33m\u001b[0m\u001b[1;33m\u001b[0m\u001b[0m\n\u001b[0m",
      "\u001b[1;31mStopIteration\u001b[0m: "
     ]
    }
   ],
   "source": [
    "def generator():\n",
    "    n = 2\n",
    "    for i in range(1,5):\n",
    "        n **= 3\n",
    "        yield n\n",
    "a = generator()\n",
    "for i in range(5):\n",
    "    print(next(a))"
   ]
  },
  {
   "cell_type": "code",
   "execution_count": null,
   "metadata": {},
   "outputs": [],
   "source": []
  }
 ],
 "metadata": {
  "kernelspec": {
   "display_name": "Python 3",
   "language": "python",
   "name": "python3"
  },
  "language_info": {
   "codemirror_mode": {
    "name": "ipython",
    "version": 3
   },
   "file_extension": ".py",
   "mimetype": "text/x-python",
   "name": "python",
   "nbconvert_exporter": "python",
   "pygments_lexer": "ipython3",
   "version": "3.7.3"
  }
 },
 "nbformat": 4,
 "nbformat_minor": 2
}
