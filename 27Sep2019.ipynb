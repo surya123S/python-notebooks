{
 "cells": [
  {
   "cell_type": "code",
   "execution_count": null,
   "metadata": {},
   "outputs": [],
   "source": [
    "#Today concept:\n",
    "#python Special Functions:\n",
    "map()\n",
    "filter()\n",
    "reduce()\n",
    "lambda"
   ]
  },
  {
   "cell_type": "code",
   "execution_count": null,
   "metadata": {},
   "outputs": [],
   "source": [
    "#map() function\n",
    "syntax : map(functionname, seqence)\n",
    "    map(add,[1,2,3,4])"
   ]
  },
  {
   "cell_type": "code",
   "execution_count": 7,
   "metadata": {},
   "outputs": [
    {
     "name": "stdout",
     "output_type": "stream",
     "text": [
      "{8, 10, 4, 6}\n"
     ]
    }
   ],
   "source": [
    "#example:\n",
    "def addSum(x):\n",
    "    return x+x\n",
    "li = [2,3,4,5,5,5,3]\n",
    "data = set(map(addSum,li))\n",
    "print(data)\n"
   ]
  },
  {
   "cell_type": "code",
   "execution_count": null,
   "metadata": {},
   "outputs": [],
   "source": [
    "#Filter()\n",
    "syntax:\n",
    "    filter(funname,seq)\n",
    "    \n"
   ]
  },
  {
   "cell_type": "code",
   "execution_count": 8,
   "metadata": {},
   "outputs": [
    {
     "name": "stdout",
     "output_type": "stream",
     "text": [
      "[5, 6, 8, 11]\n"
     ]
    }
   ],
   "source": [
    "#example\n",
    "def numFilter(x):\n",
    "    if x>=5:\n",
    "        return x\n",
    "data = filter(numFilter,(2,3,5,6,8,11,1))\n",
    "print(list(data))"
   ]
  },
  {
   "cell_type": "code",
   "execution_count": 10,
   "metadata": {},
   "outputs": [
    {
     "name": "stdout",
     "output_type": "stream",
     "text": [
      "['mam', '121', 'lol', '525']\n"
     ]
    }
   ],
   "source": [
    "def stringFilter(s):\n",
    "    if s==s[::-1]:\n",
    "        return s\n",
    "palins = filter(stringFilter,[\"mam\",\"121\",\"python\",\"lol\",\"525\"])\n",
    "print(list(palins))"
   ]
  },
  {
   "cell_type": "code",
   "execution_count": null,
   "metadata": {},
   "outputs": [],
   "source": [
    "#Task :\n",
    "vowels = [\"a\",\"e\",\"i\",\"o\",\"u\"]\n",
    "seqence = [\"s\",\"u\",\"r\",\"y\",\"a\",\"p\",\"y\",\"t\",\"h\",\"o\",\"n\"] given by user\n",
    "filter only vowels"
   ]
  },
  {
   "cell_type": "code",
   "execution_count": 12,
   "metadata": {},
   "outputs": [
    {
     "name": "stdout",
     "output_type": "stream",
     "text": [
      "['u', 'a']\n"
     ]
    }
   ],
   "source": [
    "def filtera(x):\n",
    "    a=[\"a\",\"e\",\"i\",\"o\",\"u\"]\n",
    "    for i in a:\n",
    "        if x in a:\n",
    "            return x\n",
    "p=filter(filtera,[\"s\",\"u\",\"r\",\"y\",\"a\"])\n",
    "print(list(p))"
   ]
  },
  {
   "cell_type": "code",
   "execution_count": null,
   "metadata": {},
   "outputs": [],
   "source": [
    "#reduce:\n",
    "syntax :\n",
    "    reduce(add, [1,2,3,5,6,7])"
   ]
  },
  {
   "cell_type": "code",
   "execution_count": 14,
   "metadata": {},
   "outputs": [
    {
     "name": "stdout",
     "output_type": "stream",
     "text": [
      "factorial of 3: 6\n"
     ]
    }
   ],
   "source": [
    "#example:\n",
    "import functools\n",
    "#factorail of 3\n",
    "def fact(x,y):\n",
    "    return x*y\n",
    "fact1 = functools.reduce(fact,range(1,4))\n",
    "print(\"factorial of 3:\",fact1)\n"
   ]
  },
  {
   "cell_type": "code",
   "execution_count": null,
   "metadata": {},
   "outputs": [],
   "source": [
    "#lambda Function:\n",
    "def func():\n",
    "    syntax:\n",
    "        \n",
    "        lambda arguments: expression\n"
   ]
  },
  {
   "cell_type": "code",
   "execution_count": 16,
   "metadata": {},
   "outputs": [
    {
     "name": "stdout",
     "output_type": "stream",
     "text": [
      "125\n",
      "512\n"
     ]
    }
   ],
   "source": [
    "#example:\n",
    "def cube(x):\n",
    "    return x*x*x\n",
    "\n",
    "result =lambda y: y*y*y\n",
    "print(cube(5))\n",
    "print(result(8))"
   ]
  },
  {
   "cell_type": "code",
   "execution_count": 19,
   "metadata": {},
   "outputs": [
    {
     "name": "stdout",
     "output_type": "stream",
     "text": [
      "(False, True, False, False, True, True, True)\n"
     ]
    }
   ],
   "source": [
    "#map() function with lambda\n",
    "tup =(5,6,9,45,90,34,12)\n",
    "newtuple =map((lambda x:x%2==0),tup)\n",
    "print(tuple(newtuple))"
   ]
  },
  {
   "cell_type": "code",
   "execution_count": 22,
   "metadata": {},
   "outputs": [
    {
     "name": "stdout",
     "output_type": "stream",
     "text": [
      "[99, 3, 7, 9]\n"
     ]
    }
   ],
   "source": [
    "#filter with lambda\n",
    "li = [34,78,99,3,7,9,56]\n",
    "odd = filter((lambda x:x%2!=0),li)\n",
    "print(list(odd))"
   ]
  },
  {
   "cell_type": "code",
   "execution_count": 25,
   "metadata": {},
   "outputs": [
    {
     "name": "stdout",
     "output_type": "stream",
     "text": [
      "210\n"
     ]
    }
   ],
   "source": [
    "#Reduce with Lambda\n",
    "import functools\n",
    "li = [10,20,30,40,50,60]\n",
    "serialsum = functools.reduce((lambda x,y: x+y),li)\n",
    "print(serialsum)"
   ]
  },
  {
   "cell_type": "code",
   "execution_count": 30,
   "metadata": {},
   "outputs": [
    {
     "name": "stdout",
     "output_type": "stream",
     "text": [
      "[10, 12, 18, 20]\n"
     ]
    }
   ],
   "source": [
    "#filter with map() and lambda:\n",
    "result = map((lambda x: x+x),filter((lambda x:x>=5),[4,5,6,9,10,3]))\n",
    "print(list(result))\n",
    "            \n",
    "              "
   ]
  },
  {
   "cell_type": "code",
   "execution_count": null,
   "metadata": {},
   "outputs": [],
   "source": [
    "li= [34,67,89,44,22,94,12,58]"
   ]
  },
  {
   "cell_type": "code",
   "execution_count": 52,
   "metadata": {},
   "outputs": [
    {
     "data": {
      "text/plain": [
       "400"
      ]
     },
     "execution_count": 52,
     "metadata": {},
     "output_type": "execute_result"
    }
   ],
   "source": [
    "evenSum = reduce(lambda x,y:x+y,filter(lambda x:x>=40,map\n",
    "                                       (lambda x:x+x,li)))\n",
    "evenSum"
   ]
  },
  {
   "cell_type": "code",
   "execution_count": null,
   "metadata": {},
   "outputs": [],
   "source": [
    "#Data science concepts:\n",
    "1. Numpy (Numerical + python)\n",
    "2. pandas\n",
    "3. Matplotlib\n"
   ]
  },
  {
   "cell_type": "code",
   "execution_count": null,
   "metadata": {},
   "outputs": [],
   "source": [
    "#features\n",
    "1. power N-dimensional array object\n",
    "2  scientific computing\n",
    "3. tools for integrating c/c++\n",
    "4. linear algebra\n",
    "5. ramdom numcial data"
   ]
  },
  {
   "cell_type": "code",
   "execution_count": null,
   "metadata": {},
   "outputs": [],
   "source": [
    "#Numpy array?\n"
   ]
  },
  {
   "cell_type": "code",
   "execution_count": 55,
   "metadata": {},
   "outputs": [
    {
     "data": {
      "text/plain": [
       "array([1, 2, 3])"
      ]
     },
     "execution_count": 55,
     "metadata": {},
     "output_type": "execute_result"
    }
   ],
   "source": [
    "#single dimensional array\n",
    "import numpy as np\n",
    "a = np.array([1,2,3])\n",
    "a\n",
    "#print(a)"
   ]
  },
  {
   "cell_type": "code",
   "execution_count": 56,
   "metadata": {},
   "outputs": [
    {
     "data": {
      "text/plain": [
       "array([[3, 5, 6],\n",
       "       [7, 8, 9]])"
      ]
     },
     "execution_count": 56,
     "metadata": {},
     "output_type": "execute_result"
    }
   ],
   "source": [
    "a = np.array(([3,5,6],[7,8,9]))\n",
    "a #multi dimensional array"
   ]
  },
  {
   "cell_type": "code",
   "execution_count": null,
   "metadata": {},
   "outputs": [],
   "source": [
    "#Numpy operations:\n",
    "1. ndim\n",
    "2. dtype\n",
    "3. shape - number of rows and columns\n",
    "4. itemsize- size of elements in the form of bytes\n",
    "5. reshape - change the shape of created array\n",
    "6. arange(low, high, size)\n",
    "7. arthimatic operations (add,sub)\n",
    "8. size  - number of elements in the array\n",
    "9. zeros(3,4) ,ones(2,2)\n"
   ]
  },
  {
   "cell_type": "code",
   "execution_count": 74,
   "metadata": {},
   "outputs": [
    {
     "name": "stdout",
     "output_type": "stream",
     "text": [
      "2\n",
      "int32\n",
      "(2, 3)\n",
      "[[1 2 3]\n",
      " [5 6 8]]\n",
      "[[1 2]\n",
      " [3 5]\n",
      " [6 8]]\n",
      "4\n",
      "6\n"
     ]
    }
   ],
   "source": [
    "a = np.array(([1,2,3],[5,6,8]))\n",
    "print(a.ndim)\n",
    "print(a.dtype)\n",
    "print(a.shape)\n",
    "print(a)\n",
    "print(a.reshape(3,2))\n",
    "print(a.itemsize)\n",
    "print(a.size)"
   ]
  },
  {
   "cell_type": "code",
   "execution_count": 75,
   "metadata": {},
   "outputs": [
    {
     "data": {
      "text/plain": [
       "array([ 0,  5, 10, 15, 20, 25])"
      ]
     },
     "execution_count": 75,
     "metadata": {},
     "output_type": "execute_result"
    }
   ],
   "source": [
    "a = np.arange(0,30,5)\n",
    "a"
   ]
  },
  {
   "cell_type": "code",
   "execution_count": 77,
   "metadata": {},
   "outputs": [
    {
     "data": {
      "text/plain": [
       "array([ 0,  1,  2,  3,  4,  5,  6,  7,  8,  9, 10, 11, 12, 13, 14, 15, 16,\n",
       "       17, 18, 19, 20, 21, 22, 23, 24, 25, 26, 27, 28, 29, 30, 31, 32, 33,\n",
       "       34, 35, 36, 37, 38, 39, 40, 41, 42, 43, 44, 45, 46, 47, 48, 49])"
      ]
     },
     "execution_count": 77,
     "metadata": {},
     "output_type": "execute_result"
    }
   ],
   "source": [
    "a = np.arange(50)\n",
    "a"
   ]
  },
  {
   "cell_type": "code",
   "execution_count": 88,
   "metadata": {
    "scrolled": true
   },
   "outputs": [
    {
     "name": "stdout",
     "output_type": "stream",
     "text": [
      "[  9  90 250]\n",
      "8\n",
      "[  9  90 250]\n"
     ]
    }
   ],
   "source": [
    "#accessing elements in numpy array\n",
    "#slicing\n",
    "a = np.array(([5,8,9],[11,56,90],[100,150,250]))\n",
    "a\n",
    "print(a[0:,2])\n",
    "print(a[0,1])\n",
    "print(a[0:3,2])"
   ]
  },
  {
   "cell_type": "code",
   "execution_count": 99,
   "metadata": {},
   "outputs": [
    {
     "name": "stdout",
     "output_type": "stream",
     "text": [
      "[[5 7 8]\n",
      " [7 8 9]]\n",
      "[[9 3 7]\n",
      " [6 9 4]]\n",
      "[[14 10 15]\n",
      " [13 17 13]]\n",
      "[[-4  4  1]\n",
      " [ 1 -1  5]]\n",
      "[[45 21 56]\n",
      " [42 72 36]]\n",
      "[[0.55555556 2.33333333 1.14285714]\n",
      " [1.16666667 0.88888889 2.25      ]]\n"
     ]
    }
   ],
   "source": [
    "#arthimatic operations\n",
    "a1 = np.array(([5,7,8],[7,8,9]))\n",
    "a2 = np.array(([9,3,7],[6,9,4]))\n",
    "print(a1)\n",
    "print(a2)\n",
    "#add, sub ,mul,div\n",
    "print(a1+a2)\n",
    "print(a1-a2)\n",
    "print(a1*a2)\n",
    "print(a1/a2)"
   ]
  },
  {
   "cell_type": "code",
   "execution_count": 108,
   "metadata": {},
   "outputs": [
    {
     "name": "stdout",
     "output_type": "stream",
     "text": [
      "[[5 7 8]\n",
      " [7 8 9]]\n",
      "[[9 3 7]\n",
      " [6 9 4]]\n",
      "5\n",
      "9\n",
      "[12 15 17]\n",
      "[20 24]\n"
     ]
    }
   ],
   "source": [
    "#min,max,sum\n",
    "a1 = np.array(([5,7,8],[7,8,9]))\n",
    "a2 = np.array(([9,3,7],[6,9,4]))\n",
    "print(a1)\n",
    "print(a2)\n",
    "print(a1.min())\n",
    "print(a2.max())\n",
    "print(a1.sum(axis=0))\n",
    "print(a1.sum(axis=1))"
   ]
  },
  {
   "cell_type": "code",
   "execution_count": 118,
   "metadata": {},
   "outputs": [
    {
     "name": "stdout",
     "output_type": "stream",
     "text": [
      "[[2.23606798 2.64575131 2.82842712]\n",
      " [2.64575131 2.82842712 3.        ]]\n",
      "1.247219128924647\n"
     ]
    }
   ],
   "source": [
    "#square root and standard deviation\n",
    "print(np.sqrt(a1))\n",
    "print(np.std(a1))\n"
   ]
  },
  {
   "cell_type": "code",
   "execution_count": 121,
   "metadata": {},
   "outputs": [
    {
     "data": {
      "text/plain": [
       "array([[1., 1.],\n",
       "       [1., 1.]])"
      ]
     },
     "execution_count": 121,
     "metadata": {},
     "output_type": "execute_result"
    }
   ],
   "source": [
    "np.ones((2, 2))"
   ]
  },
  {
   "cell_type": "code",
   "execution_count": 122,
   "metadata": {},
   "outputs": [
    {
     "data": {
      "text/plain": [
       "array([[1, 1],\n",
       "       [1, 1]])"
      ]
     },
     "execution_count": 122,
     "metadata": {},
     "output_type": "execute_result"
    }
   ],
   "source": [
    "np.ones((2, 2), int)"
   ]
  },
  {
   "cell_type": "code",
   "execution_count": 124,
   "metadata": {},
   "outputs": [
    {
     "data": {
      "text/plain": [
       "array([[0., 0., 0.],\n",
       "       [0., 0., 0.],\n",
       "       [0., 0., 0.]])"
      ]
     },
     "execution_count": 124,
     "metadata": {},
     "output_type": "execute_result"
    }
   ],
   "source": [
    "np.zeros((3,3),float)"
   ]
  },
  {
   "cell_type": "markdown",
   "metadata": {},
   "source": [
    "### Pandas\n",
    "\n",
    "    - Pandas is a python library used for data analysis which contains data structures for analysing the large data sets. The functions in pandas will help us to perform operations easily on data sets. "
   ]
  },
  {
   "cell_type": "markdown",
   "metadata": {},
   "source": [
    " - Series\n",
    "     - series is one dimensional data structure\n",
    " - Data Frame\n",
    "     - two dimensional data structure"
   ]
  },
  {
   "cell_type": "code",
   "execution_count": 130,
   "metadata": {},
   "outputs": [
    {
     "data": {
      "text/plain": [
       "0    vijay\n",
       "1      sai\n",
       "2     ravi\n",
       "3     ramu\n",
       "4    pavan\n",
       "dtype: object"
      ]
     },
     "execution_count": 130,
     "metadata": {},
     "output_type": "execute_result"
    }
   ],
   "source": [
    "import pandas as pd\n",
    "names = [\"vijay\", \"sai\", \"ravi\", \"ramu\", \"pavan\"]\n",
    "s = pd.Series(names)\n",
    "s"
   ]
  },
  {
   "cell_type": "code",
   "execution_count": 132,
   "metadata": {},
   "outputs": [
    {
     "data": {
      "text/plain": [
       "'ravi'"
      ]
     },
     "execution_count": 132,
     "metadata": {},
     "output_type": "execute_result"
    }
   ],
   "source": [
    "s[2]"
   ]
  },
  {
   "cell_type": "code",
   "execution_count": null,
   "metadata": {},
   "outputs": [],
   "source": []
  }
 ],
 "metadata": {
  "kernelspec": {
   "display_name": "Python 3",
   "language": "python",
   "name": "python3"
  },
  "language_info": {
   "codemirror_mode": {
    "name": "ipython",
    "version": 3
   },
   "file_extension": ".py",
   "mimetype": "text/x-python",
   "name": "python",
   "nbconvert_exporter": "python",
   "pygments_lexer": "ipython3",
   "version": "3.7.3"
  }
 },
 "nbformat": 4,
 "nbformat_minor": 2
}
