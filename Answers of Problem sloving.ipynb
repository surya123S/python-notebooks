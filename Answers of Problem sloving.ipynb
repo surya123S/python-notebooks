{
 "cells": [
  {
   "cell_type": "code",
   "execution_count": 7,
   "metadata": {},
   "outputs": [
    {
     "name": "stdout",
     "output_type": "stream",
     "text": [
      "It Leap Year\n"
     ]
    }
   ],
   "source": [
    "1. # Check if a year is a Leap year or not\n",
    "def isyear(year):\n",
    "    #year = int(input(\"enter a year\"))\n",
    "    if year%400 ==0 or (year%100!=0 and year %4==0):\n",
    "        print(\"Its Leap Year\")\n",
    "    else:\n",
    "        print(\"Its Not a Leap year\")\n",
    "    \n",
    "    \n",
    "isyear(2016)\n",
    "\n",
    "  \n",
    "\n",
    "\n",
    "     "
   ]
  },
  {
   "cell_type": "code",
   "execution_count": 9,
   "metadata": {},
   "outputs": [
    {
     "name": "stdout",
     "output_type": "stream",
     "text": [
      "enter a number123\n",
      "123 is in given range\n"
     ]
    }
   ],
   "source": [
    "2. # Check if a number exists in a given range(inclusive)\n",
    "def isinrange(lb, ub):\n",
    "    num = int(input(\"enter a number\"))\n",
    "    if num in range(lb, ub+1):\n",
    "        print(num, \"is in given range\")\n",
    "isinrange(100,200)"
   ]
  },
  {
   "cell_type": "code",
   "execution_count": 6,
   "metadata": {},
   "outputs": [
    {
     "name": "stdout",
     "output_type": "stream",
     "text": [
      "31536000000000000\n"
     ]
    }
   ],
   "source": [
    "3. #Calculate the number of nano seconds in a \n",
    "      #given year(considering leap year logic)\n",
    "def nanosec(year):\n",
    "    \n",
    "    if year%400 == 0 or (year%100!=0 and year %4==0):\n",
    "        print(366 * 24 * 60 * 60 * (10**9))\n",
    "    else:\n",
    "        print(365 * 24 * 60 * 60 * (10**9))\n",
    "        \n",
    "#year = int(input(\"enter a year\"))\n",
    "nanosec(2019)"
   ]
  },
  {
   "cell_type": "code",
   "execution_count": 10,
   "metadata": {},
   "outputs": [
    {
     "name": "stdout",
     "output_type": "stream",
     "text": [
      "enter a number234\n",
      "3\n",
      "Even\n"
     ]
    }
   ],
   "source": [
    "4. # Calculate the number of digits in a number and # Check if a number is Even\n",
    "\n",
    "num = int(input(\"enter a number\"))\n",
    "count = len(str(num))\n",
    "print(count)\n",
    "\n",
    "if num %2 ==0:\n",
    "    print(\"Even\")\n",
    "else:\n",
    "    print(\"Odd\")\n",
    "\n",
    "\n"
   ]
  },
  {
   "cell_type": "code",
   "execution_count": 13,
   "metadata": {},
   "outputs": [
    {
     "name": "stdout",
     "output_type": "stream",
     "text": [
      "enter a stringmadam\n",
      "palindrome\n"
     ]
    }
   ],
   "source": [
    "5. #Function to check if a string is a Palindrome\n",
    "def ispalindrome(s):\n",
    "    if s == s[::-1]:\n",
    "        print(\"palindrome\")\n",
    "    else:\n",
    "        print(\"is not palindrome\")\n",
    "s = input(\"enter a string\")\n",
    "ispalindrome(s)\n"
   ]
  },
  {
   "cell_type": "code",
   "execution_count": 14,
   "metadata": {},
   "outputs": [
    {
     "name": "stdout",
     "output_type": "stream",
     "text": [
      "69 is big\n"
     ]
    }
   ],
   "source": [
    "6.  # Function to identify the greatest of 4 numbers\n",
    "\n",
    "def greatof4numbers(n1,n2,n3,n4):\n",
    "    if n1>n2 and n1>n3 and n1>n4:\n",
    "        print(n1,\"is big\")\n",
    "    elif n2>n3 and n2>n4:\n",
    "            print(n2,\"is big\")\n",
    "    elif n3>n4:\n",
    "        print(n3, \"is big\")\n",
    "    else :\n",
    "        print(n4, \"is big\")\n",
    "greatof4numbers(12,45,34,69)\n"
   ]
  },
  {
   "cell_type": "code",
   "execution_count": 15,
   "metadata": {},
   "outputs": [
    {
     "name": "stdout",
     "output_type": "stream",
     "text": [
      "10 11 12 13 14 15 16 17 18 19 20 21 22 23 24 25 26 27 28 29 30 31 32 33 34 35 36 37 38 39 40 41 42 43 44 45 46 47 48 49 50 51 52 53 54 55 56 57 58 59 60 61 62 63 64 65 66 67 68 69 70 71 72 73 74 75 76 77 78 79 80 81 82 83 84 85 86 87 88 89 90 91 92 93 94 95 96 97 98 99 100 101 102 103 104 105 106 107 108 109 110 111 112 113 114 115 116 117 118 119 120 121 122 123 124 125 126 127 128 129 130 131 132 133 134 135 136 137 138 139 140 141 142 143 144 145 146 147 148 149 150 151 152 153 154 155 156 157 158 159 160 161 162 163 164 165 166 167 168 169 170 171 172 173 174 175 176 177 178 179 180 181 182 183 184 185 186 187 188 189 190 191 192 193 194 195 196 197 198 199 200 201 202 203 204 205 206 207 208 209 210 211 212 213 214 215 216 217 218 219 220 221 222 223 224 225 226 227 228 229 230 231 232 233 234 235 236 237 238 239 240 241 242 243 244 245 246 247 248 249 250 251 252 253 254 255 256 257 258 259 260 261 262 263 264 265 266 267 268 269 270 271 272 273 274 275 276 277 278 279 280 281 282 283 284 285 286 287 288 289 290 291 292 293 294 295 296 297 298 299 300 301 302 303 304 305 306 307 308 309 310 311 312 313 314 315 316 317 318 319 320 321 322 323 324 325 326 327 328 329 330 331 332 333 334 335 336 337 338 339 340 341 342 343 344 345 346 347 348 349 350 351 352 353 354 355 356 357 358 359 360 361 362 363 364 365 366 367 368 369 370 371 372 373 374 375 376 377 378 379 380 381 382 383 384 385 386 387 388 389 390 391 392 393 394 395 396 397 398 399 400 401 402 403 404 405 406 407 408 409 410 411 412 413 414 415 416 417 418 419 420 421 422 423 424 425 426 427 428 429 430 431 432 433 434 435 436 437 438 439 440 441 442 443 444 445 446 447 448 449 450 451 452 453 454 455 456 457 458 459 460 461 462 463 464 465 466 467 468 469 470 471 472 473 474 475 476 477 478 479 480 481 482 483 484 485 486 487 488 489 490 491 492 493 494 495 496 497 498 499 500 501 502 503 504 505 506 507 508 509 510 511 512 513 514 515 516 517 518 519 520 521 522 523 524 525 526 527 528 529 530 531 532 533 534 535 536 537 538 539 540 541 542 543 544 545 546 547 548 549 550 551 552 553 554 555 556 557 558 559 560 561 562 563 564 565 566 567 568 569 570 571 572 573 574 575 576 577 578 579 580 581 582 583 584 585 586 587 588 589 590 591 592 593 594 595 596 597 598 599 600 601 602 603 604 605 606 607 608 609 610 611 612 613 614 615 616 617 618 619 620 621 622 623 624 625 626 627 628 629 630 631 632 633 634 635 636 637 638 639 640 641 642 643 644 645 646 647 648 649 650 651 652 653 654 655 656 657 658 659 660 661 662 663 664 665 666 667 668 669 670 671 672 673 674 675 676 677 678 679 680 681 682 683 684 685 686 687 688 689 690 691 692 693 694 695 696 697 698 699 700 701 702 703 704 705 706 707 708 709 710 711 712 713 714 715 716 717 718 719 720 721 722 723 724 725 726 727 728 729 730 731 732 733 734 735 736 737 738 739 740 741 742 743 744 745 746 747 748 749 750 751 752 753 754 755 756 757 758 759 760 761 762 763 764 765 766 767 768 769 770 771 772 773 774 775 776 777 778 779 780 781 782 783 784 785 786 787 788 789 790 791 792 793 794 795 796 797 798 799 800 801 802 803 804 805 806 807 808 809 810 811 812 813 814 815 816 817 818 819 820 821 822 823 824 825 826 827 828 829 830 831 832 833 834 835 836 837 838 839 840 841 842 843 844 845 846 847 848 849 850 851 852 853 854 855 856 857 858 859 860 861 862 863 864 865 866 867 868 869 870 871 872 873 874 875 876 877 878 879 880 881 882 883 884 885 886 887 888 889 890 891 892 893 894 895 896 897 898 899 900 901 902 903 904 905 906 907 908 909 910 911 912 913 914 915 916 917 918 919 920 921 922 923 924 925 926 927 928 929 930 931 932 933 934 935 936 937 938 939 940 941 942 943 944 945 946 947 948 949 950 951 952 953 954 955 956 957 958 959 960 961 962 963 964 965 966 967 968 969 970 971 972 973 974 975 976 977 978 979 980 981 982 983 984 985 986 987 988 989 990 991 992 993 994 995 996 997 998 999 1000 "
     ]
    }
   ],
   "source": [
    " 7. # Function to print N Natural numbers using a while  or for loop\n",
    "def Nnaturalnums(lb, ub):\n",
    "    for i in range(lb, ub+1):\n",
    "        print(i, end= \" \")\n",
    "Nnaturalnums(10, 1000)\n"
   ]
  },
  {
   "cell_type": "code",
   "execution_count": 17,
   "metadata": {},
   "outputs": [
    {
     "name": "stdout",
     "output_type": "stream",
     "text": [
      "500 505 510 515 520 525 530 535 540 545 550 555 560 565 570 575 580 585 590 595 600 605 610 615 620 625 630 635 640 645 650 655 660 665 670 675 680 685 690 695 700 705 710 715 720 725 730 735 740 745 750 755 760 765 770 775 780 785 790 795 800 805 810 815 820 825 830 835 840 845 850 855 860 865 870 875 880 885 890 895 900 905 910 915 920 925 930 935 940 945 950 955 960 965 970 975 980 985 990 995 1000 "
     ]
    }
   ],
   "source": [
    "8. # Function to print the alternate values in a range in the same line\n",
    "def alterValues(start, end):\n",
    "    for value in range(start, end+1,5):\n",
    "        print(value, end = \" \")\n",
    "    return\n",
    "\n",
    "alterValues(500,1000)\n",
    "        \n",
    "        "
   ]
  },
  {
   "cell_type": "code",
   "execution_count": 27,
   "metadata": {},
   "outputs": [
    {
     "name": "stdout",
     "output_type": "stream",
     "text": [
      "1920 1924 1928 1932 1936 1940 1944 1948 1952 1956 1960 1964 1968 1972 1976 1980 1984 1988 1992 1996 2000 2004 2008 2012 2016 "
     ]
    }
   ],
   "source": [
    "9. # Function to generate all leap years in a given time period\n",
    "def isLeapYear(year): # To check if a given year is a Leap Year\n",
    "    if year % 400 == 0 or (year % 100 != 0 and year % 4 == 0):\n",
    "        return True\n",
    "    return False\n",
    "def generateLeapYears(startyear, endyear): # uses the isLeapYear() to select leap years in a time period\n",
    "    for year in range(startyear, endyear+1):\n",
    "        if isLeapYear(year):\n",
    "            print(year, end=\" \")\n",
    "    return\n",
    "\n",
    "generateLeapYears(1919, 2019)"
   ]
  },
  {
   "cell_type": "code",
   "execution_count": 28,
   "metadata": {},
   "outputs": [
    {
     "ename": "IndentationError",
     "evalue": "unexpected indent (<ipython-input-28-c72c94f46517>, line 9)",
     "output_type": "error",
     "traceback": [
      "\u001b[1;36m  File \u001b[1;32m\"<ipython-input-28-c72c94f46517>\"\u001b[1;36m, line \u001b[1;32m9\u001b[0m\n\u001b[1;33m    sum = sum + 366\u001b[0m\n\u001b[1;37m    ^\u001b[0m\n\u001b[1;31mIndentationError\u001b[0m\u001b[1;31m:\u001b[0m unexpected indent\n"
     ]
    }
   ],
   "source": []
  },
  {
   "cell_type": "code",
   "execution_count": 31,
   "metadata": {},
   "outputs": [
    {
     "name": "stdout",
     "output_type": "stream",
     "text": [
      "102 108 114 120 126 132 138 144 150 156 162 168 174 180 186 192 198 "
     ]
    }
   ],
   "source": [
    " 11. # Function to print all numbers divisible by 6\n",
    "        # and not a factor of 100 in a given range(lb, ub) inclusive\n",
    "def divisible(lb, ub):\n",
    "    for i in range(lb, ub+1):\n",
    "        if i % 6 ==0 and i %100!=0:\n",
    "            print(i, end =\" \")\n",
    "\n",
    "    return\n",
    "divisible(100,200)\n",
    "  "
   ]
  },
  {
   "cell_type": "code",
   "execution_count": 36,
   "metadata": {},
   "outputs": [
    {
     "data": {
      "text/plain": [
       "282700.0"
      ]
     },
     "execution_count": 36,
     "metadata": {},
     "output_type": "execute_result"
    }
   ],
   "source": [
    "12. # Function to find the average of cubes of all even numbers\n",
    "        # in a given range(lb, ub) inclusive\n",
    "         # 1, 10 -> 2, 4, 6, 8, 10 -> avg(8, 64, 216, 64*8, 1000)\n",
    "def cubeAvg(lb , ub):\n",
    "    sum =0\n",
    "    count =0\n",
    "    for i in range(lb, ub+1):\n",
    "        if i %2 ==0:\n",
    "            sum = sum+i**3\n",
    "            count = count+1\n",
    "    return sum/count\n",
    "cubeAvg(10,100)\n"
   ]
  },
  {
   "cell_type": "code",
   "execution_count": 38,
   "metadata": {},
   "outputs": [
    {
     "data": {
      "text/plain": [
       "16"
      ]
     },
     "execution_count": 38,
     "metadata": {},
     "output_type": "execute_result"
    }
   ],
   "source": [
    "13. # Function to generate the sum of factors for a given number.\n",
    "def factorssum(n):\n",
    "    sum = 0\n",
    "    for i in range(1, n):\n",
    "        if n%i ==0:\n",
    "            sum = sum+i\n",
    "    return sum\n",
    "factorssum(12)"
   ]
  },
  {
   "cell_type": "code",
   "execution_count": 42,
   "metadata": {},
   "outputs": [
    {
     "data": {
      "text/plain": [
       "3628800"
      ]
     },
     "execution_count": 42,
     "metadata": {},
     "output_type": "execute_result"
    }
   ],
   "source": [
    "14. # Function to calculate the factorial of a given number\n",
    "def factorial(n):\n",
    "    fact = 1\n",
    "    for i in range(1,n+1):\n",
    "        fact *= i\n",
    "    return fact\n",
    "factorial(10)"
   ]
  },
  {
   "cell_type": "markdown",
   "metadata": {},
   "source": [
    "16. # Function to count the occurances of a character in a string\n",
    "         # \"Python Programming\", m -> 2\n",
    "def countCharOccurances2(s, c):\n",
    "    return s.count(c)\n",
    "\n",
    "countCharOccurances2(\"Python Programming\", 'Py')\n",
    "def countCharOccurances(s, c):\n",
    "    count = 0\n",
    "    for ch in s:\n",
    "        if ch == c:\n",
    "            count +=\n",
    "    print(count)\n",
    "    \n",
    "countCharOccurances(\"Surya Pythonaa\",'a')"
   ]
  },
  {
   "cell_type": "code",
   "execution_count": 46,
   "metadata": {},
   "outputs": [
    {
     "data": {
      "text/plain": [
       "345"
      ]
     },
     "execution_count": 46,
     "metadata": {},
     "output_type": "execute_result"
    }
   ],
   "source": [
    "# Function to identify the second largest element in a unique list\n",
    "        # Sort the data and select the second last element\n",
    "        # Sort the data in reverse order, and select the second element\n",
    "        # Remove the max element and then get the max of the new list\n",
    "        # \n",
    "def secondLargest(li):\n",
    "    li.sort()\n",
    "    return li[-2]\n",
    "secondLargest([234,345,567])  "
   ]
  },
  {
   "cell_type": "code",
   "execution_count": 50,
   "metadata": {},
   "outputs": [
    {
     "name": "stdout",
     "output_type": "stream",
     "text": [
      "85 749 367 18 532 367 83 740 542 971 167 50 892 585 977 785 213 285 227 305 465 411 525 172 751 949 124 781 341 789 358 640 893 885 866 833 375 588 967 876 820 278 832 873 897 522 804 619 593 929 839 95 179 549 934 396 608 987 530 467 327 842 208 865 91 627 12 581 591 967 577 773 390 65 375 169 826 436 775 292 582 566 890 416 228 28 969 214 270 530 370 925 229 107 496 903 20 252 204 519 282 632 291 53 151 454 462 916 262 763 80 725 122 646 517 370 690 446 427 716 373 601 727 64 862 247 626 58 306 953 292 143 931 603 552 92 96 84 276 651 475 639 70 200 790 760 749 385 861 597 478 535 820 625 140 206 165 49 529 431 758 26 517 16 875 761 578 28 79 742 341 340 755 484 713 892 734 358 296 800 233 760 780 606 792 477 956 290 803 794 275 636 945 367 562 542 303 634 886 142 164 367 597 287 448 25 910 37 135 488 130 627 838 722 210 11 949 540 178 258 41 152 230 173 196 339 86 308 566 446 412 491 751 999 688 455 226 534 183 112 239 927 85 764 35 373 363 843 942 815 402 560 926 589 838 472 413 59 538 730 545 361 663 116 368 205 717 484 99 689 697 677 142 557 252 96 251 99 681 114 69 625 938 632 728 493 959 578 590 145 989 457 207 386 448 270 297 978 989 429 907 766 33 38 815 725 281 18 985 657 853 928 425 835 444 281 217 667 537 122 836 802 766 510 739 920 605 51 384 857 933 543 276 785 189 663 638 83 664 877 400 769 661 913 322 964 754 653 526 910 730 132 394 696 112 349 408 53 637 719 799 690 780 174 742 665 282 218 803 67 617 464 239 605 168 171 937 108 974 275 339 329 197 10 44 14 280 73 588 679 505 430 424 867 577 45 190 263 57 475 782 835 700 382 243 516 451 92 58 446 41 467 64 618 800 493 839 960 696 682 240 536 287 133 864 307 925 370 572 796 358 895 449 32 869 435 39 357 136 222 27 465 442 390 253 790 594 303 62 234 611 843 335 577 162 813 670 713 57 149 376 965 218 392 352 849 807 896 723 123 362 993 540 561 207 330 102 143 497 128 467 282 303 209 185 393 508 690 180 763 975 974 621 1000 428 419 48 945 200 31 556 736 145 979 807 947 91 219 689 519 471 308 67 406 317 237 405 101 886 619 577 51 841 389 433 838 982 346 779 885 547 142 643 613 865 454 741 293 287 798 600 930 191 139 471 736 95 110 907 94 605 92 932 816 794 300 809 274 76 811 76 571 213 993 645 569 654 577 598 421 692 910 482 456 46 182 614 936 460 114 169 944 570 959 661 942 86 240 915 556 225 220 126 724 223 856 952 967 775 339 334 48 569 707 477 109 997 227 588 631 585 443 974 268 128 871 60 754 226 466 783 661 257 716 729 551 422 419 840 426 395 191 101 493 175 926 680 824 375 88 840 525 687 358 888 485 780 378 880 374 974 465 84 42 786 874 155 31 496 438 694 947 751 789 543 786 719 775 750 311 736 78 331 224 939 630 507 521 378 302 828 820 283 889 47 679 254 243 384 545 359 400 260 858 493 758 438 891 94 119 599 382 841 295 439 256 596 705 497 263 808 825 96 194 632 192 512 277 270 143 937 30 756 846 348 267 443 769 886 513 327 783 847 334 84 556 815 704 419 624 170 425 902 559 25 403 204 594 835 800 258 272 873 392 520 391 231 763 564 79 963 540 341 26 833 792 866 176 832 837 638 180 15 89 232 578 990 968 266 558 28 245 229 535 930 630 895 735 210 732 165 911 24 134 774 293 200 779 743 962 426 204 939 173 116 848 814 994 735 929 276 497 340 814 495 377 525 863 628 581 21 240 175 217 923 160 402 415 774 500 223 517 881 882 870 867 864 151 348 871 384 153 612 824 364 619 168 571 823 278 374 715 809 318 362 758 279 908 147 850 844 97 592 165 755 932 46 229 900 665 800 410 289 522 332 232 995 305 757 725 393 94 992 830 144 416 857 631 406 411 999 403 322 524 776 337 713 630 662 835 160 449 243 557 788 851 393 611 436 572 556 430 220 901 121 605 189 856 566 192 848 920 606 497 895 628 269 395 328 663 991 636 898 101 881 200 460 972 93 604 803 216 278 76 800 911 191 74 295 683 854 935 711 24 113 942 566 287 195 792 262 165 467 178 899 34 662 475 267 385 117 80 200 778 73 456 530 215 448 843 642 753 198 706 470 726 833 976 408 885 "
     ]
    }
   ],
   "source": [
    "17. # Function to generate N random numbers in a given range\n",
    "from random import randint\n",
    "def nrandomNumbers(lb, ub):\n",
    "    for i in range(lb , ub):\n",
    "        numbers = randint(lb, ub)\n",
    "        print(numbers, end= \" \")\n",
    "nrandomNumbers(10, 1000)\n",
    "\n"
   ]
  },
  {
   "cell_type": "code",
   "execution_count": 43,
   "metadata": {},
   "outputs": [],
   "source": [
    "18. # Function to generate marks data for n students\n",
    "from random import randint\n",
    "\n",
    "def generateMarks(n, lb, ub):\n",
    "    with open('DataFiles/marks.txt', 'w') as f:\n",
    "        for i in range(0, n):\n",
    "            r = randint(lb, ub)\n",
    "            f.write(str(r) + '\\n')\n",
    "    return\n",
    "\n",
    "generateMarks(10000, 0, 100)\n"
   ]
  },
  {
   "cell_type": "code",
   "execution_count": 47,
   "metadata": {},
   "outputs": [
    {
     "data": {
      "text/plain": [
       "235"
      ]
     },
     "execution_count": 47,
     "metadata": {},
     "output_type": "execute_result"
    }
   ],
   "source": [
    "# Function that returns the nth largest   \n",
    "def genericLargest(li, n):\n",
    "    li.sort()\n",
    "    return li[-n]\n",
    "\n",
    "\n",
    "genericLargest([235,456,789,112,900,600], 5)\n"
   ]
  },
  {
   "cell_type": "code",
   "execution_count": null,
   "metadata": {},
   "outputs": [],
   "source": []
  },
  {
   "cell_type": "code",
   "execution_count": null,
   "metadata": {},
   "outputs": [],
   "source": []
  },
  {
   "cell_type": "code",
   "execution_count": null,
   "metadata": {},
   "outputs": [],
   "source": []
  },
  {
   "cell_type": "code",
   "execution_count": null,
   "metadata": {},
   "outputs": [],
   "source": []
  },
  {
   "cell_type": "code",
   "execution_count": null,
   "metadata": {},
   "outputs": [],
   "source": []
  },
  {
   "cell_type": "code",
   "execution_count": null,
   "metadata": {},
   "outputs": [],
   "source": []
  },
  {
   "cell_type": "code",
   "execution_count": null,
   "metadata": {},
   "outputs": [],
   "source": [
    "19. # Function to identify the greatest of 4 numbers\n"
   ]
  },
  {
   "cell_type": "code",
   "execution_count": null,
   "metadata": {},
   "outputs": [],
   "source": [
    "20. # Check if a number is a factor of 1000\n"
   ]
  }
 ],
 "metadata": {
  "kernelspec": {
   "display_name": "Python 3",
   "language": "python",
   "name": "python3"
  },
  "language_info": {
   "codemirror_mode": {
    "name": "ipython",
    "version": 3
   },
   "file_extension": ".py",
   "mimetype": "text/x-python",
   "name": "python",
   "nbconvert_exporter": "python",
   "pygments_lexer": "ipython3",
   "version": "3.7.3"
  }
 },
 "nbformat": 4,
 "nbformat_minor": 2
}
