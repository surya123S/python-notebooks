{
 "cells": [
  {
   "cell_type": "markdown",
   "metadata": {},
   "source": [
    "#### SuryaNoteBook : Day: 8 July 2019 (Practise Test Book)\n",
    "\n",
    "#### Problem Set:\n",
    "\n",
    "* 1. Function to print all numbers divisible by 6 and not a factor of 100 in a given range(lb, ub) inclusive\n",
    "* 2. Function to find the average of cubes of all even numbers in a given range(lb, ub) inclusive\n",
    "* 3. Function to generate the list of factors for a given number\n",
    "* 4. Function to calculate the factorial of a given number\n",
    "* 5. Function to check if a given number is Prime\n",
    "* 6. Function to calculate the average first N Prime numbers\n",
    "* 7. Function to generate all Perfect numbers in a given range\n",
    "* 8. Advanced Problem Set( Optional )\n",
    "* 9. Function to calculate the average of all factorials in a given range\n",
    "* 10.Function to generate N odd Armstrong numbers\n",
    "* 11.Function to generate Multiplication table for a number in a given range\n",
    "* 12. 10 in the range(100, 102) inclusive\n",
    "      10 x 100 = 1000\n",
    "      10 x 101 = 1010\n",
    "      10 x 102 = 1020\n",
    "\n",
    "#### Problems That needs a Try\n",
    "\n",
    "* 1.  You are given a string and your task is to swap cases. In other words, convert all lowercase letters to uppercase letters       and vice versa. (The String may contain special characters).\n",
    "* 2.  Given an integer, ’n’ , perform the following conditional actions:\n",
    "*     (a) If ‘n’  is odd, print Weird\n",
    "*     (b) If  ‘n’ is even and in the inclusive range of 2 to 5, print Not Weird\n",
    "*     (c) If  ‘n’ is even and in the inclusive range of 6 to 20 , print Weird\n",
    "*     (d) If  ‘n’ is even and greater than 20, print Not Weird\n",
    "3.    Given the participants ‘n’ score sheet for your University Sports Day, you are required to find the runner-up score. You       are given scores. Store them in a list and find the score of the runner-up. (there can be multiple winners - if their           scores match). \n"
   ]
  },
  {
   "cell_type": "code",
   "execution_count": 5,
   "metadata": {},
   "outputs": [
    {
     "name": "stdout",
     "output_type": "stream",
     "text": [
      "6 12 18 24 30 36 42 48 "
     ]
    }
   ],
   "source": [
    "#1. Function to print all numbers divisible by 6 and not a factor of 100 in a given range(lb, ub) inclusive\n",
    "def factors(lb, ub):\n",
    "    for i in range(lb, ub+1):\n",
    "        if i%6 == 0 and i%100!=0:\n",
    "            print(i, end=\" \")\n",
    "    \n",
    "factors(1,50)"
   ]
  },
  {
   "cell_type": "code",
   "execution_count": 20,
   "metadata": {},
   "outputs": [
    {
     "name": "stdout",
     "output_type": "stream",
     "text": [
      "25\n"
     ]
    },
    {
     "data": {
      "text/plain": [
       "False"
      ]
     },
     "execution_count": 20,
     "metadata": {},
     "output_type": "execute_result"
    }
   ],
   "source": [
    "# Function to check if a given number is Prime or not\n",
    "def isprime(Num):\n",
    "    count = 0\n",
    "    for i in range(1, Num+1):\n",
    "        if Num%i == 0:\n",
    "            count = count+1\n",
    "    if count == 2:\n",
    "        return True\n",
    "    else:\n",
    "        return False\n",
    "Num = int(input())\n",
    "isprime(Num)\n"
   ]
  },
  {
   "cell_type": "code",
   "execution_count": 23,
   "metadata": {},
   "outputs": [
    {
     "name": "stdout",
     "output_type": "stream",
     "text": [
      "29\n",
      "2 3 5 7 11 13 17 19 23 29 "
     ]
    }
   ],
   "source": [
    "def primeNumbers(Num):\n",
    "    count = 0\n",
    "    for j in range(1, Num+1):\n",
    "        if isprime(j):\n",
    "            print(j, end =\" \")\n",
    "Num = int(input())\n",
    "primeNumbers(Num)"
   ]
  },
  {
   "cell_type": "code",
   "execution_count": 32,
   "metadata": {},
   "outputs": [
    {
     "name": "stdout",
     "output_type": "stream",
     "text": [
      "6\n",
      "720\n"
     ]
    }
   ],
   "source": [
    "#4 .Function to calculate the factorial of a given number\n",
    "def factorial(N):\n",
    "    fact =1 \n",
    "    for i in range(1, N+1):\n",
    "        fact = fact * i\n",
    "    print(fact)\n",
    "N = int(input())\n",
    "factorial(N)\n"
   ]
  },
  {
   "cell_type": "code",
   "execution_count": null,
   "metadata": {},
   "outputs": [],
   "source": []
  },
  {
   "cell_type": "code",
   "execution_count": 9,
   "metadata": {},
   "outputs": [
    {
     "name": "stdout",
     "output_type": "stream",
     "text": [
      "5\n"
     ]
    },
    {
     "data": {
      "text/plain": [
       "1800"
      ]
     },
     "execution_count": 9,
     "metadata": {},
     "output_type": "execute_result"
    }
   ],
   "source": [
    "#2. Function to find the average of cubes of all even numbers in a given range(lb, ub) inclusive\n",
    "def avgCubeEven(lb, ub):\n",
    "    sum = 0\n",
    "    for i in range(1, n+1):\n",
    "        sum = sum + (2*i) * (2*i) * (2*i)\n",
    "    return sum\n",
    "n = int(input())\n",
    "avgCubeEven(1,10)\n"
   ]
  },
  {
   "cell_type": "code",
   "execution_count": null,
   "metadata": {},
   "outputs": [],
   "source": []
  },
  {
   "cell_type": "code",
   "execution_count": null,
   "metadata": {},
   "outputs": [],
   "source": []
  }
 ],
 "metadata": {
  "kernelspec": {
   "display_name": "Python 3",
   "language": "python",
   "name": "python3"
  },
  "language_info": {
   "codemirror_mode": {
    "name": "ipython",
    "version": 3
   },
   "file_extension": ".py",
   "mimetype": "text/x-python",
   "name": "python",
   "nbconvert_exporter": "python",
   "pygments_lexer": "ipython3",
   "version": "3.7.3"
  }
 },
 "nbformat": 4,
 "nbformat_minor": 2
}
