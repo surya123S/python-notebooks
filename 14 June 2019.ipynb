{
 "cells": [
  {
   "cell_type": "markdown",
   "metadata": {},
   "source": [
    "### Program Solving and Programming on Python \n",
    "\n",
    "### Date - 14 June 2019\n",
    "### Day Objectives :\n",
    "\n",
    "### 1. Python Data Structures\n",
    "### 2. Lists\n",
    "### 3.Tuples\n",
    "### 4.Dictionaries\n",
    "### 5.Basic Problem Set on Data Structures\n",
    "### 6.Advanced Problem Set.\n",
    "### 7.Packages and Modules in Python.\n"
   ]
  },
  {
   "cell_type": "markdown",
   "metadata": {},
   "source": [
    "### Python Data Structures\n",
    "### Lists"
   ]
  },
  {
   "cell_type": "markdown",
   "metadata": {},
   "source": []
  },
  {
   "cell_type": "code",
   "execution_count": 44,
   "metadata": {},
   "outputs": [
    {
     "data": {
      "text/plain": [
       "[123, 345, 654, 234, 456, 789]"
      ]
     },
     "execution_count": 44,
     "metadata": {},
     "output_type": "execute_result"
    }
   ],
   "source": [
    "li = [123, 978, 654]\n",
    "li                                       # Access the Entire list \n",
    "li[1]                                   # Access an element with Index value in a list\n",
    "li [1:]                                 # Acess all elements from second element to last elememt or slicing the list from \n",
    "li [::-1]                              # reversing the list elements\n",
    "li = li[::-1]                          # reversing the list elements and reassiging to original list\n",
    "li\n",
    "li = li[::-1]                          # reassiging original list \n",
    "li\n",
    "li [::2]                                #accesing even index elements\n",
    "li [1::2]       \n",
    "\n",
    " #lists can be accessed, manipulted in two ways\n",
    "      # Direct Referencing - [index]\n",
    "    # Indirect Referencing - through functions\n",
    "    \n",
    "li.append(345)        # Adding an element to end of the list \n",
    "li\n",
    "li.insert(1,234)      # Adding an element at a part of specified Index vale\n",
    "li\n",
    "li.sort()            # Sort elements in asending order\n",
    "li\n",
    "li.pop()             # remove the last element in a list\n",
    "li.pop(1)            #remove an element at a particular index value in a list\n",
    "li2 = [234,456,789]\n",
    "                 \n",
    "li.extend(li2)     # Merge list 2 into list 1\n",
    "\n",
    "li\n",
    "li2\n",
    "sum(li)    # Its returns the sum of all elements in the list\n",
    "max(li)    # Its returns the highest value element in the list\n",
    "len(li)    # Its returns the number of elements in the list\n",
    "\n",
    "sum(li)/len(li) # Average of list elements\n",
    "sum(li[::2])/len(li[::2])            # Average  of all alternative elements in the list\n",
    "sum(li[1::2])/len(li[1::2])\n",
    "li\n",
    "max(li)-1\n",
    "try:\n",
    "    li.index(100000)\n",
    "except:\n",
    "    print\n",
    "    "
   ]
  },
  {
   "cell_type": "code",
   "execution_count": 55,
   "metadata": {},
   "outputs": [
    {
     "name": "stdout",
     "output_type": "stream",
     "text": [
      "Second largest element is: 456\n"
     ]
    }
   ],
   "source": [
    "# Function to identify the second largest element in the list\n",
    "    # here we have 4 ways to find\n",
    "      # sort the data and select the second last element in the list\n",
    "        # sort the data in reverse order and select the last elememt in the list\n",
    "        # remove the max element and then get the next max element in list\n",
    "        # find the max element first and find greatest elements than remaning elements(comparing) but always less than the max element\n",
    "        \n",
    "def secondLargest(li):\n",
    "    length = len(li)\n",
    "    list.sort()\n",
    "    print(\"Second largest element is:\",li[length-2])\n",
    "    \n",
    "    \n",
    "    \n",
    "secondlargest = secondLargest(li)     #Function that returns the nth element\n",
    "\n",
    "    "
   ]
  },
  {
   "cell_type": "code",
   "execution_count": 51,
   "metadata": {},
   "outputs": [
    {
     "name": "stdout",
     "output_type": "stream",
     "text": [
      "Largest element is: 45\n",
      "Smallest element is: 2\n",
      "Second Largest element is: 41\n",
      "Second Smallest element is: 4\n"
     ]
    }
   ],
   "source": [
    "def find_len(list): \n",
    "    length = len(list) \n",
    "    list.sort() \n",
    "    print(\"Largest element is:\", list[length-1]) \n",
    "    print(\"Smallest element is:\", list[0]) \n",
    "    print(\"Second Largest element is:\", list[length-2]) \n",
    "    print(\"Second Smallest element is:\", list[1]) \n",
    "    \n",
    "list=[12, 45, 2, 41, 31, 10, 8, 6, 4] \n",
    "Largest = find_len(list)\n",
    "  "
   ]
  },
  {
   "cell_type": "code",
   "execution_count": 66,
   "metadata": {},
   "outputs": [
    {
     "data": {
      "text/plain": [
       "[123, 234, 345, 456, 654, 789]"
      ]
     },
     "execution_count": 66,
     "metadata": {},
     "output_type": "execute_result"
    }
   ],
   "source": [
    "def secondLargest(li):    #Find SecondLargest element using sorting\n",
    "    li.sort()\n",
    "    return li[-2]\n",
    "def genericLargest(li,n):   # Function that returns the nth largest element in the list\n",
    "        li.sort()\n",
    "        return li[-n-1]     # [-n-1] means -5-1  = -6th largest element\n",
    "\n",
    "secondLargest(li)\n",
    "genericLargest(li, 5)\n",
    "li"
   ]
  },
  {
   "cell_type": "code",
   "execution_count": 3,
   "metadata": {},
   "outputs": [
    {
     "ename": "NameError",
     "evalue": "name 'li' is not defined",
     "output_type": "error",
     "traceback": [
      "\u001b[1;31m---------------------------------------------------------------------------\u001b[0m",
      "\u001b[1;31mNameError\u001b[0m                                 Traceback (most recent call last)",
      "\u001b[1;32m<ipython-input-3-fc780c381c3e>\u001b[0m in \u001b[0;36m<module>\u001b[1;34m\u001b[0m\n\u001b[0;32m     18\u001b[0m \u001b[1;31m#key = 456\u001b[0m\u001b[1;33m\u001b[0m\u001b[1;33m\u001b[0m\u001b[1;33m\u001b[0m\u001b[0m\n\u001b[0;32m     19\u001b[0m \u001b[1;33m\u001b[0m\u001b[0m\n\u001b[1;32m---> 20\u001b[1;33m \u001b[0mlinearSearch3\u001b[0m\u001b[1;33m(\u001b[0m\u001b[0mli\u001b[0m\u001b[1;33m,\u001b[0m \u001b[1;36m456\u001b[0m\u001b[1;33m)\u001b[0m\u001b[1;33m\u001b[0m\u001b[1;33m\u001b[0m\u001b[0m\n\u001b[0m\u001b[0;32m     21\u001b[0m \u001b[1;33m\u001b[0m\u001b[0m\n",
      "\u001b[1;31mNameError\u001b[0m: name 'li' is not defined"
     ]
    }
   ],
   "source": [
    "# function to search for data in a list\n",
    "# Search for the key in the list and return the matching data with key value and Return -1 if key not found\n",
    "def linearSearch(li, key):\n",
    "    for index in range(0,len(li)):\n",
    "        if li[index] == key:\n",
    "            return index \n",
    "            #return index +1 \n",
    "    return -1\n",
    "def linearSearch2(li,key):\n",
    "    for element in li:\n",
    "        if element == key:\n",
    "            return li.index(element)\n",
    "    return -1\n",
    "def linearSearch3(li,key):\n",
    "    if key in li:\n",
    "        return li.index(key)\n",
    "    return -1\n",
    "#key = 456\n",
    "\n",
    "linearSearch3(li, 456)\n",
    "        "
   ]
  },
  {
   "cell_type": "code",
   "execution_count": 17,
   "metadata": {},
   "outputs": [
    {
     "ename": "NameError",
     "evalue": "name 'ch' is not defined",
     "output_type": "error",
     "traceback": [
      "\u001b[1;31m---------------------------------------------------------------------------\u001b[0m",
      "\u001b[1;31mNameError\u001b[0m                                 Traceback (most recent call last)",
      "\u001b[1;32m<ipython-input-17-3241afaee8aa>\u001b[0m in \u001b[0;36m<module>\u001b[1;34m\u001b[0m\n\u001b[0;32m      9\u001b[0m     \u001b[1;32mreturn\u001b[0m \u001b[0mch\u001b[0m\u001b[1;33m\u001b[0m\u001b[1;33m\u001b[0m\u001b[0m\n\u001b[0;32m     10\u001b[0m \u001b[1;33m\u001b[0m\u001b[0m\n\u001b[1;32m---> 11\u001b[1;33m \u001b[0mcountOccurences\u001b[0m\u001b[1;33m(\u001b[0m\u001b[0ms\u001b[0m\u001b[1;33m,\u001b[0m\u001b[0mch\u001b[0m\u001b[1;33m)\u001b[0m\u001b[1;33m\u001b[0m\u001b[1;33m\u001b[0m\u001b[0m\n\u001b[0m",
      "\u001b[1;31mNameError\u001b[0m: name 'ch' is not defined"
     ]
    }
   ],
   "source": [
    "# Function to count the occurences of a charecter in the statenment\n",
    "# \"Python Programming\", m->2\n",
    "s = \"Surya Python Team\"\n",
    "def countOccurences(s,ch):\n",
    "    if ch in s:\n",
    "        if ch == 'a':\n",
    "            ch = ch+1\n",
    "    #print(\"number occurences of a in string is :\" + str(count))\n",
    "    return ch\n",
    "    \n",
    "countOccurences(s,ch)\n",
    "def countCharOccurences2(s,c):\n",
    "    return s.count(c)\n",
    "countCharOccurences2(\"Python Programming\",'Py')\n",
    "# function the number of occurences of substring in a given statement\n",
    "# string is 'abababa aaaa'   -> 3\n"
   ]
  },
  {
   "cell_type": "code",
   "execution_count": 19,
   "metadata": {},
   "outputs": [
    {
     "data": {
      "text/plain": [
       "[1, 2, 3, 4, 5, 6]"
      ]
     },
     "execution_count": 19,
     "metadata": {},
     "output_type": "execute_result"
    }
   ],
   "source": [
    "s = \" 1 2 3 4 5 6\"\n",
    "li = s.split()\n",
    "numberlist = []\n",
    "for i in li:\n",
    "    numberlist.append(int(i))\n",
    "numberlist"
   ]
  },
  {
   "cell_type": "code",
   "execution_count": null,
   "metadata": {},
   "outputs": [],
   "source": [
    "s[10]\n",
    "s= \" 34 56 67 78 90 89 95 46 38 93 \""
   ]
  },
  {
   "cell_type": "code",
   "execution_count": 5,
   "metadata": {},
   "outputs": [
    {
     "name": "stdout",
     "output_type": "stream",
     "text": [
      "1\n"
     ]
    }
   ],
   "source": [
    "li = [-1 ,-2 ,2 , 3, 1]\n",
    "li.sort()\n",
    "pl = []           \n",
    "for i in li:           \n",
    "    pl.append(abs(i))\n",
    "pl.sort()\n",
    "if pl[0] in li:\n",
    "    print(pl[0])\n",
    "else:\n",
    "    print(-pl[0])\n",
    "\n",
    "    "
   ]
  },
  {
   "cell_type": "code",
   "execution_count": null,
   "metadata": {},
   "outputs": [],
   "source": []
  },
  {
   "cell_type": "code",
   "execution_count": null,
   "metadata": {},
   "outputs": [],
   "source": []
  }
 ],
 "metadata": {
  "kernelspec": {
   "display_name": "Python 3",
   "language": "python",
   "name": "python3"
  },
  "language_info": {
   "codemirror_mode": {
    "name": "ipython",
    "version": 3
   },
   "file_extension": ".py",
   "mimetype": "text/x-python",
   "name": "python",
   "nbconvert_exporter": "python",
   "pygments_lexer": "ipython3",
   "version": "3.7.3"
  }
 },
 "nbformat": 4,
 "nbformat_minor": 2
}
