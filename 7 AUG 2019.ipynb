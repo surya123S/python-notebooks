{
 "cells": [
  {
   "cell_type": "markdown",
   "metadata": {},
   "source": [
    "### Files :\n",
    "### Types of Files:\n",
    "           1. Text File\n",
    "           2. Binary File\n",
    "  ### File Operations\n",
    "  "
   ]
  },
  {
   "cell_type": "code",
   "execution_count": 5,
   "metadata": {},
   "outputs": [
    {
     "data": {
      "text/plain": [
       "'Hi Surya Good Morning Where are you???\\n\\nToday is Wednesday\\n  \\n\\nToday We close the python basics workshop.\\n'"
      ]
     },
     "execution_count": 5,
     "metadata": {},
     "output_type": "execute_result"
    }
   ],
   "source": [
    "f = open(\"demo.txt\", 'r')\n",
    "f\n",
    "f.read()"
   ]
  },
  {
   "cell_type": "code",
   "execution_count": 11,
   "metadata": {},
   "outputs": [
    {
     "data": {
      "text/plain": [
       "['f = open(fname)\\n', 'print(f.read())\\n', 'f.close()\\n']"
      ]
     },
     "execution_count": 11,
     "metadata": {},
     "output_type": "execute_result"
    }
   ],
   "source": [
    "f = open(\"file.py\")\n",
    "f\n",
    "f.readline()\n",
    "f.readlines()\n"
   ]
  },
  {
   "cell_type": "code",
   "execution_count": 9,
   "metadata": {},
   "outputs": [
    {
     "data": {
      "text/plain": [
       "''"
      ]
     },
     "execution_count": 9,
     "metadata": {},
     "output_type": "execute_result"
    }
   ],
   "source": [
    "f.read()\n"
   ]
  },
  {
   "cell_type": "code",
   "execution_count": 7,
   "metadata": {},
   "outputs": [
    {
     "name": "stdout",
     "output_type": "stream",
     "text": [
      "Hi Surya Good Morning Where are you???\n",
      "\n",
      "Today is Wednesday\n",
      "  \n",
      "\n",
      "Today We close the python basics workshop.\n",
      "\n"
     ]
    }
   ],
   "source": [
    "def readFile(filename):\n",
    "    f = open(filename, 'r')\n",
    "    filedata = f.read()\n",
    "    print(filedata)\n",
    "    f.close()\n",
    "filename =\"C:/Users/SuryaDGamer/Desktop/Python Surya/demo.txt\"\n",
    "readFile(filename)"
   ]
  },
  {
   "cell_type": "markdown",
   "metadata": {},
   "source": [
    "#open a file using With Keyword"
   ]
  },
  {
   "cell_type": "code",
   "execution_count": 8,
   "metadata": {},
   "outputs": [
    {
     "name": "stdout",
     "output_type": "stream",
     "text": [
      "Hi Surya Good Morning Where are you???\n",
      "\n",
      "\n",
      "\n",
      "Today is Wednesday\n",
      "\n",
      "  \n",
      "\n",
      "\n",
      "\n",
      "Today We close the python basics workshop.\n",
      "\n"
     ]
    }
   ],
   "source": [
    "with open(\"demo.txt\") as f:\n",
    "    for line in f:\n",
    "        print(line)"
   ]
  },
  {
   "cell_type": "markdown",
   "metadata": {},
   "source": [
    "# Write data to a file using write() function\n"
   ]
  },
  {
   "cell_type": "code",
   "execution_count": null,
   "metadata": {},
   "outputs": [],
   "source": [
    "with open(\"demo.txt\", 'w') as f:\n",
    "    f.write(\"I will do the function using files\\n\")\n",
    "    f.write(\"I will start advanced python on tomorrow\\n\")\n",
    "    f.write(\"I Will make u all as python developer\\n\")\n",
    "with open(\"demo.txt\", 'r') as f:\n",
    "    filedata = f.read()\n",
    "    print(filedata)\n",
    "\n",
    "    "
   ]
  },
  {
   "cell_type": "code",
   "execution_count": 25,
   "metadata": {},
   "outputs": [
    {
     "name": "stdout",
     "output_type": "stream",
     "text": [
      "I will do the function using files\n",
      "I will start advanced python on tomorrow\n",
      "I Will make u all as python developer\n",
      "\n"
     ]
    }
   ],
   "source": [
    "with open(\"demo.txt\", 'r') as f:\n",
    "    filedata = f.read()\n",
    "    print(filedata)"
   ]
  },
  {
   "cell_type": "code",
   "execution_count": 4,
   "metadata": {},
   "outputs": [],
   "source": [
    "with open(\"sample.txt\", 'w') as f:\n",
    "    f.write(\"India is my Country\")\n",
    "    f.writelines(['\\nthis is my day\\n', 'sunday is holiday\\n', 'rgm engineering college\\n'])\n",
    "    f.close()\n",
    "    \n"
   ]
  },
  {
   "cell_type": "markdown",
   "metadata": {},
   "source": [
    "File Open Modes In Python\n",
    "Modes\tDescription\n",
    "<r>\tIt opens a file in read-only mode while the file offset stays at the root.\n",
    "<rb>\tIt opens a file in (binary + read-only) modes. And the offset remains at the root level.\n",
    "<r+>\tIt opens the file in both (read + write) modes while the file offset is again at the root level.\n",
    "<rb+>\tIt opens the file in (read + write + binary) modes. The file offset is again at the root level.\n",
    "<w>\tIt allows write-level access to a file. If the file already exists, then it’ll get overwritten. It’ll create a new file if the same doesn’t exist.\n",
    "<wb>\tUse it to open a file for writing in binary format. Same behavior as for write-only mode.\n",
    "<w+>\tIt opens a file in both (read + write) modes. Same behavior as for write-only mode.\n",
    "<wb+>\tIt opens a file in (read + write + binary) modes. Same behavior as for write-only mode.\n",
    "<a>\tIt opens the file in append mode. The offset goes to the end of the file. If the file doesn’t exist, then it gets created.\n",
    "<ab>\tIt opens a file in (append + binary) modes. Same behavior as for append mode.\n",
    "<a+>\tIt opens a file in (append + read) modes. Same behavior as for append mode.\n",
    "<ab+>\tIt opens a file in (append + read + binary) modes. Same behavior as for append mode.\n"
   ]
  },
  {
   "cell_type": "markdown",
   "metadata": {},
   "source": [
    "# Set offsets in Files\n"
   ]
  },
  {
   "cell_type": "code",
   "execution_count": 21,
   "metadata": {},
   "outputs": [
    {
     "name": "stdout",
     "output_type": "stream",
     "text": [
      "Reading string is  It is my first file\n",
      "\n",
      "current file pointer position is 21\n",
      "replace position is 21\n"
     ]
    },
    {
     "data": {
      "text/plain": [
       "4"
      ]
     },
     "execution_count": 21,
     "metadata": {},
     "output_type": "execute_result"
    }
   ],
   "source": [
    "with open('app.log', 'w', encoding = 'utf-8') as f:\n",
    "   #first line\n",
    "   f.write('It is my first file\\n')\n",
    "   #second line\n",
    "   f.write('This file\\n')\n",
    "   #third line\n",
    "   f.write('contains three lines\\n')\n",
    "   #add multilines\n",
    "   f.writelines([\"python programming\", \"object oriented\", \"highlevel programming\"])\n",
    "# open a file\n",
    "f = open('app.log', 'r+')\n",
    "filedata = f.read(20)\n",
    "print(\"Reading string is \", filedata)\n",
    " \n",
    "#check current position\n",
    "position = f.tell()\n",
    "print(\"current file pointer position is\", position)\n",
    "\n",
    "#replace the file pointer poisition\n",
    "\n",
    "replace = f.seek(0, 1)\n",
    "print(\"replace position is\",replace)\n",
    "f.fileno()\n",
    "    "
   ]
  },
  {
   "cell_type": "code",
   "execution_count": 24,
   "metadata": {},
   "outputs": [
    {
     "name": "stdout",
     "output_type": "stream",
     "text": [
      "I will do the function using files\n",
      "I will start advanced python on tomorrow\n",
      "I Will make u all as python developer\n",
      "\n"
     ]
    }
   ],
   "source": [
    "with open(\"demo.txt\") as f:\n",
    "    file = f.read()\n",
    "    print(file)"
   ]
  },
  {
   "cell_type": "code",
   "execution_count": 29,
   "metadata": {},
   "outputs": [],
   "source": [
    "import os\n",
    "#os.rename(\"demo.txt\", \"demo1.txt\")\n",
    "os.remove(\"demo1.txt\")"
   ]
  },
  {
   "cell_type": "code",
   "execution_count": 44,
   "metadata": {},
   "outputs": [
    {
     "name": "stdout",
     "output_type": "stream",
     "text": [
      "['this is python programming\\n', 'pyhton with basics\\n', 'python datascience\\n', 'a\\n', '3\\n', 'u\\n', 'i']\n"
     ]
    }
   ],
   "source": [
    "with open(\"demo.txt\", 'w') as f:\n",
    "    f.write(\"this is python programming\\n\")\n",
    "    f.writelines([\"pyhton with basics\\n\", \"python datascience\"])\n",
    "with open(\"demo.txt\", 'a') as f:\n",
    "    li =  [5,6,7,89]\n",
    "    li2= ['a','3','u','i']\n",
    "    for line in li2:\n",
    "        f.write('\\n'+line)\n",
    "with open(\"demo.txt\", 'r') as f:\n",
    "    filedata = f.readlines()\n",
    "    print(filedata)\n",
    "f.close()\n",
    "\n",
    "    "
   ]
  },
  {
   "cell_type": "code",
   "execution_count": null,
   "metadata": {},
   "outputs": [],
   "source": []
  }
 ],
 "metadata": {
  "kernelspec": {
   "display_name": "Python 3",
   "language": "python",
   "name": "python3"
  },
  "language_info": {
   "codemirror_mode": {
    "name": "ipython",
    "version": 3
   },
   "file_extension": ".py",
   "mimetype": "text/x-python",
   "name": "python",
   "nbconvert_exporter": "python",
   "pygments_lexer": "ipython3",
   "version": "3.7.3"
  }
 },
 "nbformat": 4,
 "nbformat_minor": 2
}
