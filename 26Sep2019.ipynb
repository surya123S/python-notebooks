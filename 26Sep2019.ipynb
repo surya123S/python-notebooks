{
 "cells": [
  {
   "cell_type": "code",
   "execution_count": 2,
   "metadata": {},
   "outputs": [],
   "source": [
    "def addDetails(fileName, N):\n",
    "    with open(fileName, 'a') as f:\n",
    "        for user in range(N):\n",
    "            Name = input('Enter name : ')\n",
    "            Email = input('Enter email : ')\n",
    "            Mobile = input('Enter mobile : ')\n",
    "            f.write(\"\\n\"+Name+\"\\t\"+Email+\"\\t\"+Mobile)\n",
    "    with open(fileName, 'r') as f:\n",
    "        print(f.read())\n",
    "# addDetails(\"data.txt\", int(input('Enter no of users to add : ')))"
   ]
  },
  {
   "cell_type": "code",
   "execution_count": null,
   "metadata": {},
   "outputs": [],
   "source": []
  },
  {
   "cell_type": "markdown",
   "metadata": {},
   "source": [
    "### Packages & Modules\n",
    "- Module\n",
    "    - Inbuilt python code which contains functions\n",
    "- Package\n",
    "    - Collection of modules or sub packages\n",
    "- How to access inbuilt modules?\n",
    "- How to create user defined modules and usage?\n",
    "- How to create user defined package and usage?"
   ]
  },
  {
   "cell_type": "code",
   "execution_count": null,
   "metadata": {},
   "outputs": [
    {
     "name": "stdout",
     "output_type": "stream",
     "text": [
      "\n",
      "Welcome to Python 3.7's help utility!\n",
      "\n",
      "If this is your first time using Python, you should definitely check out\n",
      "the tutorial on the Internet at https://docs.python.org/3.7/tutorial/.\n",
      "\n",
      "Enter the name of any module, keyword, or topic to get help on writing\n",
      "Python programs and using Python modules.  To quit this help utility and\n",
      "return to the interpreter, just type \"quit\".\n",
      "\n",
      "To get a list of available modules, keywords, symbols, or topics, type\n",
      "\"modules\", \"keywords\", \"symbols\", or \"topics\".  Each module also comes\n",
      "with a one-line summary of what it does; to list the modules whose name\n",
      "or summary contain a given string such as \"spam\", type \"modules spam\".\n",
      "\n",
      "help> modules\n",
      "\n",
      "Please wait a moment while I gather a list of all available modules...\n",
      "\n"
     ]
    },
    {
     "name": "stderr",
     "output_type": "stream",
     "text": [
      "C:\\ProgramData\\Anaconda3\\lib\\site-packages\\IPython\\kernel\\__init__.py:13: ShimWarning: The `IPython.kernel` package has been deprecated since IPython 4.0.You should import from ipykernel or jupyter_client instead.\n",
      "  \"You should import from ipykernel or jupyter_client instead.\", ShimWarning)\n",
      "WARNING: AstropyDeprecationWarning: astropy.utils.compat.futures is now deprecated - use concurrent.futures instead [astropy.utils.compat.futures]\n",
      "C:\\ProgramData\\Anaconda3\\lib\\site-packages\\nltk\\twitter\\__init__.py:22: UserWarning: The twython library has not been installed. Some functionality from the twitter package will not be available.\n",
      "  \"The twython library has not been installed. \"\n"
     ]
    },
    {
     "name": "stdout",
     "output_type": "stream",
     "text": [
      "DEBUG:pip._internal.vcs:Registered VCS backend: git\n",
      "DEBUG:pip._internal.vcs:Registered VCS backend: hg\n",
      "DEBUG:pip._internal.vcs:Registered VCS backend: svn\n",
      "DEBUG:pip._internal.vcs:Registered VCS backend: bzr\n"
     ]
    },
    {
     "name": "stderr",
     "output_type": "stream",
     "text": [
      "C:\\ProgramData\\Anaconda3\\lib\\site-packages\\skimage\\novice\\__init__.py:103: UserWarning: The `skimage.novice` module was deprecated in version 0.14. It will be removed in 0.16.\n",
      "  warnings.warn(\"The `skimage.novice` module was deprecated in version 0.14. \"\n",
      "C:\\ProgramData\\Anaconda3\\lib\\site-packages\\skimage\\viewer\\utils\\core.py:10: UserWarning: Recommended matplotlib backend is `Agg` for full skimage.viewer functionality.\n",
      "  warn(\"Recommended matplotlib backend is `Agg` for full \"\n",
      "C:\\ProgramData\\Anaconda3\\lib\\site-packages\\sklearn\\externals\\joblib\\__init__.py:15: DeprecationWarning: sklearn.externals.joblib is deprecated in 0.21 and will be removed in 0.23. Please import this functionality directly from joblib, which can be installed with: pip install joblib. If this warning is raised when loading pickled models, you may need to re-serialize those models with scikit-learn 0.21+.\n",
      "  warnings.warn(msg, category=DeprecationWarning)\n",
      "C:\\ProgramData\\Anaconda3\\lib\\site-packages\\qtawesome\\iconic_font.py:276: UserWarning: You need to have a running QApplication to use QtAwesome!\n",
      "  warnings.warn(\"You need to have a running \"\n",
      "C:\\ProgramData\\Anaconda3\\lib\\pkgutil.py:107: VisibleDeprecationWarning: zmq.eventloop.minitornado is deprecated in pyzmq 14.0 and will be removed.\n",
      "    Install tornado itself to use zmq with the tornado IOLoop.\n",
      "    \n",
      "  yield from walk_packages(path, info.name+'.', onerror)\n"
     ]
    },
    {
     "name": "stdout",
     "output_type": "stream",
     "text": [
      "Crypto              builtins            menuinst            sockshandler\n",
      "Cython              bz2                 mimetypes           sortedcollections\n",
      "IPython             cProfile            mistune             sortedcontainers\n",
      "OpenSSL             calendar            mkl                 soupsieve\n",
      "PIL                 certifi             mkl_fft             sphinx\n",
      "PyQt5               cffi                mkl_random          sphinxcontrib\n",
      "__future__          cgi                 mmap                spyder\n",
      "_abc                cgitb               mmapfile            spyder_breakpoints\n",
      "_ast                chardet             mmsystem            spyder_io_dcm\n",
      "_asyncio            chunk               mock                spyder_io_hdf5\n",
      "_bisect             click               modulefinder        spyder_kernels\n",
      "_blake2             cloudpickle         more_itertools      spyder_profiler\n",
      "_bootlocale         clyent              mpmath              spyder_pylint\n",
      "_bz2                cmath               msgpack             sqlalchemy\n",
      "_cffi_backend       cmd                 msilib              sqlite3\n",
      "_codecs             code                msvcrt              sre_compile\n",
      "_codecs_cn          codecs              multipledispatch    sre_constants\n",
      "_codecs_hk          codeop              multiprocessing     sre_parse\n",
      "_codecs_iso2022     collections         navigator_updater   ssl\n",
      "_codecs_jp          colorama            nbconvert           sspi\n",
      "_codecs_kr          colorsys            nbformat            sspicon\n",
      "_codecs_tw          commctrl            netbios             stat\n",
      "_collections        compileall          netrc               statistics\n",
      "_collections_abc    comtypes            networkx            statsmodels\n",
      "_compat_pickle      concurrent          nltk                storemagic\n",
      "_compression        conda               nntplib             string\n",
      "_contextvars        conda_build         nose                stringprep\n",
      "_csv                conda_env           notebook            struct\n",
      "_ctypes             conda_package_handling nt                  subprocess\n",
      "_ctypes_test        conda_verify        ntpath              sunau\n",
      "_datetime           configparser        ntsecuritycon       symbol\n",
      "_decimal            contextlib          nturl2path          sympy\n",
      "_dummy_thread       contextlib2         numba               sympyprinting\n",
      "_elementtree        contextvars         numbers             symtable\n",
      "_functools          copy                numexpr             sys\n",
      "_hashlib            copyreg             numpy               sysconfig\n",
      "_heapq              crypt               numpydoc            tables\n",
      "_imp                cryptography        odbc                tabnanny\n",
      "_io                 csv                 olefile             tarfile\n",
      "_json               ctypes              opcode              tblib\n",
      "_locale             curl                openpyxl            telnetlib\n",
      "_lsprof             curses              operator            tempfile\n",
      "_lzma               cwp                 optparse            terminado\n",
      "_markupbase         cycler              os                  test\n",
      "_md5                cython              packaging           test_data\n",
      "_msi                cythonmagic         pandas              test_pycosat\n",
      "_multibytecodec     cytoolz             pandocfilters       testpath\n",
      "_multiprocessing    dask                parser              tests\n",
      "_nsis               dataclasses         parso               textwrap\n",
      "_opcode             datetime            partd               this\n",
      "_operator           dateutil            past                threading\n",
      "_osx_support        dbi                 path                time\n",
      "_overlapped         dbm                 pathlib             timeit\n",
      "_pickle             dde                 pathlib2            timer\n",
      "_py_abc             decimal             patsy               tkinter\n",
      "_pydecimal          decorator           pdb                 tlz\n",
      "_pyio               defusedxml          pep8                token\n",
      "_pylief             difflib             perfmon             tokenize\n",
      "_pyrsistent_version dis                 pickle              toolz\n",
      "_pytest             distributed         pickleshare         tornado\n",
      "_queue              distutils           pickletools         tqdm\n",
      "_random             doctest             pip                 trace\n",
      "_sha1               docutils            pipes               traceback\n",
      "_sha256             dummy_threading     pkg_resources       tracemalloc\n",
      "_sha3               easy_install        pkginfo             traitlets\n",
      "_sha512             email               pkgutil             tty\n",
      "_signal             encodings           platform            turtle\n",
      "_sitebuiltins       ensurepip           plistlib            turtledemo\n",
      "_socket             entrypoints         pluggy              types\n",
      "_sqlite3            enum                ply                 typing\n",
      "_sre                errno               poplib              unicodecsv\n",
      "_ssl                et_xmlfile          posixpath           unicodedata\n",
      "_stat               fastcache           pprint              unittest\n",
      "_string             faulthandler        profile             urllib\n",
      "_strptime           filecmp             prometheus_client   urllib3\n",
      "_struct             fileinput           prompt_toolkit      uu\n",
      "_symtable           filelock            pstats              uuid\n",
      "_system_path        flask               psutil              venv\n",
      "_testbuffer         fnmatch             pty                 warnings\n",
      "_testcapi           formatter           pvectorc            wave\n",
      "_testconsole        fractions           py                  wcwidth\n",
      "_testimportmultiple ftplib              py_compile          weakref\n",
      "_testmultiphase     functools           pyclbr              webbrowser\n",
      "_thread             future              pycodestyle         webencodings\n",
      "_threading_local    gc                  pycosat             werkzeug\n",
      "_tkinter            genericpath         pycparser           wheel\n",
      "_tracemalloc        getopt              pycurl              widgetsnbextension\n",
      "_warnings           getpass             pydoc               win2kras\n",
      "_weakref            gettext             pydoc_data          win32api\n",
      "_weakrefset         gevent              pyexpat             win32clipboard\n",
      "_win32sysloader     glob                pyflakes            win32com\n",
      "_winapi             glob2               pygments            win32con\n",
      "_winxptheme         greenlet            pylab               win32console\n",
      "_yaml               gzip                pylint              win32cred\n",
      "abc                 h5py                pyodbc              win32crypt\n",
      "adodbapi            hashlib             pyparsing           win32cryptcon\n",
      "afxres              heapdict            pyreadline          win32event\n",
      "aifc                heapq               pyrsistent          win32evtlog\n",
      "alabaster           hmac                pytest              win32evtlogutil\n",
      "anaconda_navigator  html                pytest_arraydiff    win32file\n",
      "anaconda_project    html5lib            pytest_doctestplus  win32gui\n",
      "antigravity         http                pytest_openfiles    win32gui_struct\n",
      "argparse            idlelib             pytest_remotedata   win32help\n",
      "array               idna                pythoncom           win32inet\n",
      "asn1crypto          imageio             pytz                win32inetcon\n",
      "ast                 imagesize           pywin               win32job\n",
      "astroid             imaplib             pywin32_testutil    win32lz\n",
      "astropy             imghdr              pywintypes          win32net\n",
      "asynchat            imp                 pywt                win32netcon\n",
      "asyncio             importlib           pyximport           win32pdh\n",
      "asyncore            importlib_metadata  qtawesome           win32pdhquery\n",
      "atexit              inspect             qtconsole           win32pdhutil\n",
      "atomicwrites        io                  qtpy                win32pipe\n",
      "attr                ipaddress           queue               win32print\n",
      "audioop             ipykernel           quopri              win32process\n",
      "autoreload          ipykernel_launcher  random              win32profile\n",
      "babel               ipython_genutils    rasutil             win32ras\n",
      "backcall            ipywidgets          re                  win32rcparser\n",
      "backports           isapi               readline            win32security\n",
      "base64              isort               regcheck            win32service\n",
      "bdb                 isympy              regutil             win32serviceutil\n",
      "binascii            itertools           reprlib             win32timezone\n",
      "binhex              itsdangerous        requests            win32trace\n",
      "binstar_client      jdcal               rlcompleter         win32traceutil\n",
      "bisect              jedi                rmagic              win32transaction\n",
      "bitarray            jinja2              rope                win32ts\n",
      "bkcharts            joblib              ruamel_yaml         win32ui\n",
      "bleach              json                run                 win32uiole\n",
      "bokeh               json5               runpy               win32verstamp\n",
      "boto                jsonschema          sched               win32wnet\n",
      "bottleneck          jupyter             scipy               win_inet_pton\n",
      "brain_argparse      jupyter_client      scripts             win_unicode_console\n",
      "brain_attrs         jupyter_console     seaborn             wincertstore\n",
      "brain_builtin_inference jupyter_core        secrets             winerror\n",
      "brain_collections   jupyterlab          select              winioctlcon\n",
      "brain_curses        jupyterlab_server   selectors           winnt\n",
      "brain_dateutil      keyring             send2trash          winperf\n",
      "brain_fstrings      keyword             servicemanager      winpty\n",
      "brain_functools     kiwisolver          setuptools          winreg\n",
      "brain_gi            lazy_object_proxy   shelve              winsound\n",
      "brain_hashlib       lib2to3             shlex               winxpgui\n",
      "brain_http          libarchive          shutil              winxptheme\n",
      "brain_io            libfuturize         signal              wrapt\n",
      "brain_mechanize     libpasteurize       simplegeneric       wsgiref\n",
      "brain_multiprocessing lief                singledispatch      xdrlib\n",
      "brain_namedtuple_enum linecache           singledispatch_helpers xlrd\n",
      "brain_nose          llvmlite            sip                 xlsxwriter\n",
      "brain_numpy         locale              sipconfig           xlwings\n",
      "brain_pkg_resources locket              sipdistutils        xlwt\n",
      "brain_pytest        logging             site                xml\n",
      "brain_qt            lxml                six                 xmlrpc\n",
      "brain_random        lzma                skimage             xxsubtype\n",
      "brain_re            macpath             sklearn             yaml\n",
      "brain_six           mailbox             smtpd               zict\n",
      "brain_ssl           mailcap             smtplib             zipapp\n",
      "brain_subprocess    markupsafe          sndhdr              zipfile\n",
      "brain_threading     marshal             snowballstemmer     zipimport\n",
      "brain_typing        math                socket              zipp\n",
      "brain_uuid          matplotlib          socketserver        zlib\n",
      "bs4                 mccabe              socks               zmq\n",
      "\n",
      "Enter any module name to get more help.  Or, type \"modules spam\" to search\n",
      "for modules whose name or summary contain the string \"spam\".\n",
      "\n"
     ]
    }
   ],
   "source": [
    "help()"
   ]
  },
  {
   "cell_type": "code",
   "execution_count": 3,
   "metadata": {},
   "outputs": [
    {
     "data": {
      "text/plain": [
       "'Thu Sep 26 09:41:29 2019'"
      ]
     },
     "execution_count": 3,
     "metadata": {},
     "output_type": "execute_result"
    }
   ],
   "source": [
    "import time\n",
    "# dir(time)\n",
    "time.ctime() # moduleName.methodName"
   ]
  },
  {
   "cell_type": "code",
   "execution_count": 4,
   "metadata": {},
   "outputs": [
    {
     "name": "stdout",
     "output_type": "stream",
     "text": [
      "\n",
      "Welcome to Python 3.7's help utility!\n",
      "\n",
      "If this is your first time using Python, you should definitely check out\n",
      "the tutorial on the Internet at https://docs.python.org/3.7/tutorial/.\n",
      "\n",
      "Enter the name of any module, keyword, or topic to get help on writing\n",
      "Python programs and using Python modules.  To quit this help utility and\n",
      "return to the interpreter, just type \"quit\".\n",
      "\n",
      "To get a list of available modules, keywords, symbols, or topics, type\n",
      "\"modules\", \"keywords\", \"symbols\", or \"topics\".  Each module also comes\n",
      "with a one-line summary of what it does; to list the modules whose name\n",
      "or summary contain a given string such as \"spam\", type \"modules spam\".\n",
      "\n",
      "help> time\n",
      "Help on built-in module time:\n",
      "\n",
      "NAME\n",
      "    time - This module provides various functions to manipulate time values.\n",
      "\n",
      "DESCRIPTION\n",
      "    There are two standard representations of time.  One is the number\n",
      "    of seconds since the Epoch, in UTC (a.k.a. GMT).  It may be an integer\n",
      "    or a floating point number (to represent fractions of seconds).\n",
      "    The Epoch is system-defined; on Unix, it is generally January 1st, 1970.\n",
      "    The actual value can be retrieved by calling gmtime(0).\n",
      "    \n",
      "    The other representation is a tuple of 9 integers giving local time.\n",
      "    The tuple items are:\n",
      "      year (including century, e.g. 1998)\n",
      "      month (1-12)\n",
      "      day (1-31)\n",
      "      hours (0-23)\n",
      "      minutes (0-59)\n",
      "      seconds (0-59)\n",
      "      weekday (0-6, Monday is 0)\n",
      "      Julian day (day in the year, 1-366)\n",
      "      DST (Daylight Savings Time) flag (-1, 0 or 1)\n",
      "    If the DST flag is 0, the time is given in the regular time zone;\n",
      "    if it is 1, the time is given in the DST time zone;\n",
      "    if it is -1, mktime() should guess based on the date and time.\n",
      "\n",
      "CLASSES\n",
      "    builtins.tuple(builtins.object)\n",
      "        struct_time\n",
      "    \n",
      "    class struct_time(builtins.tuple)\n",
      "     |  struct_time(iterable=(), /)\n",
      "     |  \n",
      "     |  The time value as returned by gmtime(), localtime(), and strptime(), and\n",
      "     |  accepted by asctime(), mktime() and strftime().  May be considered as a\n",
      "     |  sequence of 9 integers.\n",
      "     |  \n",
      "     |  Note that several fields' values are not the same as those defined by\n",
      "     |  the C language standard for struct tm.  For example, the value of the\n",
      "     |  field tm_year is the actual year, not year - 1900.  See individual\n",
      "     |  fields' descriptions for details.\n",
      "     |  \n",
      "     |  Method resolution order:\n",
      "     |      struct_time\n",
      "     |      builtins.tuple\n",
      "     |      builtins.object\n",
      "     |  \n",
      "     |  Methods defined here:\n",
      "     |  \n",
      "     |  __reduce__(...)\n",
      "     |      Helper for pickle.\n",
      "     |  \n",
      "     |  __repr__(self, /)\n",
      "     |      Return repr(self).\n",
      "     |  \n",
      "     |  ----------------------------------------------------------------------\n",
      "     |  Static methods defined here:\n",
      "     |  \n",
      "     |  __new__(*args, **kwargs) from builtins.type\n",
      "     |      Create and return a new object.  See help(type) for accurate signature.\n",
      "     |  \n",
      "     |  ----------------------------------------------------------------------\n",
      "     |  Data descriptors defined here:\n",
      "     |  \n",
      "     |  tm_gmtoff\n",
      "     |      offset from UTC in seconds\n",
      "     |  \n",
      "     |  tm_hour\n",
      "     |      hours, range [0, 23]\n",
      "     |  \n",
      "     |  tm_isdst\n",
      "     |      1 if summer time is in effect, 0 if not, and -1 if unknown\n",
      "     |  \n",
      "     |  tm_mday\n",
      "     |      day of month, range [1, 31]\n",
      "     |  \n",
      "     |  tm_min\n",
      "     |      minutes, range [0, 59]\n",
      "     |  \n",
      "     |  tm_mon\n",
      "     |      month of year, range [1, 12]\n",
      "     |  \n",
      "     |  tm_sec\n",
      "     |      seconds, range [0, 61])\n",
      "     |  \n",
      "     |  tm_wday\n",
      "     |      day of week, range [0, 6], Monday is 0\n",
      "     |  \n",
      "     |  tm_yday\n",
      "     |      day of year, range [1, 366]\n",
      "     |  \n",
      "     |  tm_year\n",
      "     |      year, for example, 1993\n",
      "     |  \n",
      "     |  tm_zone\n",
      "     |      abbreviation of timezone name\n",
      "     |  \n",
      "     |  ----------------------------------------------------------------------\n",
      "     |  Data and other attributes defined here:\n",
      "     |  \n",
      "     |  n_fields = 11\n",
      "     |  \n",
      "     |  n_sequence_fields = 9\n",
      "     |  \n",
      "     |  n_unnamed_fields = 0\n",
      "     |  \n",
      "     |  ----------------------------------------------------------------------\n",
      "     |  Methods inherited from builtins.tuple:\n",
      "     |  \n",
      "     |  __add__(self, value, /)\n",
      "     |      Return self+value.\n",
      "     |  \n",
      "     |  __contains__(self, key, /)\n",
      "     |      Return key in self.\n",
      "     |  \n",
      "     |  __eq__(self, value, /)\n",
      "     |      Return self==value.\n",
      "     |  \n",
      "     |  __ge__(self, value, /)\n",
      "     |      Return self>=value.\n",
      "     |  \n",
      "     |  __getattribute__(self, name, /)\n",
      "     |      Return getattr(self, name).\n",
      "     |  \n",
      "     |  __getitem__(self, key, /)\n",
      "     |      Return self[key].\n",
      "     |  \n",
      "     |  __getnewargs__(self, /)\n",
      "     |  \n",
      "     |  __gt__(self, value, /)\n",
      "     |      Return self>value.\n",
      "     |  \n",
      "     |  __hash__(self, /)\n",
      "     |      Return hash(self).\n",
      "     |  \n",
      "     |  __iter__(self, /)\n",
      "     |      Implement iter(self).\n",
      "     |  \n",
      "     |  __le__(self, value, /)\n",
      "     |      Return self<=value.\n",
      "     |  \n",
      "     |  __len__(self, /)\n",
      "     |      Return len(self).\n",
      "     |  \n",
      "     |  __lt__(self, value, /)\n",
      "     |      Return self<value.\n",
      "     |  \n",
      "     |  __mul__(self, value, /)\n",
      "     |      Return self*value.\n",
      "     |  \n",
      "     |  __ne__(self, value, /)\n",
      "     |      Return self!=value.\n",
      "     |  \n",
      "     |  __rmul__(self, value, /)\n",
      "     |      Return value*self.\n",
      "     |  \n",
      "     |  count(self, value, /)\n",
      "     |      Return number of occurrences of value.\n",
      "     |  \n",
      "     |  index(self, value, start=0, stop=2147483647, /)\n",
      "     |      Return first index of value.\n",
      "     |      \n",
      "     |      Raises ValueError if the value is not present.\n",
      "\n",
      "FUNCTIONS\n",
      "    asctime(...)\n",
      "        asctime([tuple]) -> string\n",
      "        \n",
      "        Convert a time tuple to a string, e.g. 'Sat Jun 06 16:26:11 1998'.\n",
      "        When the time tuple is not present, current time as returned by localtime()\n",
      "        is used.\n",
      "    \n",
      "    clock(...)\n",
      "        clock() -> floating point number\n",
      "        \n",
      "        Return the CPU time or real time since the start of the process or since\n",
      "        the first call to clock().  This has as much precision as the system\n",
      "        records.\n",
      "    \n",
      "    ctime(...)\n",
      "        ctime(seconds) -> string\n",
      "        \n",
      "        Convert a time in seconds since the Epoch to a string in local time.\n",
      "        This is equivalent to asctime(localtime(seconds)). When the time tuple is\n",
      "        not present, current time as returned by localtime() is used.\n",
      "    \n",
      "    get_clock_info(...)\n",
      "        get_clock_info(name: str) -> dict\n",
      "        \n",
      "        Get information of the specified clock.\n",
      "    \n",
      "    gmtime(...)\n",
      "        gmtime([seconds]) -> (tm_year, tm_mon, tm_mday, tm_hour, tm_min,\n",
      "                               tm_sec, tm_wday, tm_yday, tm_isdst)\n",
      "        \n",
      "        Convert seconds since the Epoch to a time tuple expressing UTC (a.k.a.\n",
      "        GMT).  When 'seconds' is not passed in, convert the current time instead.\n",
      "        \n",
      "        If the platform supports the tm_gmtoff and tm_zone, they are available as\n",
      "        attributes only.\n",
      "    \n",
      "    localtime(...)\n",
      "        localtime([seconds]) -> (tm_year,tm_mon,tm_mday,tm_hour,tm_min,\n",
      "                                  tm_sec,tm_wday,tm_yday,tm_isdst)\n",
      "        \n",
      "        Convert seconds since the Epoch to a time tuple expressing local time.\n",
      "        When 'seconds' is not passed in, convert the current time instead.\n",
      "    \n",
      "    mktime(...)\n",
      "        mktime(tuple) -> floating point number\n",
      "        \n",
      "        Convert a time tuple in local time to seconds since the Epoch.\n",
      "        Note that mktime(gmtime(0)) will not generally return zero for most\n",
      "        time zones; instead the returned value will either be equal to that\n",
      "        of the timezone or altzone attributes on the time module.\n",
      "    \n",
      "    monotonic(...)\n",
      "        monotonic() -> float\n",
      "        \n",
      "        Monotonic clock, cannot go backward.\n",
      "    \n",
      "    monotonic_ns(...)\n",
      "        monotonic_ns() -> int\n",
      "        \n",
      "        Monotonic clock, cannot go backward, as nanoseconds.\n",
      "    \n",
      "    perf_counter(...)\n",
      "        perf_counter() -> float\n",
      "        \n",
      "        Performance counter for benchmarking.\n",
      "    \n",
      "    perf_counter_ns(...)\n",
      "        perf_counter_ns() -> int\n",
      "        \n",
      "        Performance counter for benchmarking as nanoseconds.\n",
      "    \n",
      "    process_time(...)\n",
      "        process_time() -> float\n",
      "        \n",
      "        Process time for profiling: sum of the kernel and user-space CPU time.\n",
      "    \n",
      "    process_time_ns(...)\n",
      "        process_time() -> int\n",
      "        \n",
      "        Process time for profiling as nanoseconds:\n",
      "        sum of the kernel and user-space CPU time.\n",
      "    \n",
      "    sleep(...)\n",
      "        sleep(seconds)\n",
      "        \n",
      "        Delay execution for a given number of seconds.  The argument may be\n",
      "        a floating point number for subsecond precision.\n",
      "    \n",
      "    strftime(...)\n",
      "        strftime(format[, tuple]) -> string\n",
      "        \n",
      "        Convert a time tuple to a string according to a format specification.\n",
      "        See the library reference manual for formatting codes. When the time tuple\n",
      "        is not present, current time as returned by localtime() is used.\n",
      "        \n",
      "        Commonly used format codes:\n",
      "        \n",
      "        %Y  Year with century as a decimal number.\n",
      "        %m  Month as a decimal number [01,12].\n",
      "        %d  Day of the month as a decimal number [01,31].\n",
      "        %H  Hour (24-hour clock) as a decimal number [00,23].\n",
      "        %M  Minute as a decimal number [00,59].\n",
      "        %S  Second as a decimal number [00,61].\n",
      "        %z  Time zone offset from UTC.\n",
      "        %a  Locale's abbreviated weekday name.\n",
      "        %A  Locale's full weekday name.\n",
      "        %b  Locale's abbreviated month name.\n",
      "        %B  Locale's full month name.\n",
      "        %c  Locale's appropriate date and time representation.\n",
      "        %I  Hour (12-hour clock) as a decimal number [01,12].\n",
      "        %p  Locale's equivalent of either AM or PM.\n",
      "        \n",
      "        Other codes may be available on your platform.  See documentation for\n",
      "        the C library strftime function.\n",
      "    \n",
      "    strptime(...)\n",
      "        strptime(string, format) -> struct_time\n",
      "        \n",
      "        Parse a string to a time tuple according to a format specification.\n",
      "        See the library reference manual for formatting codes (same as\n",
      "        strftime()).\n",
      "        \n",
      "        Commonly used format codes:\n",
      "        \n",
      "        %Y  Year with century as a decimal number.\n",
      "        %m  Month as a decimal number [01,12].\n",
      "        %d  Day of the month as a decimal number [01,31].\n",
      "        %H  Hour (24-hour clock) as a decimal number [00,23].\n",
      "        %M  Minute as a decimal number [00,59].\n",
      "        %S  Second as a decimal number [00,61].\n",
      "        %z  Time zone offset from UTC.\n",
      "        %a  Locale's abbreviated weekday name.\n",
      "        %A  Locale's full weekday name.\n",
      "        %b  Locale's abbreviated month name.\n",
      "        %B  Locale's full month name.\n",
      "        %c  Locale's appropriate date and time representation.\n",
      "        %I  Hour (12-hour clock) as a decimal number [01,12].\n",
      "        %p  Locale's equivalent of either AM or PM.\n",
      "        \n",
      "        Other codes may be available on your platform.  See documentation for\n",
      "        the C library strftime function.\n",
      "    \n",
      "    thread_time(...)\n",
      "        thread_time() -> float\n",
      "        \n",
      "        Thread time for profiling: sum of the kernel and user-space CPU time.\n",
      "    \n",
      "    thread_time_ns(...)\n",
      "        thread_time() -> int\n",
      "        \n",
      "        Thread time for profiling as nanoseconds:\n",
      "        sum of the kernel and user-space CPU time.\n",
      "    \n",
      "    time(...)\n",
      "        time() -> floating point number\n",
      "        \n",
      "        Return the current time in seconds since the Epoch.\n",
      "        Fractions of a second may be present if the system clock provides them.\n",
      "    \n",
      "    time_ns(...)\n",
      "        time_ns() -> int\n",
      "        \n",
      "        Return the current time in nanoseconds since the Epoch.\n",
      "\n",
      "DATA\n",
      "    altzone = -23400\n",
      "    daylight = 0\n",
      "    timezone = -19800\n",
      "    tzname = ('India Standard Time', 'India Daylight Time')\n",
      "\n",
      "FILE\n",
      "    (built-in)\n",
      "\n",
      "\n"
     ]
    },
    {
     "name": "stdout",
     "output_type": "stream",
     "text": [
      "help> quit\n",
      "\n",
      "You are now leaving help and returning to the Python interpreter.\n",
      "If you want to ask for help on a particular object directly from the\n",
      "interpreter, you can type \"help(object)\".  Executing \"help('string')\"\n",
      "has the same effect as typing a particular string at the help> prompt.\n"
     ]
    }
   ],
   "source": [
    "help()"
   ]
  },
  {
   "cell_type": "code",
   "execution_count": 10,
   "metadata": {},
   "outputs": [
    {
     "data": {
      "text/plain": [
       "6"
      ]
     },
     "execution_count": 10,
     "metadata": {},
     "output_type": "execute_result"
    }
   ],
   "source": [
    "# range(1, 10)\n",
    "import random\n",
    "random.randint(1, 10)"
   ]
  },
  {
   "cell_type": "code",
   "execution_count": 13,
   "metadata": {},
   "outputs": [
    {
     "name": "stdout",
     "output_type": "stream",
     "text": [
      "Enter a number b/w 1 to 5 :2\n",
      "Guess Fail...!!!\n",
      "Enter a number b/w 1 to 5 :3\n",
      "Guess Fail...!!!\n",
      "Enter a number b/w 1 to 5 :4\n",
      "Guess Fail...!!!\n"
     ]
    }
   ],
   "source": [
    "# define a function which guess a number generated by random module\n",
    "def guessNumber():\n",
    "    import random\n",
    "    n = random.randint(1, 6)\n",
    "    for i in range(3):\n",
    "        u = int(input('Enter a number b/w 1 to 5 :'))\n",
    "        if(n == u):\n",
    "            print(\"Guess success...!!!\")\n",
    "        else:\n",
    "            print(\"Guess Fail...!!!\")\n",
    "guessNumber()"
   ]
  },
  {
   "cell_type": "markdown",
   "metadata": {},
   "source": [
    "#### Creating & acessing user defined module"
   ]
  },
  {
   "cell_type": "code",
   "execution_count": 1,
   "metadata": {},
   "outputs": [
    {
     "data": {
      "text/plain": [
       "120"
      ]
     },
     "execution_count": 1,
     "metadata": {},
     "output_type": "execute_result"
    }
   ],
   "source": [
    "import factorial\n",
    "factorial.fact(5)"
   ]
  },
  {
   "cell_type": "code",
   "execution_count": 2,
   "metadata": {},
   "outputs": [
    {
     "data": {
      "text/plain": [
       "True"
      ]
     },
     "execution_count": 2,
     "metadata": {},
     "output_type": "execute_result"
    }
   ],
   "source": [
    "factorial.ispalindrome(\"malayalam\")"
   ]
  },
  {
   "cell_type": "markdown",
   "metadata": {},
   "source": [
    "#### Creating & accessing user defined packages"
   ]
  },
  {
   "cell_type": "code",
   "execution_count": 6,
   "metadata": {},
   "outputs": [
    {
     "data": {
      "text/plain": [
       "True"
      ]
     },
     "execution_count": 6,
     "metadata": {},
     "output_type": "execute_result"
    }
   ],
   "source": [
    "# from packageName import module\n",
    "from userPackage import prime\n",
    "prime.isprime(7)"
   ]
  },
  {
   "cell_type": "markdown",
   "metadata": {},
   "source": [
    "#### List Comprehension\n",
    "- Way of creating a list in a single line just like mathematical statements.\n",
    "    - [var for var in iterable]"
   ]
  },
  {
   "cell_type": "code",
   "execution_count": 8,
   "metadata": {},
   "outputs": [
    {
     "data": {
      "text/plain": [
       "[1, 2, 3, 4, 5, 6, 7, 8, 9]"
      ]
     },
     "execution_count": 8,
     "metadata": {},
     "output_type": "execute_result"
    }
   ],
   "source": [
    "# range(1, 10)\n",
    "# list(range(1, 10))\n",
    "[value for value in range(1, 10)]"
   ]
  },
  {
   "cell_type": "code",
   "execution_count": 9,
   "metadata": {},
   "outputs": [
    {
     "data": {
      "text/plain": [
       "['a', 'p', 's', 's', 'd', 'c']"
      ]
     },
     "execution_count": 9,
     "metadata": {},
     "output_type": "execute_result"
    }
   ],
   "source": [
    "[ch for ch in \"apssdc\"]"
   ]
  },
  {
   "cell_type": "code",
   "execution_count": 12,
   "metadata": {},
   "outputs": [
    {
     "data": {
      "text/plain": [
       "[2, 4, 6, 8, 10, 12, 14, 16, 18]"
      ]
     },
     "execution_count": 12,
     "metadata": {},
     "output_type": "execute_result"
    }
   ],
   "source": [
    "# generate list of even numbers for the given range\n",
    "[val for val in range(1, 20) if(val % 2 == 0)]"
   ]
  },
  {
   "cell_type": "code",
   "execution_count": 13,
   "metadata": {},
   "outputs": [
    {
     "data": {
      "text/plain": [
       "['monday', 'morning', 'message']"
      ]
     },
     "execution_count": 13,
     "metadata": {},
     "output_type": "execute_result"
    }
   ],
   "source": [
    "# generate list of strings starting with character m from given\n",
    "## list using list comprehension\n",
    "words = [\"monday\", \"morning\", \"tuesday\", \"friday\", \"message\", \n",
    "         \"sunday\"]\n",
    "[word for word in words if(word[0] == \"m\")]"
   ]
  },
  {
   "cell_type": "code",
   "execution_count": 14,
   "metadata": {},
   "outputs": [
    {
     "data": {
      "text/plain": [
       "['monday', 'morning', 'message']"
      ]
     },
     "execution_count": 14,
     "metadata": {},
     "output_type": "execute_result"
    }
   ],
   "source": [
    "[word for word in words if(word.startswith(\"m\"))]"
   ]
  },
  {
   "cell_type": "code",
   "execution_count": 15,
   "metadata": {},
   "outputs": [
    {
     "data": {
      "text/plain": [
       "[2, 3, 5, 7, 11, 13, 17, 19, 23, 29, 31, 37, 41, 43, 47]"
      ]
     },
     "execution_count": 15,
     "metadata": {},
     "output_type": "execute_result"
    }
   ],
   "source": [
    "# generate list of prime numbers in a given range \n",
    "from userPackage import prime\n",
    "[value for value in range(1, 50) if(prime.isprime(value))]"
   ]
  },
  {
   "cell_type": "code",
   "execution_count": 1,
   "metadata": {},
   "outputs": [
    {
     "data": {
      "text/plain": [
       "['pavan', 'ramu', 'sai']"
      ]
     },
     "execution_count": 1,
     "metadata": {},
     "output_type": "execute_result"
    }
   ],
   "source": [
    "student_marks = {\"ravi\" : 55, \"pavan\" : 76, \"ramu\" : 80, \n",
    "                 \"vinay\" : 40, \"sai\" : 91, \"praveen\" : 66}\n",
    "[item[0] for item in student_marks.items() if item[1] >=75]"
   ]
  },
  {
   "cell_type": "markdown",
   "metadata": {},
   "source": [
    "### REGULAR EXPRESSIONS"
   ]
  },
  {
   "cell_type": "code",
   "execution_count": 5,
   "metadata": {},
   "outputs": [
    {
     "name": "stdout",
     "output_type": "stream",
     "text": [
      "<re.Match object; span=(0, 1), match='s'>\n"
     ]
    }
   ],
   "source": [
    "import re\n",
    "print(re.match(\"s\",\"srinivas\"))"
   ]
  },
  {
   "cell_type": "code",
   "execution_count": 6,
   "metadata": {},
   "outputs": [
    {
     "data": {
      "text/plain": [
       "<re.Match object; span=(1, 2), match='s'>"
      ]
     },
     "execution_count": 6,
     "metadata": {},
     "output_type": "execute_result"
    }
   ],
   "source": [
    "re.search(\"s\",\"msrinivas\")"
   ]
  },
  {
   "cell_type": "code",
   "execution_count": 7,
   "metadata": {},
   "outputs": [
    {
     "data": {
      "text/plain": [
       "['s', 's']"
      ]
     },
     "execution_count": 7,
     "metadata": {},
     "output_type": "execute_result"
    }
   ],
   "source": [
    "re.findall(\"s\",\"msrinivas\")"
   ]
  },
  {
   "cell_type": "code",
   "execution_count": 8,
   "metadata": {},
   "outputs": [
    {
     "name": "stdout",
     "output_type": "stream",
     "text": [
      "srinivas\n",
      "srinu\n",
      "surya\n"
     ]
    }
   ],
   "source": [
    "names=[\"srinivas\",\"srinu\",\"viswanth\",\"venkata gopi\",\"surya\",\"vis\",\"lucky\"]\n",
    "\n",
    "for name in names:\n",
    "    if re.match(\"s\",name):\n",
    "        print(name)\n"
   ]
  },
  {
   "cell_type": "code",
   "execution_count": 9,
   "metadata": {},
   "outputs": [
    {
     "name": "stdout",
     "output_type": "stream",
     "text": [
      "srinivas\n",
      "srinu\n",
      "viswanth\n",
      "surya\n",
      "vis\n"
     ]
    }
   ],
   "source": [
    "names=[\"srinivas\",\"srinu\",\"viswanth\",\"venkata gopi\",\"surya\",\"vis\",\"lucky\"]\n",
    "\n",
    "for name in names:\n",
    "    if re.search(\"s\",name):\n",
    "        print(name)"
   ]
  },
  {
   "cell_type": "code",
   "execution_count": 35,
   "metadata": {},
   "outputs": [
    {
     "name": "stdout",
     "output_type": "stream",
     "text": [
      "6576568678\n",
      "\n",
      "+919874563210\n",
      "\n",
      "9874563211\n",
      "\n",
      "08745632109\n",
      "\n"
     ]
    }
   ],
   "source": [
    "names=open(\"data.txt\")\n",
    "\n",
    "pattern=\"^[6-9][0-9]{9}$|^[+][9][1][6-9][0-9]{9}$|^[0][6-9][0-9]{9}$\"\n",
    "for name in names:\n",
    "    if re.findall(pattern,name):\n",
    "        print(name)"
   ]
  },
  {
   "cell_type": "code",
   "execution_count": 36,
   "metadata": {
    "scrolled": true
   },
   "outputs": [
    {
     "name": "stdout",
     "output_type": "stream",
     "text": [
      "nivas_0803@gmail.com\n",
      "\n",
      "sri.123@apssdc.in\n",
      "\n",
      ".12354sri@gmail.com\n",
      "\n",
      "viswanth@yahoo.in\n",
      "\n"
     ]
    }
   ],
   "source": [
    "names=open(\"data.txt\")\n",
    "\n",
    "pattern=\"^[a-z0-9._][a-z0-9._]{4,25}[@][a-z]{3,8}[.][a-z]{2,8}$\"\n",
    "for name in names:\n",
    "    if re.findall(pattern,name):\n",
    "        print(name)"
   ]
  },
  {
   "cell_type": "code",
   "execution_count": null,
   "metadata": {},
   "outputs": [],
   "source": []
  }
 ],
 "metadata": {
  "kernelspec": {
   "display_name": "Python 3",
   "language": "python",
   "name": "python3"
  },
  "language_info": {
   "codemirror_mode": {
    "name": "ipython",
    "version": 3
   },
   "file_extension": ".py",
   "mimetype": "text/x-python",
   "name": "python",
   "nbconvert_exporter": "python",
   "pygments_lexer": "ipython3",
   "version": "3.7.3"
  }
 },
 "nbformat": 4,
 "nbformat_minor": 2
}
