{
 "cells": [
  {
   "cell_type": "markdown",
   "metadata": {},
   "source": [
    "### Seating Arrangement\n",
    "###"
   ]
  },
  {
   "cell_type": "markdown",
   "metadata": {},
   "source": [
    "### Anagrams\n",
    "\n",
    "Given two strings, a and b , that may or may not be of the same length, determine the minimum number of character deletions required to make a and b anagrams. Any characters can be deleted from either of the strings.\n",
    "\n",
    "Input :\n",
    "\n",
    "test cases,t\n",
    "two strings a and b, for each test case\n",
    "Output:\n",
    "\n",
    "Desired O/p\n",
    "\n",
    "Constraints :\n",
    "\n",
    "string lengths<=10000\n",
    "\n",
    "Note :\n",
    "\n",
    "Anagram of a word is formed by rearranging the letters of the word.\n",
    "\n",
    "For e.g. -> For the word RAM - MAR,ARM,AMR,RMA etc. are few anagrams."
   ]
  },
  {
   "cell_type": "code",
   "execution_count": null,
   "metadata": {},
   "outputs": [],
   "source": []
  },
  {
   "cell_type": "code",
   "execution_count": 1,
   "metadata": {},
   "outputs": [
    {
     "name": "stdout",
     "output_type": "stream",
     "text": [
      "1\n",
      "cde\n",
      "abc\n",
      "4\n"
     ]
    }
   ],
   "source": [
    "def anagrams(a, b):\n",
    "    count = 0\n",
    "    if len(a) == len(b):\n",
    "        for ch in a:\n",
    "            if ch not in b:\n",
    "                count = count + 1\n",
    "        return (count + count)\n",
    "    else:\n",
    "        for ch in a:\n",
    "            if ch not in b:\n",
    "                count = count + 1\n",
    "        for ch in b:\n",
    "            if ch not in a:\n",
    "                count = count + 1\n",
    "        return count\n",
    "t = int(input())\n",
    "\n",
    "for i in range(t):\n",
    "    a = input()\n",
    "    b = input()\n",
    "    print(anagrams(a, b))"
   ]
  },
  {
   "cell_type": "code",
   "execution_count": 5,
   "metadata": {},
   "outputs": [
    {
     "name": "stdout",
     "output_type": "stream",
     "text": [
      "1\n",
      "12\n",
      "1 WS\n"
     ]
    }
   ],
   "source": [
    "T=int(input())\n",
    "#k=[]\n",
    "Di={0:\"WS\",1:\"WS\",2:\"MS\",3:\"AS\",6:\"WS\",5:\"MS\",4:\"AS\",7:\"WS\",8:\"MS\",9:\"AS\",11:\"MS\",10:\"AS\"}\n",
    "pos={1:12,2:11,3:10,4:9,5:8,6:7,7:6,8:5,9:4,10:3,11:2,12:1}\n",
    " \n",
    "for i in range(T):\n",
    "    n=int(input())\n",
    "    si=\"\"\n",
    "    p=n%12\n",
    "    if p<=6:\n",
    "        if p==0:\n",
    "            si=str(n-11)\n",
    "            si=si+\" \"+Di[p]\n",
    "        else:\n",
    "            si=str(n+(pos[p]-p))+\" \"+Di[p]\n",
    "    else:\n",
    "        si=str(n-(p-pos[p]))+\" \"+Di[p]\n",
    "    print(si)\n"
   ]
  },
  {
   "cell_type": "code",
   "execution_count": null,
   "metadata": {},
   "outputs": [],
   "source": []
  }
 ],
 "metadata": {
  "kernelspec": {
   "display_name": "Python 3",
   "language": "python",
   "name": "python3"
  },
  "language_info": {
   "codemirror_mode": {
    "name": "ipython",
    "version": 3
   },
   "file_extension": ".py",
   "mimetype": "text/x-python",
   "name": "python",
   "nbconvert_exporter": "python",
   "pygments_lexer": "ipython3",
   "version": "3.7.3"
  }
 },
 "nbformat": 4,
 "nbformat_minor": 2
}
