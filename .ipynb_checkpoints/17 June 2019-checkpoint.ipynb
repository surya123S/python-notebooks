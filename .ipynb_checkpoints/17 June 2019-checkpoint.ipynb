{
 "cells": [
  {
   "cell_type": "markdown",
   "metadata": {},
   "source": [
    "### Test on LEVEL_2 Programs\n",
    "### Total 4 Questions: Total MARKS : 30\n",
    "###  one question : 15 Marks\n",
    "### remaining question carrys 5 marks each"
   ]
  },
  {
   "cell_type": "markdown",
   "metadata": {},
   "source": [
    "### 1.  A Special Number is defined as a number which has atleast P distnict prime \n",
    "### Write a Program to determine whether a number N is a Special Number\n",
    "### INPUT FORMAT: \n",
    "### First Line: P\n",
    "### Second Line : T (Numbers of Test Cases)\n",
    "### Next T Lines: N\n",
    "### OUTPUT FORMAT : \n",
    "### For each test case Print YES or NO depending one the result.\n"
   ]
  },
  {
   "cell_type": "code",
   "execution_count": 10,
   "metadata": {},
   "outputs": [
    {
     "ename": "SyntaxError",
     "evalue": "invalid syntax (<ipython-input-10-8b056411a902>, line 21)",
     "output_type": "error",
     "traceback": [
      "\u001b[1;36m  File \u001b[1;32m\"<ipython-input-10-8b056411a902>\"\u001b[1;36m, line \u001b[1;32m21\u001b[0m\n\u001b[1;33m    numberofPrimeFactors(n):\u001b[0m\n\u001b[1;37m                            ^\u001b[0m\n\u001b[1;31mSyntaxError\u001b[0m\u001b[1;31m:\u001b[0m invalid syntax\n"
     ]
    }
   ],
   "source": [
    "# Function to determine if a number is special number or not\n",
    "def isSpecialNumber(n, p):\n",
    "    if numberOfPrimeFactots(n) >= p:\n",
    "        return True\n",
    "    return False\n",
    "# Function to check if number is prime\n",
    "def isPrime(n):\n",
    "    flag =1\n",
    "    if n ==2:\n",
    "        return True\n",
    "    for i in range(2, n//2+1):\n",
    "        if n % i == 0:\n",
    "            flag = 0\n",
    "            return False\n",
    "        if flag == 1:\n",
    "            return True\n",
    "n = int(input())\n",
    "isPrime(n)\n",
    "\n",
    "# Function to determine number of prime factors for a given number\n",
    "numberofPrimeFactors(n):\n",
    "    if isPrime(n):\n",
    "        return 1\n",
    "    count =0\n",
    "    for i range(2, n // 2 +1):\n",
    "        if isprime(i) and n % i == 0\n",
    "        count = count+1\n",
    "    return count\n",
    "n = int(input())\n",
    "numberofPrimeFactors(30)\n",
    "\n"
   ]
  },
  {
   "cell_type": "code",
   "execution_count": null,
   "metadata": {},
   "outputs": [],
   "source": []
  },
  {
   "cell_type": "code",
   "execution_count": null,
   "metadata": {},
   "outputs": [],
   "source": []
  },
  {
   "cell_type": "code",
   "execution_count": null,
   "metadata": {},
   "outputs": [],
   "source": []
  },
  {
   "cell_type": "code",
   "execution_count": null,
   "metadata": {},
   "outputs": [],
   "source": []
  },
  {
   "cell_type": "code",
   "execution_count": null,
   "metadata": {},
   "outputs": [],
   "source": []
  }
 ],
 "metadata": {
  "kernelspec": {
   "display_name": "Python 3",
   "language": "python",
   "name": "python3"
  },
  "language_info": {
   "codemirror_mode": {
    "name": "ipython",
    "version": 3
   },
   "file_extension": ".py",
   "mimetype": "text/x-python",
   "name": "python",
   "nbconvert_exporter": "python",
   "pygments_lexer": "ipython3",
   "version": "3.7.3"
  }
 },
 "nbformat": 4,
 "nbformat_minor": 2
}
