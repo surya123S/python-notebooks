{
 "cells": [
  {
   "cell_type": "markdown",
   "metadata": {},
   "source": [
    "### Day objectives\n",
    "- Python introduction\n",
    "- Installation and explanation of anaconda platform & jupyter notebook\n",
    "- keywords in python\n",
    "- variables declaration and data types"
   ]
  },
  {
   "cell_type": "markdown",
   "metadata": {},
   "source": [
    "- Guido van rossum\n"
   ]
  },
  {
   "cell_type": "markdown",
   "metadata": {},
   "source": [
    "### python features\n",
    "- open source\n",
    "- portable\n",
    "- python supports procedure & object oriented programming\n",
    "- easy syntax\n",
    "- Large no of built-in modules\n",
    "- high level language\n",
    "- Interpreted language"
   ]
  },
  {
   "cell_type": "markdown",
   "metadata": {},
   "source": [
    "#### Applications of python\n",
    "- Game Developmemnt\n",
    "- Web development\n",
    "- Networking\n",
    "- Data Science\n",
    "- Machine Learning"
   ]
  },
  {
   "cell_type": "markdown",
   "metadata": {},
   "source": [
    "#### Keywords"
   ]
  },
  {
   "cell_type": "code",
   "execution_count": 4,
   "metadata": {},
   "outputs": [
    {
     "name": "stdout",
     "output_type": "stream",
     "text": [
      "\n",
      "Welcome to Python 3.7's help utility!\n",
      "\n",
      "If this is your first time using Python, you should definitely check out\n",
      "the tutorial on the Internet at https://docs.python.org/3.7/tutorial/.\n",
      "\n",
      "Enter the name of any module, keyword, or topic to get help on writing\n",
      "Python programs and using Python modules.  To quit this help utility and\n",
      "return to the interpreter, just type \"quit\".\n",
      "\n",
      "To get a list of available modules, keywords, symbols, or topics, type\n",
      "\"modules\", \"keywords\", \"symbols\", or \"topics\".  Each module also comes\n",
      "with a one-line summary of what it does; to list the modules whose name\n",
      "or summary contain a given string such as \"spam\", type \"modules spam\".\n",
      "\n",
      "help> keywords\n",
      "\n",
      "Here is a list of the Python keywords.  Enter any keyword to get more help.\n",
      "\n",
      "False               class               from                or\n",
      "None                continue            global              pass\n",
      "True                def                 if                  raise\n",
      "and                 del                 import              return\n",
      "as                  elif                in                  try\n",
      "assert              else                is                  while\n",
      "async               except              lambda              with\n",
      "await               finally             nonlocal            yield\n",
      "break               for                 not                 \n",
      "\n",
      "help> quit\n",
      "\n",
      "You are now leaving help and returning to the Python interpreter.\n",
      "If you want to ask for help on a particular object directly from the\n",
      "interpreter, you can type \"help(object)\".  Executing \"help('string')\"\n",
      "has the same effect as typing a particular string at the help> prompt.\n"
     ]
    }
   ],
   "source": [
    "help()"
   ]
  },
  {
   "cell_type": "code",
   "execution_count": null,
   "metadata": {},
   "outputs": [
    {
     "name": "stdout",
     "output_type": "stream",
     "text": [
      "\n",
      "Welcome to Python 3.7's help utility!\n",
      "\n",
      "If this is your first time using Python, you should definitely check out\n",
      "the tutorial on the Internet at https://docs.python.org/3.7/tutorial/.\n",
      "\n",
      "Enter the name of any module, keyword, or topic to get help on writing\n",
      "Python programs and using Python modules.  To quit this help utility and\n",
      "return to the interpreter, just type \"quit\".\n",
      "\n",
      "To get a list of available modules, keywords, symbols, or topics, type\n",
      "\"modules\", \"keywords\", \"symbols\", or \"topics\".  Each module also comes\n",
      "with a one-line summary of what it does; to list the modules whose name\n",
      "or summary contain a given string such as \"spam\", type \"modules spam\".\n",
      "\n",
      "help> modules\n",
      "\n",
      "Please wait a moment while I gather a list of all available modules...\n",
      "\n"
     ]
    },
    {
     "name": "stderr",
     "output_type": "stream",
     "text": [
      "C:\\ProgramData\\Anaconda3\\lib\\site-packages\\IPython\\kernel\\__init__.py:13: ShimWarning: The `IPython.kernel` package has been deprecated since IPython 4.0.You should import from ipykernel or jupyter_client instead.\n",
      "  \"You should import from ipykernel or jupyter_client instead.\", ShimWarning)\n",
      "WARNING: AstropyDeprecationWarning: astropy.utils.compat.futures is now deprecated - use concurrent.futures instead [astropy.utils.compat.futures]\n",
      "C:\\ProgramData\\Anaconda3\\lib\\site-packages\\nltk\\twitter\\__init__.py:22: UserWarning: The twython library has not been installed. Some functionality from the twitter package will not be available.\n",
      "  \"The twython library has not been installed. \"\n"
     ]
    },
    {
     "name": "stdout",
     "output_type": "stream",
     "text": [
      "DEBUG:pip._internal.vcs:Registered VCS backend: git\n",
      "DEBUG:pip._internal.vcs:Registered VCS backend: hg\n",
      "DEBUG:pip._internal.vcs:Registered VCS backend: svn\n",
      "DEBUG:pip._internal.vcs:Registered VCS backend: bzr\n"
     ]
    },
    {
     "name": "stderr",
     "output_type": "stream",
     "text": [
      "C:\\ProgramData\\Anaconda3\\lib\\site-packages\\skimage\\novice\\__init__.py:103: UserWarning: The `skimage.novice` module was deprecated in version 0.14. It will be removed in 0.16.\n",
      "  warnings.warn(\"The `skimage.novice` module was deprecated in version 0.14. \"\n",
      "C:\\ProgramData\\Anaconda3\\lib\\site-packages\\skimage\\viewer\\utils\\core.py:10: UserWarning: Recommended matplotlib backend is `Agg` for full skimage.viewer functionality.\n",
      "  warn(\"Recommended matplotlib backend is `Agg` for full \"\n",
      "C:\\ProgramData\\Anaconda3\\lib\\site-packages\\sklearn\\externals\\joblib\\__init__.py:15: DeprecationWarning: sklearn.externals.joblib is deprecated in 0.21 and will be removed in 0.23. Please import this functionality directly from joblib, which can be installed with: pip install joblib. If this warning is raised when loading pickled models, you may need to re-serialize those models with scikit-learn 0.21+.\n",
      "  warnings.warn(msg, category=DeprecationWarning)\n",
      "C:\\ProgramData\\Anaconda3\\lib\\site-packages\\qtawesome\\iconic_font.py:276: UserWarning: You need to have a running QApplication to use QtAwesome!\n",
      "  warnings.warn(\"You need to have a running \"\n",
      "C:\\ProgramData\\Anaconda3\\lib\\pkgutil.py:107: VisibleDeprecationWarning: zmq.eventloop.minitornado is deprecated in pyzmq 14.0 and will be removed.\n",
      "    Install tornado itself to use zmq with the tornado IOLoop.\n",
      "    \n",
      "  yield from walk_packages(path, info.name+'.', onerror)\n"
     ]
    },
    {
     "name": "stdout",
     "output_type": "stream",
     "text": [
      "Crypto              builtins            menuinst            sockshandler\n",
      "Cython              bz2                 mimetypes           sortedcollections\n",
      "IPython             cProfile            mistune             sortedcontainers\n",
      "OpenSSL             calendar            mkl                 soupsieve\n",
      "PIL                 certifi             mkl_fft             sphinx\n",
      "PyQt5               cffi                mkl_random          sphinxcontrib\n",
      "__future__          cgi                 mmap                spyder\n",
      "_abc                cgitb               mmapfile            spyder_breakpoints\n",
      "_ast                chardet             mmsystem            spyder_io_dcm\n",
      "_asyncio            chunk               mock                spyder_io_hdf5\n",
      "_bisect             click               modulefinder        spyder_kernels\n",
      "_blake2             cloudpickle         more_itertools      spyder_profiler\n",
      "_bootlocale         clyent              mpmath              spyder_pylint\n",
      "_bz2                cmath               msgpack             sqlalchemy\n",
      "_cffi_backend       cmd                 msilib              sqlite3\n",
      "_codecs             code                msvcrt              sre_compile\n",
      "_codecs_cn          codecs              multipledispatch    sre_constants\n",
      "_codecs_hk          codeop              multiprocessing     sre_parse\n",
      "_codecs_iso2022     collections         navigator_updater   ssl\n",
      "_codecs_jp          colorama            nbconvert           sspi\n",
      "_codecs_kr          colorsys            nbformat            sspicon\n",
      "_codecs_tw          commctrl            netbios             stat\n",
      "_collections        compileall          netrc               statistics\n",
      "_collections_abc    comtypes            networkx            statsmodels\n",
      "_compat_pickle      concurrent          nltk                storemagic\n",
      "_compression        conda               nntplib             string\n",
      "_contextvars        conda_build         nose                stringprep\n",
      "_csv                conda_env           notebook            struct\n",
      "_ctypes             conda_package_handling nt                  subprocess\n",
      "_ctypes_test        conda_verify        ntpath              sunau\n",
      "_datetime           configparser        ntsecuritycon       symbol\n",
      "_decimal            contextlib          nturl2path          sympy\n",
      "_dummy_thread       contextlib2         numba               sympyprinting\n",
      "_elementtree        contextvars         numbers             symtable\n",
      "_functools          copy                numexpr             sys\n",
      "_hashlib            copyreg             numpy               sysconfig\n",
      "_heapq              crypt               numpydoc            tables\n",
      "_imp                cryptography        odbc                tabnanny\n",
      "_io                 csv                 olefile             tarfile\n",
      "_json               ctypes              opcode              tblib\n",
      "_locale             curl                openpyxl            telnetlib\n",
      "_lsprof             curses              operator            tempfile\n",
      "_lzma               cwp                 optparse            terminado\n",
      "_markupbase         cycler              os                  test\n",
      "_md5                cython              packaging           test_data\n",
      "_msi                cythonmagic         pandas              test_pycosat\n",
      "_multibytecodec     cytoolz             pandocfilters       testpath\n",
      "_multiprocessing    dask                parser              tests\n",
      "_nsis               dataclasses         parso               textwrap\n",
      "_opcode             datetime            partd               this\n",
      "_operator           dateutil            past                threading\n",
      "_osx_support        dbi                 path                time\n",
      "_overlapped         dbm                 pathlib             timeit\n",
      "_pickle             dde                 pathlib2            timer\n",
      "_py_abc             decimal             patsy               tkinter\n",
      "_pydecimal          decorator           pdb                 tlz\n",
      "_pyio               defusedxml          pep8                token\n",
      "_pylief             difflib             perfmon             tokenize\n",
      "_pyrsistent_version dis                 pickle              toolz\n",
      "_pytest             distributed         pickleshare         tornado\n",
      "_queue              distutils           pickletools         tqdm\n",
      "_random             doctest             pip                 trace\n",
      "_sha1               docutils            pipes               traceback\n",
      "_sha256             dummy_threading     pkg_resources       tracemalloc\n",
      "_sha3               easy_install        pkginfo             traitlets\n",
      "_sha512             email               pkgutil             tty\n",
      "_signal             encodings           platform            turtle\n",
      "_sitebuiltins       ensurepip           plistlib            turtledemo\n",
      "_socket             entrypoints         pluggy              types\n",
      "_sqlite3            enum                ply                 typing\n",
      "_sre                errno               poplib              unicodecsv\n",
      "_ssl                et_xmlfile          posixpath           unicodedata\n",
      "_stat               fastcache           pprint              unittest\n",
      "_string             faulthandler        profile             urllib\n",
      "_strptime           filecmp             prometheus_client   urllib3\n",
      "_struct             fileinput           prompt_toolkit      uu\n",
      "_symtable           filelock            pstats              uuid\n",
      "_system_path        flask               psutil              venv\n",
      "_testbuffer         fnmatch             pty                 warnings\n",
      "_testcapi           formatter           pvectorc            wave\n",
      "_testconsole        fractions           py                  wcwidth\n",
      "_testimportmultiple ftplib              py_compile          weakref\n",
      "_testmultiphase     functools           pyclbr              webbrowser\n",
      "_thread             future              pycodestyle         webencodings\n",
      "_threading_local    gc                  pycosat             werkzeug\n",
      "_tkinter            genericpath         pycparser           wheel\n",
      "_tracemalloc        getopt              pycurl              widgetsnbextension\n",
      "_warnings           getpass             pydoc               win2kras\n",
      "_weakref            gettext             pydoc_data          win32api\n",
      "_weakrefset         gevent              pyexpat             win32clipboard\n",
      "_win32sysloader     glob                pyflakes            win32com\n",
      "_winapi             glob2               pygments            win32con\n",
      "_winxptheme         greenlet            pylab               win32console\n",
      "_yaml               gzip                pylint              win32cred\n",
      "abc                 h5py                pyodbc              win32crypt\n",
      "adodbapi            hashlib             pyparsing           win32cryptcon\n",
      "afxres              heapdict            pyreadline          win32event\n",
      "aifc                heapq               pyrsistent          win32evtlog\n",
      "alabaster           hmac                pytest              win32evtlogutil\n",
      "anaconda_navigator  html                pytest_arraydiff    win32file\n",
      "anaconda_project    html5lib            pytest_doctestplus  win32gui\n",
      "antigravity         http                pytest_openfiles    win32gui_struct\n",
      "argparse            idlelib             pytest_remotedata   win32help\n",
      "array               idna                pythoncom           win32inet\n",
      "asn1crypto          imageio             pytz                win32inetcon\n",
      "ast                 imagesize           pywin               win32job\n",
      "astroid             imaplib             pywin32_testutil    win32lz\n",
      "astropy             imghdr              pywintypes          win32net\n",
      "asynchat            imp                 pywt                win32netcon\n",
      "asyncio             importlib           pyximport           win32pdh\n",
      "asyncore            importlib_metadata  qtawesome           win32pdhquery\n",
      "atexit              inspect             qtconsole           win32pdhutil\n",
      "atomicwrites        io                  qtpy                win32pipe\n",
      "attr                ipaddress           queue               win32print\n",
      "audioop             ipykernel           quopri              win32process\n",
      "autoreload          ipykernel_launcher  random              win32profile\n",
      "babel               ipython_genutils    rasutil             win32ras\n"
     ]
    },
    {
     "name": "stdout",
     "output_type": "stream",
     "text": [
      "backcall            ipywidgets          re                  win32rcparser\n",
      "backports           isapi               readline            win32security\n",
      "base64              isort               regcheck            win32service\n",
      "bdb                 isympy              regutil             win32serviceutil\n",
      "binascii            itertools           reprlib             win32timezone\n",
      "binhex              itsdangerous        requests            win32trace\n",
      "binstar_client      jdcal               rlcompleter         win32traceutil\n",
      "bisect              jedi                rmagic              win32transaction\n",
      "bitarray            jinja2              rope                win32ts\n",
      "bkcharts            joblib              ruamel_yaml         win32ui\n",
      "bleach              json                run                 win32uiole\n",
      "bokeh               json5               runpy               win32verstamp\n",
      "boto                jsonschema          sched               win32wnet\n",
      "bottleneck          jupyter             scipy               win_inet_pton\n",
      "brain_argparse      jupyter_client      scripts             win_unicode_console\n",
      "brain_attrs         jupyter_console     seaborn             wincertstore\n",
      "brain_builtin_inference jupyter_core        secrets             winerror\n",
      "brain_collections   jupyterlab          select              winioctlcon\n",
      "brain_curses        jupyterlab_server   selectors           winnt\n",
      "brain_dateutil      keyring             send2trash          winperf\n",
      "brain_fstrings      keyword             servicemanager      winpty\n",
      "brain_functools     kiwisolver          setuptools          winreg\n",
      "brain_gi            lazy_object_proxy   shelve              winsound\n",
      "brain_hashlib       lib2to3             shlex               winxpgui\n",
      "brain_http          libarchive          shutil              winxptheme\n",
      "brain_io            libfuturize         signal              wrapt\n",
      "brain_mechanize     libpasteurize       simplegeneric       wsgiref\n",
      "brain_multiprocessing lief                singledispatch      xdrlib\n",
      "brain_namedtuple_enum linecache           singledispatch_helpers xlrd\n",
      "brain_nose          llvmlite            sip                 xlsxwriter\n",
      "brain_numpy         locale              sipconfig           xlwings\n",
      "brain_pkg_resources locket              sipdistutils        xlwt\n",
      "brain_pytest        logging             site                xml\n",
      "brain_qt            lxml                six                 xmlrpc\n",
      "brain_random        lzma                skimage             xxsubtype\n",
      "brain_re            macpath             sklearn             yaml\n",
      "brain_six           mailbox             smtpd               zict\n",
      "brain_ssl           mailcap             smtplib             zipapp\n",
      "brain_subprocess    markupsafe          sndhdr              zipfile\n",
      "brain_threading     marshal             snowballstemmer     zipimport\n",
      "brain_typing        math                socket              zipp\n",
      "brain_uuid          matplotlib          socketserver        zlib\n",
      "bs4                 mccabe              socks               zmq\n",
      "\n",
      "Enter any module name to get more help.  Or, type \"modules spam\" to search\n",
      "for modules whose name or summary contain the string \"spam\".\n",
      "\n"
     ]
    }
   ],
   "source": [
    "help()"
   ]
  },
  {
   "cell_type": "code",
   "execution_count": 2,
   "metadata": {},
   "outputs": [
    {
     "data": {
      "text/plain": [
       "['False',\n",
       " 'None',\n",
       " 'True',\n",
       " 'and',\n",
       " 'as',\n",
       " 'assert',\n",
       " 'async',\n",
       " 'await',\n",
       " 'break',\n",
       " 'class',\n",
       " 'continue',\n",
       " 'def',\n",
       " 'del',\n",
       " 'elif',\n",
       " 'else',\n",
       " 'except',\n",
       " 'finally',\n",
       " 'for',\n",
       " 'from',\n",
       " 'global',\n",
       " 'if',\n",
       " 'import',\n",
       " 'in',\n",
       " 'is',\n",
       " 'lambda',\n",
       " 'nonlocal',\n",
       " 'not',\n",
       " 'or',\n",
       " 'pass',\n",
       " 'raise',\n",
       " 'return',\n",
       " 'try',\n",
       " 'while',\n",
       " 'with',\n",
       " 'yield']"
      ]
     },
     "execution_count": 2,
     "metadata": {},
     "output_type": "execute_result"
    }
   ],
   "source": [
    "# import moduleName\n",
    "import keyword\n",
    "#dir(keyword) # returns list functions & special attributes in module\n",
    "keyword.kwlist # moduleName.functionName"
   ]
  },
  {
   "cell_type": "markdown",
   "metadata": {},
   "source": [
    "### Comments in python"
   ]
  },
  {
   "cell_type": "code",
   "execution_count": 5,
   "metadata": {},
   "outputs": [
    {
     "name": "stdout",
     "output_type": "stream",
     "text": [
      "4\n"
     ]
    }
   ],
   "source": [
    "# single line comments\n",
    "'''print(1)\n",
    "print(2)\n",
    "print(3)''' # multi line comment\n",
    "print(4)"
   ]
  },
  {
   "cell_type": "code",
   "execution_count": 8,
   "metadata": {},
   "outputs": [
    {
     "name": "stdout",
     "output_type": "stream",
     "text": [
      "ghi\n"
     ]
    }
   ],
   "source": [
    "'''print(\"abc\")\n",
    "print(\"def\")'''\n",
    "print(\"ghi\")"
   ]
  },
  {
   "cell_type": "code",
   "execution_count": 7,
   "metadata": {
    "scrolled": true
   },
   "outputs": [
    {
     "data": {
      "text/plain": [
       "5"
      ]
     },
     "execution_count": 7,
     "metadata": {},
     "output_type": "execute_result"
    }
   ],
   "source": [
    "5"
   ]
  },
  {
   "cell_type": "markdown",
   "metadata": {},
   "source": [
    "### Variables declaration & Data Types"
   ]
  },
  {
   "cell_type": "code",
   "execution_count": 14,
   "metadata": {},
   "outputs": [
    {
     "name": "stdout",
     "output_type": "stream",
     "text": [
      "<class 'int'>\n",
      "<class 'str'>\n",
      "<class 'float'>\n",
      "<class 'str'>\n"
     ]
    }
   ],
   "source": [
    "# variableName = value\n",
    "sno = 1\n",
    "\n",
    "name = \"venkata gopi\"\n",
    "\n",
    "avg = 12.77\n",
    "\n",
    "'''print(sno)\n",
    "print(name)\n",
    "print(avg)'''\n",
    "\n",
    "print(type(sno))\n",
    "print(type(name))\n",
    "print(type(avg))\n",
    "\n",
    "print(type(\"a\"))"
   ]
  },
  {
   "cell_type": "code",
   "execution_count": 15,
   "metadata": {},
   "outputs": [
    {
     "data": {
      "text/plain": [
       "3"
      ]
     },
     "execution_count": 15,
     "metadata": {},
     "output_type": "execute_result"
    }
   ],
   "source": [
    "a = \"1\"\n",
    "\n",
    "b = \"2\"\n",
    "\n",
    "int(a) + int(b)"
   ]
  },
  {
   "cell_type": "code",
   "execution_count": 16,
   "metadata": {},
   "outputs": [
    {
     "data": {
      "text/plain": [
       "3.0"
      ]
     },
     "execution_count": 16,
     "metadata": {},
     "output_type": "execute_result"
    }
   ],
   "source": [
    "float(a) + float(b)"
   ]
  },
  {
   "cell_type": "code",
   "execution_count": 19,
   "metadata": {},
   "outputs": [
    {
     "name": "stdout",
     "output_type": "stream",
     "text": [
      "1\n",
      "ap\n",
      "333.3\n"
     ]
    }
   ],
   "source": [
    "a, b, c = 1,\"ap\", 333.3\n",
    "print(a)\n",
    "print(b)\n",
    "print(c)"
   ]
  },
  {
   "cell_type": "markdown",
   "metadata": {},
   "source": [
    "### Operators in python\n",
    "- Arthimetic operators(+, -, *, /, //, %, **)"
   ]
  },
  {
   "cell_type": "code",
   "execution_count": 26,
   "metadata": {},
   "outputs": [
    {
     "data": {
      "text/plain": [
       "64"
      ]
     },
     "execution_count": 26,
     "metadata": {},
     "output_type": "execute_result"
    }
   ],
   "source": [
    "2 + 4\n",
    "7 - 5\n",
    "9/5\n",
    "9 // 5\n",
    "6 % 4\n",
    "7 * 8\n",
    "8 ** 2"
   ]
  },
  {
   "cell_type": "markdown",
   "metadata": {},
   "source": [
    "- Assignment operators(=, +=, -=, * =, /=, //=, **=)"
   ]
  },
  {
   "cell_type": "code",
   "execution_count": 30,
   "metadata": {},
   "outputs": [
    {
     "data": {
      "text/plain": [
       "1.0"
      ]
     },
     "execution_count": 30,
     "metadata": {},
     "output_type": "execute_result"
    }
   ],
   "source": [
    "a = 1\n",
    "a += 1\n",
    "a -= 1\n",
    "a *= 5\n",
    "a /= 5\n",
    "a"
   ]
  },
  {
   "cell_type": "markdown",
   "metadata": {},
   "source": [
    "- Logical Operators(and, or, not)"
   ]
  },
  {
   "cell_type": "code",
   "execution_count": 38,
   "metadata": {},
   "outputs": [
    {
     "data": {
      "text/plain": [
       "False"
      ]
     },
     "execution_count": 38,
     "metadata": {},
     "output_type": "execute_result"
    }
   ],
   "source": [
    "True and True\n",
    "True or False\n",
    "not True"
   ]
  },
  {
   "cell_type": "markdown",
   "metadata": {},
   "source": [
    "- Bitwise opeartors(&, |, ^)"
   ]
  },
  {
   "cell_type": "code",
   "execution_count": 41,
   "metadata": {},
   "outputs": [
    {
     "data": {
      "text/plain": [
       "1"
      ]
     },
     "execution_count": 41,
     "metadata": {},
     "output_type": "execute_result"
    }
   ],
   "source": [
    "2 & 3 # 0010 & 0011 = 0010\n",
    "2 | 3 # 0011\n",
    "2 ^ 3 # 0001"
   ]
  },
  {
   "cell_type": "markdown",
   "metadata": {},
   "source": [
    "- Shift operators(>>, <<)"
   ]
  },
  {
   "cell_type": "code",
   "execution_count": null,
   "metadata": {},
   "outputs": [],
   "source": [
    "2 >> 1\n",
    "5 << 3"
   ]
  }
 ],
 "metadata": {
  "kernelspec": {
   "display_name": "Python 3",
   "language": "python",
   "name": "python3"
  },
  "language_info": {
   "codemirror_mode": {
    "name": "ipython",
    "version": 3
   },
   "file_extension": ".py",
   "mimetype": "text/x-python",
   "name": "python",
   "nbconvert_exporter": "python",
   "pygments_lexer": "ipython3",
   "version": "3.7.3"
  }
 },
 "nbformat": 4,
 "nbformat_minor": 2
}
