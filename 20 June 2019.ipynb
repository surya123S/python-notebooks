{
 "cells": [
  {
   "cell_type": "markdown",
   "metadata": {},
   "source": [
    "### Regular Expressions\n",
    "- Pattern Matching\n",
    "- Symbolic Notation of a Pattern\n",
    "    - Pattern: fornmat which repeats (seqence of events or charecters)\n",
    "    - Pattern (RE): - The Set of all strings matches that pattern\n",
    "    - Example: [0-9]      --> any Digit\n",
    "               [a-z]      --> Any Lower case alphabet\n",
    "               [2468]     --> All single digit multiples of 2\n",
    "             - ^[0-9]{1}$ --> Only Single digit numbers\n",
    "             -  [0-9] *0 $  ---> all multiples of 0\n",
    "             -  [0-9] {3}$ --> only three digit numbers\n",
    "             -  [0-9] *0$ or \n",
    "             \n",
    "             \n",
    "             \n",
    "             \n",
    "             -> Email Validation : Syntax: ( username@domain.extension)   \n",
    "             Syntax:   ^[0-9a-z][0-9a-z_.]{4,13}@[0-9a-z]{3,8}.[a-z]{2,4}$ \n",
    "                                 (or)\n",
    "                       ^[0-9a-z][0-9a-z_.]{4,13}[0-9a-z][@][a-z0-9]{3,8}[.][a-z]{2,4}$\n",
    "             - username   Syntax ::  ^[0-9a-z][0-9a-z_.]{4,13}[0-9a-z]$\n",
    "                  - maximum of 15 charecters\n",
    "                  - Length of username : [6,15]   #[min,max]\n",
    "                  - No special charecters other than_.\n",
    "                  - Should not begin and end with _ .\n",
    "                  - Charcter Set : all digits and alphabet\n",
    "             -domain\n",
    "                  - Length of domain   : [3, 18]\n",
    "                  - No special Charecters\n",
    "                  - Chatecter Set : all digits and alphabet\n",
    "             -extension\n",
    "                  - Length of extension : [2, 4]\n",
    "                  - No special Charecters\n",
    "                  - Charecter Set : alphabet\n",
    "              Any String of any lenght that starts with 'a' and end with 'z'  RE: ^[a].*[z]$  ^[a]...[z]$"
   ]
  },
  {
   "cell_type": "code",
   "execution_count": 7,
   "metadata": {},
   "outputs": [
    {
     "data": {
      "text/plain": [
       "True"
      ]
     },
     "execution_count": 7,
     "metadata": {},
     "output_type": "execute_result"
    }
   ],
   "source": [
    "#Function to validate a phone number\n",
    "import re         #re is the Regular Expression Library in python\n",
    "def phonenumberValidator(number):\n",
    "    pattern = '^[6-9][0-9]{9}$|^[0][6-9][0-9]{9}^[+][9][1]$'   \n",
    "    if re.match(pattern , str(number)):\n",
    "        return True\n",
    "    else:\n",
    "        return False\n",
    "phonenumberValidator(+918328401910)\n",
    "def emailValidator(email):\n",
    "    pattern =  \"^[0-9a-z][0-9a-z_.]{4,13}[0-9a-z][@][a-z0-9]{3,8}[.][a-z]{2,4}$\"\n",
    "    if re.match(pattern,email):\n",
    "        return True\n",
    "    else:\n",
    "        return False\n",
    "emailValidator('karanam.s@apssdc.in')\n"
   ]
  },
  {
   "cell_type": "markdown",
   "metadata": {},
   "source": [
    "###  File Handling\n",
    " File - Document containing information residing\n",
    " Types - Text ,PDF, CSV etc\n",
    " File I/O - Channeling I/O data to files\n",
    " Default I/O channels - Keyboard / Screen\n",
    " Change I/O channel to files for Reading and writing\n",
    " Read a file - Input from file\n",
    " Write to a file - Output to a file\n",
    " Read / Write a file -open (filename, mode)\n",
    " "
   ]
  },
  {
   "cell_type": "code",
   "execution_count": 9,
   "metadata": {},
   "outputs": [
    {
     "name": "stdout",
     "output_type": "stream",
     "text": [
      "Surya\n",
      "Surya\n",
      "Surya\n"
     ]
    }
   ],
   "source": [
    "# Function to read a file\n",
    "def readFile(filename):\n",
    "    f = open(filename,\"r\")\n",
    "    filedata = f.read()\n",
    "    f.close()\n",
    "    return filedata\n",
    "filename  = 'DataFiles/data.txt'\n",
    "filedata  = readFile(filename)\n",
    "for line in filedata.split('\\n'):\n",
    "    print(line)\n",
    "    \n"
   ]
  },
  {
   "cell_type": "code",
   "execution_count": 24,
   "metadata": {},
   "outputs": [
    {
     "name": "stdout",
     "output_type": "stream",
     "text": [
      "Surya\n",
      "Surya\n",
      "SuryaSurya\n",
      "Surya\n",
      "Surya\n"
     ]
    }
   ],
   "source": [
    "def printFileDataLines(filename):\n",
    "    with open(filename, 'r') as f:\n",
    "        for line in f:\n",
    "            print(line, end=\"\")\n",
    "    return\n",
    "printFileDataLines(filename)\n",
    "print(readFile(filename))"
   ]
  },
  {
   "cell_type": "code",
   "execution_count": 29,
   "metadata": {},
   "outputs": [],
   "source": [
    "# Function to write data into a file\n",
    "def writeInfoFile(filename, filedata):\n",
    "    with open(filename, 'w') as f:\n",
    "        f.write(filedata)\n",
    "    return\n",
    "filename = 'DataFiles/data.txt'\n",
    "\n",
    "writeIntoFile(filename, \"Hi, Surya\")\n",
    "\n",
    "        \n",
    "    \n"
   ]
  },
  {
   "cell_type": "code",
   "execution_count": null,
   "metadata": {},
   "outputs": [],
   "source": []
  },
  {
   "cell_type": "code",
   "execution_count": 37,
   "metadata": {},
   "outputs": [],
   "source": [
    "#Function to append data to file\n",
    "def appendDataToFile(filename, filedata):\n",
    "    with open(filename, 'a') as f:\n",
    "        for line in filedata:\n",
    "            f.write('\\n'+line)\n",
    "    return\n",
    "filedata = [\"Line4\", \"Line5\"]\n",
    "appendDataToFile(filename, filedata)"
   ]
  },
  {
   "cell_type": "code",
   "execution_count": null,
   "metadata": {},
   "outputs": [],
   "source": []
  }
 ],
 "metadata": {
  "kernelspec": {
   "display_name": "Python 3",
   "language": "python",
   "name": "python3"
  },
  "language_info": {
   "codemirror_mode": {
    "name": "ipython",
    "version": 3
   },
   "file_extension": ".py",
   "mimetype": "text/x-python",
   "name": "python",
   "nbconvert_exporter": "python",
   "pygments_lexer": "ipython3",
   "version": "3.7.3"
  }
 },
 "nbformat": 4,
 "nbformat_minor": 2
}
